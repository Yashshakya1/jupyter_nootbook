{
 "cells": [
  {
   "cell_type": "markdown",
   "id": "ff71ee57-2fdd-4474-91ce-9ed1dee2af5c",
   "metadata": {},
   "source": [
    "# opps"
   ]
  },
  {
   "cell_type": "raw",
   "id": "961bd174-96ba-44d8-8f97-85d722d0d309",
   "metadata": {},
   "source": [
    "class:- is a blue print or template for creating a object \n",
    "object:- object are the actual instance of a class"
   ]
  },
  {
   "cell_type": "code",
   "execution_count": 3,
   "id": "c92c8fad-501e-4c10-9017-7af029dcdd8c",
   "metadata": {},
   "outputs": [
    {
     "name": "stdout",
     "output_type": "stream",
     "text": [
      "the station name is [bhopal] and there are [6] platforms\n",
      "the station name is [indore] and there are [6] platforms\n",
      "the station name is [sehore] and there are [2] platforms\n"
     ]
    }
   ],
   "source": [
    "class stations:\n",
    "    def sta_details(self,name,platform_num):\n",
    "        self.name = name\n",
    "        self.platform_num = platform_num\n",
    "    def show_details(self):\n",
    "        print(f'the station name is [{self.name}] and there are [{self.platform_num}] platforms')\n",
    "sta_one =stations()\n",
    "sta_one.sta_details('bhopal',6)\n",
    "sta_two =stations()\n",
    "sta_two.sta_details('indore',6)\n",
    "sta_three =stations()\n",
    "sta_three.sta_details('sehore',2)\n",
    "\n",
    "sta_one.show_details()\n",
    "sta_two.show_details()\n",
    "sta_three.show_details()"
   ]
  },
  {
   "cell_type": "markdown",
   "id": "42b9b3cf-6efe-48a3-9e95-e20cd183b81e",
   "metadata": {},
   "source": [
    "# self "
   ]
  },
  {
   "cell_type": "raw",
   "id": "7217df54-c886-480e-9a22-628a5bdc9968",
   "metadata": {},
   "source": [
    "self is used as the first parameter in instance methods to refer to the current object. It allows methods within the class to access and modify the object's attributes, making each object independent of others."
   ]
  },
  {
   "cell_type": "code",
   "execution_count": 4,
   "id": "73d2cb01-01fe-4438-9232-82b218abc1a5",
   "metadata": {},
   "outputs": [
    {
     "name": "stdout",
     "output_type": "stream",
     "text": [
      "yash 21\n"
     ]
    }
   ],
   "source": [
    "class student:\n",
    "    def details(self,name,age):\n",
    "        self.name = name\n",
    "        self.age = age\n",
    "obj = student()\n",
    "obj.details(\"yash\",21)\n",
    "print(obj.name,obj.age)"
   ]
  },
  {
   "cell_type": "markdown",
   "id": "bd79cb03-ab84-45c5-a661-d277c8de0fed",
   "metadata": {},
   "source": [
    "# constructor "
   ]
  },
  {
   "cell_type": "markdown",
   "id": "b97b6f7f-9540-4064-ad16-e4e8f02a5af5",
   "metadata": {},
   "source": [
    "constructor is a special method which is called automatically when you created a object from the class\n",
    "this is used to method intitialize automathically for ex"
   ]
  },
  {
   "cell_type": "code",
   "execution_count": 10,
   "id": "46b02f74-d60f-4b84-babc-051925ba43dc",
   "metadata": {},
   "outputs": [
    {
     "name": "stdout",
     "output_type": "stream",
     "text": [
      "kinjal 2 year jarman shafed dog\n",
      "river 4 month golden retriver\n"
     ]
    }
   ],
   "source": [
    "class dog:\n",
    "    def __init__(self,name,age,bread):\n",
    "        self.name = name\n",
    "        self.age = age\n",
    "        self.bread = bread\n",
    "dog1 = dog(\"kinjal\",'2 year','jarman shafed dog')\n",
    "dog2 = dog('river','4 month','golden retriver')\n",
    "print(dog1.name,dog1.age,dog1.bread)\n",
    "print(dog2.name,dog2.age,dog2.bread)"
   ]
  },
  {
   "cell_type": "raw",
   "id": "f6b59e72-b54b-471e-af23-96f050ecf973",
   "metadata": {},
   "source": [
    "there are three(3) types of constructor\n",
    "1. default constructor(self)\n",
    "2. parameterized constructor(name,age, and etc)\n",
    "3. constructor with default values(self,name = 'unknown',age = 0)"
   ]
  },
  {
   "cell_type": "markdown",
   "id": "bead64e4-46c2-4a2e-9270-059a3f3325e8",
   "metadata": {},
   "source": [
    "# polymorphism "
   ]
  },
  {
   "cell_type": "code",
   "execution_count": 3,
   "id": "f6f5b083-0127-4c36-878f-ddf17df5769c",
   "metadata": {},
   "outputs": [
    {
     "name": "stdout",
     "output_type": "stream",
     "text": [
      "crows sound like cow cow \n",
      "parrot sound like speaking human language\n"
     ]
    }
   ],
   "source": [
    "class bird():\n",
    "    def sound(self):\n",
    "        print(\"birds are sound \")\n",
    "class crows(bird):\n",
    "    def sound(self):\n",
    "        print(\"crows sound like cow cow \")\n",
    "class parrot(bird):\n",
    "    def sound(self):\n",
    "        print(\"parrot sound like speaking human language\")\n",
    "\n",
    "birds = crows()\n",
    "birds1 = parrot()\n",
    "birds.sound()\n",
    "birds1.sound()"
   ]
  },
  {
   "cell_type": "code",
   "execution_count": 5,
   "id": "3b133c80-e6c4-4f70-8871-2af12a5481f3",
   "metadata": {},
   "outputs": [
    {
     "name": "stdout",
     "output_type": "stream",
     "text": [
      "car are Drive\n",
      "bike are Drive \n",
      "boat is always drive becaues totally control of boat by the  op.boat\n"
     ]
    }
   ],
   "source": [
    "class car:\n",
    "    def __init__(self,model,brand):\n",
    "        self.model = model\n",
    "        self.brand = brand\n",
    "    def move(self):\n",
    "        print(\"car are Drive\")\n",
    "class bike:\n",
    "    def __init__(self,model,brand):\n",
    "        self.model = model\n",
    "        self.brand = brand\n",
    "    def move(self):\n",
    "        print(\"bike are Drive \")\n",
    "class boat:\n",
    "    def __init__(self,model,brand):\n",
    "        self.model = model\n",
    "        self.brand = brand\n",
    "    def move(self):\n",
    "        print(\"boat is always drive becaues totally control of boat by the  op.boat\")\n",
    "car1 = car(\"gtr\",\"nisan\")\n",
    "bike1 =bike(\"h2r\",\"kawasaki\")\n",
    "boat1 = boat(\"x2\",\"x3\")\n",
    "for x in (car1,bike1,boat1):\n",
    "    x.move()\n"
   ]
  }
 ],
 "metadata": {
  "kernelspec": {
   "display_name": "Python 3 (ipykernel)",
   "language": "python",
   "name": "python3"
  },
  "language_info": {
   "codemirror_mode": {
    "name": "ipython",
    "version": 3
   },
   "file_extension": ".py",
   "mimetype": "text/x-python",
   "name": "python",
   "nbconvert_exporter": "python",
   "pygments_lexer": "ipython3",
   "version": "3.12.7"
  }
 },
 "nbformat": 4,
 "nbformat_minor": 5
}
