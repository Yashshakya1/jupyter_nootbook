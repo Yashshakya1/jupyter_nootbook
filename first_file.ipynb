{
 "cells": [
  {
   "cell_type": "markdown",
   "id": "46feba78-4244-4be6-b8cc-afb229eee956",
   "metadata": {},
   "source": [
    "#heading"
   ]
  },
  {
   "cell_type": "code",
   "execution_count": 1,
   "id": "33059be8-bf48-4323-9571-d4d007293ce6",
   "metadata": {},
   "outputs": [
    {
     "name": "stdout",
     "output_type": "stream",
     "text": [
      "this is my new reprositry for python nootbook\n"
     ]
    },
    {
     "name": "stdin",
     "output_type": "stream",
     "text": [
      "enter your number 5\n",
      "enter your secand number 4\n"
     ]
    },
    {
     "name": "stdout",
     "output_type": "stream",
     "text": [
      "this is the final result 9\n"
     ]
    }
   ],
   "source": [
    "print(\"this is my new reprositry for python nootbook\")\n",
    "a = int(input(\"enter your number\"))\n",
    "b = int(input(\"enter your secand number\"))\n",
    "print(\"this is the final result\",a+b)"
   ]
  },
  {
   "cell_type": "code",
   "execution_count": null,
   "id": "8f65244b-6a69-48bb-852f-04a0047fc374",
   "metadata": {},
   "outputs": [],
   "source": []
  }
 ],
 "metadata": {
  "kernelspec": {
   "display_name": "Python 3 (ipykernel)",
   "language": "python",
   "name": "python3"
  },
  "language_info": {
   "codemirror_mode": {
    "name": "ipython",
    "version": 3
   },
   "file_extension": ".py",
   "mimetype": "text/x-python",
   "name": "python",
   "nbconvert_exporter": "python",
   "pygments_lexer": "ipython3",
   "version": "3.12.7"
  }
 },
 "nbformat": 4,
 "nbformat_minor": 5
}
