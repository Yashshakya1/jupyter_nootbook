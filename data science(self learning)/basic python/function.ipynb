{
 "cells": [
  {
   "cell_type": "markdown",
   "id": "0904412c-1147-43f9-b207-d797cb600b05",
   "metadata": {},
   "source": [
    "# function create and calling"
   ]
  },
  {
   "cell_type": "code",
   "execution_count": 2,
   "id": "a2600a90-6e3f-4de5-973b-fb14b19a59e6",
   "metadata": {},
   "outputs": [
    {
     "name": "stdout",
     "output_type": "stream",
     "text": [
      "Hello from a function\n"
     ]
    }
   ],
   "source": [
    "def my_function():\n",
    "  print(\"Hello from a function\")\n",
    "\n",
    "my_function()"
   ]
  },
  {
   "cell_type": "markdown",
   "id": "7f761c54-6b4b-469f-b847-eebcb57dc34d",
   "metadata": {},
   "source": [
    "# create argument "
   ]
  },
  {
   "cell_type": "code",
   "execution_count": 17,
   "id": "77c77deb-3279-478d-90e4-9aaf979a00c9",
   "metadata": {},
   "outputs": [
    {
     "name": "stdout",
     "output_type": "stream",
     "text": [
      "Emil Refsnes\n",
      "Tobias Refsnes\n",
      "Linus Refsnes\n"
     ]
    }
   ],
   "source": [
    "def my_function(fname):\n",
    "  print(fname + \" Refsnes\")\n",
    "\n",
    "my_function(\"Emil\")\n",
    "my_function(\"Tobias\")\n",
    "my_function(\"Linus\")"
   ]
  },
  {
   "cell_type": "code",
   "execution_count": 22,
   "id": "ce2e76f2-54c8-4a81-8e3b-020ae664604d",
   "metadata": {},
   "outputs": [
    {
     "name": "stdin",
     "output_type": "stream",
     "text": [
      "enter your date of birth:- 200\n"
     ]
    },
    {
     "name": "stdout",
     "output_type": "stream",
     "text": [
      "this is my current age := 1825\n"
     ]
    }
   ],
   "source": [
    "def age(year):\n",
    "     current_year =2025\n",
    "     ages = current_year - year\n",
    "     return ages\n",
    "result = age(int(input(\"enter your date of birth:-\")))\n",
    "print(f'this is my current age := {result}')"
   ]
  },
  {
   "cell_type": "markdown",
   "id": "83c250eb-4c7a-420f-af6e-1f0967cc35ea",
   "metadata": {},
   "source": [
    "# types of argument "
   ]
  },
  {
   "cell_type": "markdown",
   "id": "3416a9a9-eac4-4557-a375-44208a79d73a",
   "metadata": {},
   "source": [
    "1. Default arguments\n",
    "2. Keyword arguments\n",
    "3. Positional arguments\n",
    "4. Arbitrary positional arguments(*parameters) (Variable-length arguments are also known as arbitrary arguments.)\n",
    "{ For arbitrary positional argument, an asterisk (*) is placed before a parameter in function definition which can hold non-keyword variable-length arguments. These arguments will be wrapped up in a tuple.}\n",
    "5. Arbitrary keyword arguments(**parameters)\n",
    " "
   ]
  },
  {
   "cell_type": "code",
   "execution_count": 32,
   "id": "c3cc11d0-381b-4c43-b3dc-b2049c2ea08a",
   "metadata": {},
   "outputs": [
    {
     "name": "stdout",
     "output_type": "stream",
     "text": [
      "15\n",
      "64\n"
     ]
    }
   ],
   "source": [
    "def add(*b):\n",
    "    result=0\n",
    "    for i in b:\n",
    "        result = result + i\n",
    "    return result\n",
    "print(add(1,2,3,4,5))\n",
    "print(add(10,54))"
   ]
  },
  {
   "cell_type": "code",
   "execution_count": 2,
   "id": "f5d5ca47-e337-4723-b04e-4bbfad0d301a",
   "metadata": {},
   "outputs": [
    {
     "name": "stdout",
     "output_type": "stream",
     "text": [
      "{'colour': 'blue', 'number': 18, 'proglang': 'python', 'game': 'basketball', 'pie': 3.14}\n",
      "<class 'dict'>\n",
      "('colour', 'blue')\n",
      "('number', 18)\n",
      "('proglang', 'python')\n",
      "('game', 'basketball')\n",
      "('pie', 3.14)\n"
     ]
    }
   ],
   "source": [
    "def fu (**a):\n",
    "    print(a)\n",
    "    print(type(a))\n",
    "    for i in a.items():\n",
    "        print(i)\n",
    "fu(colour = \"blue\", number = 18, proglang = \"python\" , game = \"basketball\" , pie = 3.14)\n"
   ]
  },
  {
   "cell_type": "markdown",
   "id": "e0140f3c-c3c0-4f7a-a9fc-56e2517f28ec",
   "metadata": {},
   "source": [
    "1. Use positional-only if you want the name of the parameters to not be available to the user. This is useful when          parameter names have no real meaning.\n",
    "2. Use positional-only if you want to enforce the order of the arguments when the function is called.\n",
    "3. Use keyword-only when names have meaning and the function definition is more understandable by being explicit with       names.\n",
    "4. Use keyword-only when you want to prevent users from relying on the position of the argument being passed.   \n",
    "   Frequently Asked Que"
   ]
  },
  {
   "cell_type": "markdown",
   "id": "8fd51897-0553-42f6-9db1-478631f50060",
   "metadata": {},
   "source": [
    "# lambda function"
   ]
  },
  {
   "cell_type": "markdown",
   "id": "b2aca6e1-f18a-4b5f-b24c-197cee4a10db",
   "metadata": {},
   "source": [
    "Python Lambda Functions are anonymous functions means that the function is without a name. As we already know the def keyword is used to define a normal function in Python. Similarly, the lambda keyword is used to define an anonymous function in Python. "
   ]
  },
  {
   "cell_type": "code",
   "execution_count": 4,
   "id": "acd873e2-5b6e-4d1f-a810-7d083f13f1d8",
   "metadata": {},
   "outputs": [
    {
     "name": "stdout",
     "output_type": "stream",
     "text": [
      "MINDCRAFT\n",
      "10\n"
     ]
    }
   ],
   "source": [
    "s1 = 'mindcraft'\n",
    "s2 = lambda func: func.upper()\n",
    "print(s2(s1))\n",
    "\n",
    "cube = lambda x: x*2\n",
    "print(cube(5))"
   ]
  },
  {
   "cell_type": "markdown",
   "id": "8dd2c912-773e-4d15-9aa9-d3f9fe24b698",
   "metadata": {},
   "source": [
    "# map function"
   ]
  },
  {
   "cell_type": "markdown",
   "id": "f9157996-f0bd-4cca-a1e5-be4141d22796",
   "metadata": {},
   "source": [
    "The map() function is used to apply a given function to every item of an iterable, such as a list or tuple, and returns a map object (which is an iterator)."
   ]
  },
  {
   "cell_type": "code",
   "execution_count": null,
   "id": "14417433-685f-4259-be23-195c2d5f1717",
   "metadata": {},
   "outputs": [],
   "source": [
    "def cube(x):\n",
    "     return x*3*3*3\n",
    "li = []\n",
    "print(li)\n",
    "new_li = map(age,li)\n",
    "print(new_liw)"
   ]
  },
  {
   "cell_type": "code",
   "execution_count": null,
   "id": "c40c97d5-4bbe-464b-ba11-f8bc3b794c76",
   "metadata": {},
   "outputs": [],
   "source": [
    "sum_ = lambda x,y: x+y\n",
    "result = map(sum(2,2),5,5) "
   ]
  }
 ],
 "metadata": {
  "kernelspec": {
   "display_name": "Python 3 (ipykernel)",
   "language": "python",
   "name": "python3"
  },
  "language_info": {
   "codemirror_mode": {
    "name": "ipython",
    "version": 3
   },
   "file_extension": ".py",
   "mimetype": "text/x-python",
   "name": "python",
   "nbconvert_exporter": "python",
   "pygments_lexer": "ipython3",
   "version": "3.12.7"
  },
  "panel-cell-order": [
   "253fa3e0-a4e7-4ad7-883c-f16daf9c52a7",
   "eba039e4-cef0-46f3-9f6f-81c417a77b63",
   "28cfb10a-2c16-40f3-9203-16af4f703a4e",
   "99499dcf-4a63-4e49-b134-9bc326363394"
  ]
 },
 "nbformat": 4,
 "nbformat_minor": 5
}
