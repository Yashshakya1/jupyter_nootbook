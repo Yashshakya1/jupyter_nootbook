{
 "cells": [
  {
   "cell_type": "markdown",
   "id": "3aa58847-137d-418b-bc5c-5ac4473f663e",
   "metadata": {},
   "source": [
    "#string slicing"
   ]
  },
  {
   "cell_type": "code",
   "execution_count": 2,
   "id": "ff55639f-3b63-440b-ac61-792536331d55",
   "metadata": {},
   "outputs": [
    {
     "name": "stdout",
     "output_type": "stream",
     "text": [
      "yash sha\n"
     ]
    }
   ],
   "source": [
    "str = \"yash shakya\"\n",
    "print(str[:8])"
   ]
  },
  {
   "cell_type": "code",
   "execution_count": 7,
   "id": "2c4cffb7-11d6-4c84-8c81-47e086e0d668",
   "metadata": {},
   "outputs": [
    {
     "name": "stdout",
     "output_type": "stream",
     "text": [
      " shaky\n"
     ]
    }
   ],
   "source": [
    "str = \"kinjal shakya\"\n",
    "print(str[-7:-1])"
   ]
  },
  {
   "cell_type": "markdown",
   "id": "9a468ce6-b522-4a2d-98c1-58762846146d",
   "metadata": {},
   "source": [
    "#string method\n",
    "1. replace function"
   ]
  },
  {
   "cell_type": "code",
   "execution_count": 17,
   "id": "51a064b1-1281-4ede-b70c-028b22996328",
   "metadata": {},
   "outputs": [
    {
     "name": "stdout",
     "output_type": "stream",
     "text": [
      "dog\n"
     ]
    }
   ],
   "source": [
    "str = \"cat\"\n",
    "print(str.replace(str,\"dog\"))"
   ]
  },
  {
   "cell_type": "code",
   "execution_count": 18,
   "id": "6d38f83b-6e4e-4b3f-bb40-60ac130c2f65",
   "metadata": {},
   "outputs": [
    {
     "name": "stdin",
     "output_type": "stream",
     "text": [
      "enter your name:- yash\n",
      "enter your change name:- niha\n"
     ]
    },
    {
     "name": "stdout",
     "output_type": "stream",
     "text": [
      "niha\n"
     ]
    }
   ],
   "source": [
    "str = input(\"enter your name:-\")\n",
    "str_change = input(\"enter your change name:-\")\n",
    "print(str.replace(str,str_change))"
   ]
  },
  {
   "cell_type": "markdown",
   "id": "9fdd9b5f-151f-4d14-99c2-7e56eb35c815",
   "metadata": {},
   "source": [
    "2. startswith and endswiths"
   ]
  },
  {
   "cell_type": "code",
   "execution_count": 24,
   "id": "dc588992-cb3e-4229-93ea-0de4f112c730",
   "metadata": {},
   "outputs": [
    {
     "name": "stdin",
     "output_type": "stream",
     "text": [
      "enter your name:- yash\n"
     ]
    },
    {
     "name": "stdout",
     "output_type": "stream",
     "text": [
      "True\n",
      "True\n"
     ]
    }
   ],
   "source": [
    "str = input(\"enter your name:-\")\n",
    "print(str.startswith(\"ya\"))\n",
    "print(str.endswith(\"sh\"))"
   ]
  }
 ],
 "metadata": {
  "kernelspec": {
   "display_name": "Python 3 (ipykernel)",
   "language": "python",
   "name": "python3"
  },
  "language_info": {
   "codemirror_mode": {
    "name": "ipython",
    "version": 3
   },
   "file_extension": ".py",
   "mimetype": "text/x-python",
   "name": "python",
   "nbconvert_exporter": "python",
   "pygments_lexer": "ipython3",
   "version": "3.12.7"
  },
  "panel-cell-order": [
   "253fa3e0-a4e7-4ad7-883c-f16daf9c52a7",
   "eba039e4-cef0-46f3-9f6f-81c417a77b63",
   "28cfb10a-2c16-40f3-9203-16af4f703a4e",
   "99499dcf-4a63-4e49-b134-9bc326363394"
  ]
 },
 "nbformat": 4,
 "nbformat_minor": 5
}
