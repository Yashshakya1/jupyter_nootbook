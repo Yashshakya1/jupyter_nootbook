{
 "cells": [
  {
   "cell_type": "markdown",
   "id": "74658630-02f3-458d-b357-89b09951282f",
   "metadata": {},
   "source": [
    "# loops"
   ]
  },
  {
   "cell_type": "markdown",
   "id": "2a1ee238-3809-4400-96c6-6a0ce81d94a6",
   "metadata": {},
   "source": [
    "- there are three types of loops\n",
    "1. while loop\n",
    "2. for loop"
   ]
  },
  {
   "cell_type": "markdown",
   "id": "b981730b-2c34-45f0-b53e-ede88440582e",
   "metadata": {},
   "source": [
    "# while loop"
   ]
  },
  {
   "cell_type": "code",
   "execution_count": 16,
   "id": "b64a86dd-e0b1-470b-9193-630570e55792",
   "metadata": {},
   "outputs": [
    {
     "name": "stdout",
     "output_type": "stream",
     "text": [
      "☝️💜\n",
      "----\n",
      "☝️💜\n",
      "----\n"
     ]
    }
   ],
   "source": [
    "i = 1\n",
    "while(i<5):\n",
    "    print(\"☝️💜\")\n",
    "    print(\"----\")\n",
    "    i+=2\n",
    "    "
   ]
  },
  {
   "cell_type": "code",
   "execution_count": 20,
   "id": "347178a5-e3e9-4c87-8bf0-451706480345",
   "metadata": {},
   "outputs": [
    {
     "name": "stdout",
     "output_type": "stream",
     "text": [
      "yash\n",
      "5\n",
      "5.25\n",
      "ok bro\n"
     ]
    }
   ],
   "source": [
    "li = [\"yash\",5,5.25,\"ok bro\"]\n",
    "i = 0\n",
    "while(i<len(li)):  # 0 < 4\n",
    "    print(li[i])\n",
    "    i = i+1"
   ]
  },
  {
   "cell_type": "markdown",
   "id": "20f9c602-a0b1-45e6-a3cf-608de4ecbff3",
   "metadata": {},
   "source": [
    "# for loop"
   ]
  },
  {
   "cell_type": "code",
   "execution_count": 35,
   "id": "6cca3240-77dc-4375-92a7-996fad10ba16",
   "metadata": {},
   "outputs": [
    {
     "name": "stdout",
     "output_type": "stream",
     "text": [
      "3\n",
      "6\n",
      "9\n",
      "12\n",
      "15\n",
      "18\n",
      "21\n",
      "24\n",
      "27\n",
      "30\n"
     ]
    }
   ],
   "source": [
    "for i in range(3, 31, 3):  # range(start , stop, step size)\n",
    "    print(i)"
   ]
  },
  {
   "cell_type": "code",
   "execution_count": 42,
   "id": "65b872a5-4b76-4286-9479-f614dbdf8c25",
   "metadata": {},
   "outputs": [
    {
     "name": "stdout",
     "output_type": "stream",
     "text": [
      "2\n",
      "5\n",
      "4\n",
      "8\n",
      "7\n"
     ]
    }
   ],
   "source": [
    "li = [2,5,4,8,7]\n",
    "for i in li:\n",
    "    print(i)\n"
   ]
  },
  {
   "cell_type": "markdown",
   "id": "e7a7f82f-6027-4171-94f3-3f2cf1ef4022",
   "metadata": {},
   "source": [
    "# For loop with else "
   ]
  },
  {
   "cell_type": "code",
   "execution_count": 45,
   "id": "8125f2c6-0c91-4245-b0e0-cbdf88be96da",
   "metadata": {},
   "outputs": [
    {
     "name": "stdout",
     "output_type": "stream",
     "text": [
      "1\n",
      "2\n",
      "3\n",
      "4\n",
      "5\n",
      "6\n",
      "7\n",
      "8\n",
      "9\n",
      "10\n",
      "this is the squence of number from 0 to 10 \n"
     ]
    }
   ],
   "source": [
    "li =[1,2,3,4,5,6,7,8,9,10]\n",
    "for i in li:\n",
    "    print(i)\n",
    "else:\n",
    "    print(\"this is the squence of number from 0 to 10 \")"
   ]
  }
 ],
 "metadata": {
  "kernelspec": {
   "display_name": "Python 3 (ipykernel)",
   "language": "python",
   "name": "python3"
  },
  "language_info": {
   "codemirror_mode": {
    "name": "ipython",
    "version": 3
   },
   "file_extension": ".py",
   "mimetype": "text/x-python",
   "name": "python",
   "nbconvert_exporter": "python",
   "pygments_lexer": "ipython3",
   "version": "3.12.7"
  },
  "panel-cell-order": [
   "253fa3e0-a4e7-4ad7-883c-f16daf9c52a7",
   "eba039e4-cef0-46f3-9f6f-81c417a77b63",
   "28cfb10a-2c16-40f3-9203-16af4f703a4e",
   "99499dcf-4a63-4e49-b134-9bc326363394"
  ]
 },
 "nbformat": 4,
 "nbformat_minor": 5
}
