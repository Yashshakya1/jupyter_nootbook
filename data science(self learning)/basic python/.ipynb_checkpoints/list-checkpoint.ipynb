{
 "cells": [
  {
   "cell_type": "markdown",
   "id": "027f1b2c-9d82-4c17-8aa6-0d3f18e258cc",
   "metadata": {},
   "source": [
    "list"
   ]
  },
  {
   "cell_type": "markdown",
   "id": "1db4e1ec-39f4-4f24-ac3c-eb7c14169772",
   "metadata": {},
   "source": [
    "1. list is a containers that store the set of values of any data types\n",
    "2. lis is mutable that's means i can change the any element in the orignal list\n",
    "3. and i can also sliceing the list"
   ]
  },
  {
   "cell_type": "code",
   "execution_count": 8,
   "id": "0bc2d25f-e903-485c-b01e-98addb10ae58",
   "metadata": {},
   "outputs": [
    {
     "name": "stdout",
     "output_type": "stream",
     "text": [
      "['yash', 19, 80.75, 2004, 'shakya']\n",
      "star with the -1:- [2004, 'shakya']\n",
      "star with the zero:-  ['yash', 19, 80.75]\n"
     ]
    }
   ],
   "source": [
    "_list = [\"yash\",19,80.75,2004,\"shakya\"]\n",
    "print(_list)\n",
    "print(\"star with the -1:-\",_list[-2:])\n",
    "print(\"star with the zero:- \",_list[:3])"
   ]
  },
  {
   "cell_type": "markdown",
   "id": "005aee5e-b8a5-4de3-b01f-3806d0006bba",
   "metadata": {},
   "source": [
    "#list method \n",
    "1. append\n",
    "insert anything in the end of the list "
   ]
  },
  {
   "cell_type": "code",
   "execution_count": 11,
   "id": "0ac8cb1b-51b9-4c38-bfcc-228a64aaab7d",
   "metadata": {},
   "outputs": [
    {
     "name": "stdout",
     "output_type": "stream",
     "text": [
      "5\n",
      "['yash', 19, 80.75, 2004, 'shakya', 'suraj lol']\n",
      "6\n"
     ]
    }
   ],
   "source": [
    "_list = [\"yash\",19,80.75,2004,\"shakya\"]\n",
    "print(len(_list))\n",
    "_list.append(\"suraj lol\")\n",
    "print(_list)\n",
    "print(len(_list))"
   ]
  },
  {
   "cell_type": "markdown",
   "id": "a5188906-95c5-4176-a27e-9895fead67c5",
   "metadata": {},
   "source": [
    "2. sort \n",
    "any list in the integer\n"
   ]
  },
  {
   "cell_type": "code",
   "execution_count": 15,
   "id": "ca7f7319-234c-4ea2-ab36-8621cadde35f",
   "metadata": {},
   "outputs": [
    {
     "name": "stdout",
     "output_type": "stream",
     "text": [
      "[2, 4, 5, 7, 8, 9]\n"
     ]
    }
   ],
   "source": [
    "_list = [5,4,2,9,7,8]\n",
    "_list.sort()\n",
    "print(_list)"
   ]
  },
  {
   "cell_type": "markdown",
   "id": "fa0c9749-d09b-4c5f-b22a-962bd4eaf242",
   "metadata": {},
   "source": [
    "3. reverse \n"
   ]
  },
  {
   "cell_type": "code",
   "execution_count": 18,
   "id": "00dda99d-1f61-4955-9155-e73f463b5522",
   "metadata": {},
   "outputs": [
    {
     "name": "stdout",
     "output_type": "stream",
     "text": [
      "[8, 7, 9, 2, 4, 5]\n"
     ]
    }
   ],
   "source": [
    "_list = [5,4,2,9,7,8]\n",
    "_list.reverse()\n",
    "print(_list)"
   ]
  },
  {
   "cell_type": "markdown",
   "id": "5dc8acb9-7cdb-41f5-9785-d353b2f31225",
   "metadata": {},
   "source": [
    "4. remove"
   ]
  },
  {
   "cell_type": "code",
   "execution_count": 23,
   "id": "28d511a6-c748-46e5-8a15-8b7c091eb6ca",
   "metadata": {},
   "outputs": [
    {
     "name": "stdout",
     "output_type": "stream",
     "text": [
      "['yash', 19, 80.75, 2004]\n"
     ]
    }
   ],
   "source": [
    "_list = [\"yash\",19,80.75,2004,\"shakya\"]\n",
    "_list.remove(\"shakya\")\n",
    "print(_list)"
   ]
  },
  {
   "cell_type": "markdown",
   "id": "dbab03c6-c8cc-4611-ae69-2e9c091924a9",
   "metadata": {},
   "source": [
    "5. insert\n",
    "insert(index,object)"
   ]
  },
  {
   "cell_type": "code",
   "execution_count": 25,
   "id": "cf24030f-26a4-4e3b-9316-5e0d70187691",
   "metadata": {},
   "outputs": [
    {
     "name": "stdout",
     "output_type": "stream",
     "text": [
      "['yash', 19, 3.14, 80.75, 2004, 'shakya']\n"
     ]
    }
   ],
   "source": [
    "_list = [\"yash\",19,80.75,2004,\"shakya\"]\n",
    "_list.insert(2,3.14)\n",
    "print(_list)"
   ]
  },
  {
   "cell_type": "markdown",
   "id": "3db8dd3b-c6d1-422c-9dad-19d7f4f48cc4",
   "metadata": {},
   "source": [
    "6. pop\n",
    "pop means delete the value in the list"
   ]
  },
  {
   "cell_type": "code",
   "execution_count": 28,
   "id": "bbe3686b-f18d-4670-8eb4-81114eb74010",
   "metadata": {},
   "outputs": [
    {
     "name": "stdout",
     "output_type": "stream",
     "text": [
      "['yash', 19, 80.75, 'shakya']\n"
     ]
    }
   ],
   "source": [
    "_list = [\"yash\",19,80.75,2004,\"shakya\"]\n",
    "_list.pop(3)\n",
    "print(_list)"
   ]
  },
  {
   "cell_type": "markdown",
   "id": "4d631e98-4950-4faa-9de8-d626558b9a26",
   "metadata": {},
   "source": [
    "the difference b/w remove and pop is \n",
    "in the remove (value)\n",
    "in the pop(index of the value)\n",
    "but the both function are same"
   ]
  },
  {
   "cell_type": "markdown",
   "id": "dfb0804d-98db-4294-b831-45481d7126f1",
   "metadata": {},
   "source": [
    "#extra excercise"
   ]
  },
  {
   "cell_type": "code",
   "execution_count": 30,
   "id": "fac9a8ac-b285-44a8-a1dd-a112b082ab73",
   "metadata": {},
   "outputs": [
    {
     "name": "stdout",
     "output_type": "stream",
     "text": [
      "['limbo', 'oooo', 'bmw', 'mg', 'gtr nissan', 'honda', 'tvs', 'h2', 'h']\n",
      "['limbo', 'oooo', 'bmw', 'mg', 'gtr nissan', 'limbo', 'oooo', 'bmw', 'mg', 'gtr nissan', 'limbo', 'oooo', 'bmw', 'mg', 'gtr nissan', 'limbo', 'oooo', 'bmw', 'mg', 'gtr nissan', 'limbo', 'oooo', 'bmw', 'mg', 'gtr nissan']\n"
     ]
    }
   ],
   "source": [
    "cars = [\"limbo\",\"oooo\",\"bmw\",\"mg\",\"gtr nissan\"]\n",
    "bike = [\"honda\",\"tvs\",\"h2\",\"h\"]\n",
    "print(cars+bike)\n",
    "print(cars*5)"
   ]
  }
 ],
 "metadata": {
  "kernelspec": {
   "display_name": "Python 3 (ipykernel)",
   "language": "python",
   "name": "python3"
  },
  "language_info": {
   "codemirror_mode": {
    "name": "ipython",
    "version": 3
   },
   "file_extension": ".py",
   "mimetype": "text/x-python",
   "name": "python",
   "nbconvert_exporter": "python",
   "pygments_lexer": "ipython3",
   "version": "3.12.7"
  },
  "panel-cell-order": [
   "253fa3e0-a4e7-4ad7-883c-f16daf9c52a7",
   "eba039e4-cef0-46f3-9f6f-81c417a77b63",
   "28cfb10a-2c16-40f3-9203-16af4f703a4e",
   "99499dcf-4a63-4e49-b134-9bc326363394"
  ]
 },
 "nbformat": 4,
 "nbformat_minor": 5
}
