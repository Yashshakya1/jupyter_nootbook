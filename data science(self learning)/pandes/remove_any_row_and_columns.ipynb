{
 "cells": [
  {
   "cell_type": "markdown",
   "id": "7d5eee7f-2314-4145-aa41-c1a5c81907bf",
   "metadata": {},
   "source": [
    "# remoeve the and row and columns"
   ]
  },
  {
   "cell_type": "raw",
   "id": "3c628447-9b28-4d79-8a7a-4bbb503e0117",
   "metadata": {},
   "source": [
    "remove any row and column with the help of drop() method \n",
    "drop(column = [\"columns_name\"] , inplace = True)"
   ]
  },
  {
   "cell_type": "code",
   "execution_count": 10,
   "id": "d4945984-7932-4996-afd1-a80b3af59fe7",
   "metadata": {},
   "outputs": [
    {
     "name": "stdout",
     "output_type": "stream",
     "text": [
      "           Name  age  salary                  work\n",
      "0          yash   21  101000          data science\n",
      "1  yash vardhan   23  100000          data analyst\n",
      "2         tanya   20   10000       sales executive\n",
      "3         tushi   18   20000             accounted\n",
      "4         mohit   25     150                swiper\n",
      "5          monu   26   12000  hardware Engineering\n",
      "6      shinchan   45   15000               maneger\n",
      "7       nobitha   22   25000          bank maneger\n",
      "8      doremone   30   30000             scientest\n",
      "remove the age row  'single row':-\n",
      "           Name  salary                  work\n",
      "0          yash  101000          data science\n",
      "1  yash vardhan  100000          data analyst\n",
      "2         tanya   10000       sales executive\n",
      "3         tushi   20000             accounted\n",
      "4         mohit     150                swiper\n",
      "5          monu   12000  hardware Engineering\n",
      "6      shinchan   15000               maneger\n",
      "7       nobitha   25000          bank maneger\n",
      "8      doremone   30000             scientest\n",
      "remove the work and salary row  'multi row':-\n",
      "           Name\n",
      "0          yash\n",
      "1  yash vardhan\n",
      "2         tanya\n",
      "3         tushi\n",
      "4         mohit\n",
      "5          monu\n",
      "6      shinchan\n",
      "7       nobitha\n",
      "8      doremone\n"
     ]
    }
   ],
   "source": [
    "import pandas as pd \n",
    "data = {\n",
    "\"Name\"  : ['yash','yash vardhan','tanya','tushi','mohit','monu','shinchan','nobitha','doremone'],\n",
    "\"age\"   : [21,23,20,18,25,26,45,22,30],   # Note: these are strings, not numbers\n",
    "\"salary\":[101000,100000,10000,20000,150,12000,15000,25000,30000],\n",
    "\"work\"  : ['data science','data analyst','sales executive','accounted','swiper','hardware Engineering',\n",
    "           'maneger','bank maneger','scientest']\n",
    "}\n",
    "df = pd.DataFrame(data)\n",
    "print(df)\n",
    "print(\"remove the age row  'single row':-\")\n",
    "df.drop(columns = ['age'], inplace = True) # only remove a single row not more \n",
    "print(df)\n",
    "print(\"remove the work and salary row  'multi row':-\")\n",
    "df.drop(columns = ['work','salary'] , inplace = True)\n",
    "print(df)"
   ]
  }
 ],
 "metadata": {
  "kernelspec": {
   "display_name": "Python 3 (ipykernel)",
   "language": "python",
   "name": "python3"
  },
  "language_info": {
   "codemirror_mode": {
    "name": "ipython",
    "version": 3
   },
   "file_extension": ".py",
   "mimetype": "text/x-python",
   "name": "python",
   "nbconvert_exporter": "python",
   "pygments_lexer": "ipython3",
   "version": "3.12.7"
  }
 },
 "nbformat": 4,
 "nbformat_minor": 5
}
