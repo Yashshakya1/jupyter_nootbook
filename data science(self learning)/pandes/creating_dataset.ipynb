{
 "cells": [
  {
   "cell_type": "code",
   "execution_count": 13,
   "id": "44575e92-61fa-4366-9616-e6946042b18b",
   "metadata": {},
   "outputs": [
    {
     "name": "stdout",
     "output_type": "stream",
     "text": [
      "       Name  Age     proffesion\n",
      "       yash   21   data science\n",
      "yashvardhan   24 data analysist\n",
      "      suraj   23          ai/ml\n",
      "     taneya   21           12th\n"
     ]
    }
   ],
   "source": [
    "import pandas as pd\n",
    "data = {\n",
    "       \"Name\":['yash','yashvardhan','suraj','taneya'],\n",
    "       \"Age\":[21,24,23,21],\n",
    "       \"proffesion\":['data science','data analysist','ai/ml','12th']\n",
    "}\n",
    "#using the DataFrame method to creating own data\n",
    "df = pd.DataFrame(data)\n",
    "print(df.to_string(index=False)) # to_string(index=False) is using remove the index and print in the output\n",
    "df.to_csv(\"student_record.CSV\", index=False)\n",
    "# to remove the index in the dataframe then using the index = false "
   ]
  }
 ],
 "metadata": {
  "kernelspec": {
   "display_name": "Python 3 (ipykernel)",
   "language": "python",
   "name": "python3"
  },
  "language_info": {
   "codemirror_mode": {
    "name": "ipython",
    "version": 3
   },
   "file_extension": ".py",
   "mimetype": "text/x-python",
   "name": "python",
   "nbconvert_exporter": "python",
   "pygments_lexer": "ipython3",
   "version": "3.12.7"
  }
 },
 "nbformat": 4,
 "nbformat_minor": 5
}
