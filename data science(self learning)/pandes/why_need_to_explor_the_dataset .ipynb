{
 "cells": [
  {
   "cell_type": "markdown",
   "id": "11c3f510-6cac-4e24-9c22-016c0348e325",
   "metadata": {},
   "source": [
    "# why need to explor the dataset \n",
    "1. understand the data set(how many rows and coloum ,type of the data like csv,execel and etc)\n",
    "2. identify the problem\n",
    "3. plan next step"
   ]
  },
  {
   "cell_type": "markdown",
   "id": "b53180e7-0bd0-4dfd-a79d-02814a42fe81",
   "metadata": {},
   "source": [
    "# 1. rows find out \n",
    "there are two method head() and tail()\n",
    "syntex:-\n",
    "where n is the integer\n",
    "head(n) or head() by default (5) rows\n",
    "tail(n) or tail() by default (5) rows"
   ]
  },
  {
   "cell_type": "code",
   "execution_count": 18,
   "id": "d3862cc4-92ab-41bd-a652-e042e3ea3d62",
   "metadata": {},
   "outputs": [
    {
     "name": "stdout",
     "output_type": "stream",
     "text": [
      "print the first 10 rows \n",
      "   StudentID                Name  Age  Gender  Course  Year  Marks\n",
      "0          1          Juan Jones   21  Female  B.Tech     3     72\n",
      "1          2   Mr. Joshua Wright   23  Female   B.Com     3     41\n",
      "2          3  Stephanie Robinson   20  Female     MBA     3     62\n",
      "3          4       Edwin Russell   19    Male     MBA     4     96\n",
      "4          5       William Riggs   22    Male     MBA     3     53\n",
      "5          6        Robert Baker   22  Female    B.Sc     2     68\n",
      "6          7       Richard Olson   25  Female      BA     3     88\n",
      "7          8          David Love   21  Female    B.Sc     2     79\n",
      "8          9      Deborah Conway   22    Male     MCA     1     80\n",
      "9         10      Angela Herrera   20    Male     MCA     3     93\n",
      "print the last 10 rows\n",
      "     StudentID                   Name  Age  Gender  Course  Year  Marks\n",
      "990        991  Christopher Mcconnell   25    Male     BBA     1     41\n",
      "991        992            Ashley King   20  Female      BA     2     52\n",
      "992        993       Samuel Robertson   24  Female      BA     1     41\n",
      "993        994           Scott Cannon   18    Male     MBA     3     67\n",
      "994        995        Jacqueline Tate   24    Male  B.Tech     4     49\n",
      "995        996         Scott Martinez   22  Female   B.Com     1     58\n",
      "996        997          Andrew Jordan   18    Male      BA     1     55\n",
      "997        998           David Hester   21    Male  B.Tech     3     51\n",
      "998        999            Amy Mercado   19    Male     MCA     3     95\n",
      "999       1000       Jacqueline Mccoy   20  Female    B.Sc     3     74\n",
      "by default values:-\n",
      "   StudentID                Name  Age  Gender  Course  Year  Marks\n",
      "0          1          Juan Jones   21  Female  B.Tech     3     72\n",
      "1          2   Mr. Joshua Wright   23  Female   B.Com     3     41\n",
      "2          3  Stephanie Robinson   20  Female     MBA     3     62\n",
      "3          4       Edwin Russell   19    Male     MBA     4     96\n",
      "4          5       William Riggs   22    Male     MBA     3     53\n",
      "     StudentID              Name  Age  Gender  Course  Year  Marks\n",
      "995        996    Scott Martinez   22  Female   B.Com     1     58\n",
      "996        997     Andrew Jordan   18    Male      BA     1     55\n",
      "997        998      David Hester   21    Male  B.Tech     3     51\n",
      "998        999       Amy Mercado   19    Male     MCA     3     95\n",
      "999       1000  Jacqueline Mccoy   20  Female    B.Sc     3     74\n"
     ]
    }
   ],
   "source": [
    "import pandas as pd\n",
    "ds = pd.read_excel(\"student_dataset.xlsx\")\n",
    "print(\"print the first 10 rows \")\n",
    "print(ds.head(10))\n",
    "print(\"print the last 10 rows\")\n",
    "print(ds.tail(10))\n",
    "print(\"by default values:-\")\n",
    "print(ds.head())\n",
    "print(ds.tail())"
   ]
  },
  {
   "cell_type": "raw",
   "id": "60aee2f8-66cd-4c3e-8e40-3b4b480f4369",
   "metadata": {},
   "source": [
    "1. colums, row ?\n",
    "2. what is the type ?\n",
    "3. missing values ?\n",
    "there is method to find all the condition that was the\n",
    "info() method\n",
    "\n",
    "a. no of column and rows\n",
    "b. column name \n",
    "c. type int ,float and etc\n",
    "d. non null counts"
   ]
  },
  {
   "cell_type": "raw",
   "id": "5e1cb3df-90fb-4d27-b701-370c9791a05c",
   "metadata": {},
   "source": [
    "describe() is a method like a info but defferent :-\n",
    "\n",
    "count → number of non-null values\n",
    "mean → average value\n",
    "std → standard deviation (spread of values)\n",
    "min → minimum value\n",
    "25%, 50%, 75% → percentiles (quartiles)\n",
    "max → maximum value"
   ]
  },
  {
   "cell_type": "code",
   "execution_count": 3,
   "id": "f1bf20be-ba97-4d59-8854-2b0dda90895c",
   "metadata": {},
   "outputs": [
    {
     "name": "stdout",
     "output_type": "stream",
     "text": [
      "displaying the info of the data set :-\n",
      "<class 'pandas.core.frame.DataFrame'>\n",
      "RangeIndex: 1000 entries, 0 to 999\n",
      "Data columns (total 7 columns):\n",
      " #   Column     Non-Null Count  Dtype \n",
      "---  ------     --------------  ----- \n",
      " 0   StudentID  1000 non-null   int64 \n",
      " 1   Name       1000 non-null   object\n",
      " 2   Age        1000 non-null   int64 \n",
      " 3   Gender     1000 non-null   object\n",
      " 4   Course     1000 non-null   object\n",
      " 5   Year       1000 non-null   int64 \n",
      " 6   Marks      1000 non-null   int64 \n",
      "dtypes: int64(4), object(3)\n",
      "memory usage: 54.8+ KB\n",
      "None\n",
      "         StudentID          Age         Year        Marks\n",
      "count  1000.000000  1000.000000  1000.000000  1000.000000\n",
      "mean    500.500000    21.430000     2.501000    67.823000\n",
      "std     288.819436     2.297472     1.118593    19.028762\n",
      "min       1.000000    18.000000     1.000000    35.000000\n",
      "25%     250.750000    19.000000     2.000000    51.000000\n",
      "50%     500.500000    21.000000     2.000000    68.000000\n",
      "75%     750.250000    23.000000     4.000000    84.250000\n",
      "max    1000.000000    25.000000     4.000000   100.000000\n"
     ]
    }
   ],
   "source": [
    "import pandas as pd \n",
    "ds = pd.read_excel(\"student_dataset.xlsx\")\n",
    "print('displaying the info of the data set :-')\n",
    "print(ds.info())\n",
    "print(ds.describe()) # describe is also a method \n",
    "# object means there some string data or categary data like citys name "
   ]
  }
 ],
 "metadata": {
  "kernelspec": {
   "display_name": "Python 3 (ipykernel)",
   "language": "python",
   "name": "python3"
  },
  "language_info": {
   "codemirror_mode": {
    "name": "ipython",
    "version": 3
   },
   "file_extension": ".py",
   "mimetype": "text/x-python",
   "name": "python",
   "nbconvert_exporter": "python",
   "pygments_lexer": "ipython3",
   "version": "3.12.7"
  }
 },
 "nbformat": 4,
 "nbformat_minor": 5
}
