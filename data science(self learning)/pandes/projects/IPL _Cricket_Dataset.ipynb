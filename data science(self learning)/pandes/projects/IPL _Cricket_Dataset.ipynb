{
 "cells": [
  {
   "cell_type": "markdown",
   "id": "7d79fb01-30ee-43aa-b9b9-c79c3f65290f",
   "metadata": {},
   "source": [
    "3. **IPL / Cricket Dataset** 🏏\n",
    "\n",
    "   * Analyze batting/bowling stats.\n",
    "   * Top run scorers, most wickets, strike rates.\n",
    "   * `groupby(\"Team\")` to compare performances."
   ]
  }
 ],
 "metadata": {
  "kernelspec": {
   "display_name": "Python 3 (ipykernel)",
   "language": "python",
   "name": "python3"
  },
  "language_info": {
   "codemirror_mode": {
    "name": "ipython",
    "version": 3
   },
   "file_extension": ".py",
   "mimetype": "text/x-python",
   "name": "python",
   "nbconvert_exporter": "python",
   "pygments_lexer": "ipython3",
   "version": "3.12.7"
  }
 },
 "nbformat": 4,
 "nbformat_minor": 5
}
