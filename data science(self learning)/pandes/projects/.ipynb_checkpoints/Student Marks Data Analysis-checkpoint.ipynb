{
 "cells": [
  {
   "cell_type": "markdown",
   "id": "17c4969a-28f2-494d-afa5-50a66889cdb1",
   "metadata": {},
   "source": [
    "# Student Marks Data Analysis"
   ]
  },
  {
   "cell_type": "markdown",
   "id": "9b0b0100-8e0c-4205-95be-2d03cce9c813",
   "metadata": {},
   "source": [
    "* Create a dataset of students’ marks in different subjects.\n",
    "* Calculate average, highest, lowest marks.\n",
    "* Use `groupby` to analyze performance by class/section."
   ]
  },
  {
   "cell_type": "code",
   "execution_count": 3,
   "id": "27248a09-48c0-41eb-b2a8-210d5ceac3e7",
   "metadata": {},
   "outputs": [
    {
     "name": "stdout",
     "output_type": "stream",
     "text": [
      "Student Data:\n",
      "   Student Class  Maths  Science  English    Average\n",
      "0       A   10A     78       88       80  82.000000\n",
      "1       B   10A     56       65       72  64.333333\n",
      "2       C   10B     89       92       85  88.666667\n",
      "3       D   10B     90       85       91  88.666667\n",
      "4       E   10A     66       70       69  68.333333\n",
      "5       F   10B     72       60       75  69.000000 \n",
      "\n",
      "Highest Marks in Dataset: 92\n",
      "Lowest Marks in Dataset: 56 \n",
      "\n",
      "Class-wise Performance:\n",
      "            Maths    Science    English    Average\n",
      "Class                                            \n",
      "10A    66.666667  74.333333  73.666667  71.555556\n",
      "10B    83.666667  79.000000  83.666667  82.111111\n"
     ]
    }
   ],
   "source": [
    "import pandas as pd\n",
    "\n",
    "# Sample dataset (you can replace with your 1000-student dataset)\n",
    "data = {\n",
    "    \"Student\": [\"A\", \"B\", \"C\", \"D\", \"E\", \"F\"],\n",
    "    \"Class\": [\"10A\", \"10A\", \"10B\", \"10B\", \"10A\", \"10B\"],\n",
    "    \"Maths\": [78, 56, 89, 90, 66, 72],\n",
    "    \"Science\": [88, 65, 92, 85, 70, 60],\n",
    "    \"English\": [80, 72, 85, 91, 69, 75]\n",
    "}\n",
    "\n",
    "df = pd.DataFrame(data)\n",
    "\n",
    "# 1. Calculate average marks for each student\n",
    "df[\"Average\"] = df[[\"Maths\", \"Science\", \"English\"]].mean(axis=1)\n",
    "\n",
    "# 2. Find highest and lowest marks overall\n",
    "highest_marks = df[[\"Maths\", \"Science\", \"English\"]].max().max()\n",
    "lowest_marks = df[[\"Maths\", \"Science\", \"English\"]].min().min()\n",
    "\n",
    "# 3. Group by Class and calculate average performance\n",
    "class_performance = df.groupby(\"Class\")[[\"Maths\", \"Science\", \"English\", \"Average\"]].mean()\n",
    "\n",
    "# 🔹 Results\n",
    "print(\"Student Data:\\n\", df, \"\\n\")\n",
    "print(\"Highest Marks in Dataset:\", highest_marks)\n",
    "print(\"Lowest Marks in Dataset:\", lowest_marks, \"\\n\")\n",
    "print(\"Class-wise Performance:\\n\", class_performance)\n"
   ]
  }
 ],
 "metadata": {
  "kernelspec": {
   "display_name": "Python 3 (ipykernel)",
   "language": "python",
   "name": "python3"
  },
  "language_info": {
   "codemirror_mode": {
    "name": "ipython",
    "version": 3
   },
   "file_extension": ".py",
   "mimetype": "text/x-python",
   "name": "python",
   "nbconvert_exporter": "python",
   "pygments_lexer": "ipython3",
   "version": "3.12.7"
  }
 },
 "nbformat": 4,
 "nbformat_minor": 5
}
