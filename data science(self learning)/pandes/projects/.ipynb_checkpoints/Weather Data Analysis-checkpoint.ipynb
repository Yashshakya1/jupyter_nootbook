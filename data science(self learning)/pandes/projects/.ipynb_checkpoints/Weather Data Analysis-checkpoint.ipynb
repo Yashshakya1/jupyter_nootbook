{
 "cells": [
  {
   "cell_type": "markdown",
   "id": "4f4c06c3-6909-4f6e-8de2-7174d79e1731",
   "metadata": {},
   "source": [
    "# project 2\n",
    "# Weather Data Analysis"
   ]
  },
  {
   "cell_type": "markdown",
   "id": "71ae4728-b135-472f-b0c9-1d59d1cb318f",
   "metadata": {},
   "source": [
    "* Use a CSV of daily weather (temperature, humidity, rainfall).\n",
    "* Find monthly averages.\n",
    "* Detect hottest/coldest day."
   ]
  },
  {
   "cell_type": "code",
   "execution_count": null,
   "id": "5d1165e2-f732-49ae-8c44-4fd9c29f38aa",
   "metadata": {},
   "outputs": [],
   "source": []
  }
 ],
 "metadata": {
  "kernelspec": {
   "display_name": "Python 3 (ipykernel)",
   "language": "python",
   "name": "python3"
  },
  "language_info": {
   "codemirror_mode": {
    "name": "ipython",
    "version": 3
   },
   "file_extension": ".py",
   "mimetype": "text/x-python",
   "name": "python",
   "nbconvert_exporter": "python",
   "pygments_lexer": "ipython3",
   "version": "3.12.7"
  }
 },
 "nbformat": 4,
 "nbformat_minor": 5
}
