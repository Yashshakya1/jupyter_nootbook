{
 "cells": [
  {
   "cell_type": "markdown",
   "id": "398c6b46-d2cc-4c8c-af52-d3721ba9dfce",
   "metadata": {},
   "source": [
    "# Sales Data Analysis\n",
    "\n",
    "   * Take sales CSV (date, product, price, quantity, region).\n",
    "   * Find top-selling products.\n",
    "   * Monthly sales trends using `resample()`.\n",
    "   * Contribution of each region in revenue."
   ]
  },
  {
   "cell_type": "markdown",
   "id": "4012f209-90eb-455c-919e-e7eae1b6ebe3",
   "metadata": {},
   "source": [
    "i complete this project in tommory "
   ]
  }
 ],
 "metadata": {
  "kernelspec": {
   "display_name": "Python 3 (ipykernel)",
   "language": "python",
   "name": "python3"
  },
  "language_info": {
   "codemirror_mode": {
    "name": "ipython",
    "version": 3
   },
   "file_extension": ".py",
   "mimetype": "text/x-python",
   "name": "python",
   "nbconvert_exporter": "python",
   "pygments_lexer": "ipython3",
   "version": "3.12.7"
  }
 },
 "nbformat": 4,
 "nbformat_minor": 5
}
