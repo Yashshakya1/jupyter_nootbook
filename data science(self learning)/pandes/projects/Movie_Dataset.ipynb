{
 "cells": [
  {
   "cell_type": "markdown",
   "id": "6ce6dc97-fa23-462f-b6b8-74c085c21d4e",
   "metadata": {},
   "source": [
    " # Movie Dataset (IMDB / TMDB) 🎬\n",
    "\n",
    "   * Find most popular actors, directors.\n",
    "   * Analyze ratings distribution.\n",
    "   * Check correlation between budget & revenue."
   ]
  },
  {
   "cell_type": "code",
   "execution_count": null,
   "id": "bd696185-f765-42cb-bcb6-a232d83aa993",
   "metadata": {},
   "outputs": [],
   "source": [
    "import pandas as pd \n",
    "ds = pd.read_csv(\"TMDB  IMDB Movies Dataset.CSV\")\n",
    "\n",
    "# most popular actors and directors\n",
    "\n",
    "# Drop rows with missing cast or director info\n",
    "ds = ds.dropna(subset=['cast', 'director'])\n",
    "\n",
    "# Split the 'cast' column by '|' and explode to get one actor per row\n",
    "actors = data['cast'].str.split('|').explode()\n",
    "\n",
    "# Count appearances of each actor\n",
    "actor_counts = actors.value_counts().head(10)\n",
    "\n",
    "print(\"Top 10 Most Popular Actors:\")\n",
    "print(actor_counts)\n",
    "\n",
    "# Count appearances of each director\n",
    "director_counts = data['director'].value_counts().head(10)\n",
    "\n",
    "print(\"\\nTop 10 Most Popular Directors:\")\n",
    "print(director_counts)\n"
   ]
  }
 ],
 "metadata": {
  "kernelspec": {
   "display_name": "Python 3 (ipykernel)",
   "language": "python",
   "name": "python3"
  },
  "language_info": {
   "codemirror_mode": {
    "name": "ipython",
    "version": 3
   },
   "file_extension": ".py",
   "mimetype": "text/x-python",
   "name": "python",
   "nbconvert_exporter": "python",
   "pygments_lexer": "ipython3",
   "version": "3.12.7"
  }
 },
 "nbformat": 4,
 "nbformat_minor": 5
}
