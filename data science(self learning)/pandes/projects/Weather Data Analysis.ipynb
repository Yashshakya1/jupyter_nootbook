{
 "cells": [
  {
   "cell_type": "markdown",
   "id": "4f4c06c3-6909-4f6e-8de2-7174d79e1731",
   "metadata": {},
   "source": [
    "# project 2\n",
    "# Weather Data Analysis"
   ]
  },
  {
   "cell_type": "markdown",
   "id": "71ae4728-b135-472f-b0c9-1d59d1cb318f",
   "metadata": {},
   "source": [
    "* Use a CSV of daily weather (temperature, humidity, rainfall).\n",
    "* Find monthly averages.\n",
    "* Detect hottest/coldest day."
   ]
  },
  {
   "cell_type": "code",
   "execution_count": 17,
   "id": "5d1165e2-f732-49ae-8c44-4fd9c29f38aa",
   "metadata": {},
   "outputs": [
    {
     "name": "stdout",
     "output_type": "stream",
     "text": [
      "           Date  Temperature_C  Humidity_%  Rainfall_mm\n",
      "0    2024-01-01           32.5          77            0\n",
      "1    2024-01-02           29.3          45            5\n",
      "2    2024-01-03           33.2          83            0\n",
      "3    2024-01-04           37.6          84           10\n",
      "4    2024-01-05           28.8          71            0\n",
      "..          ...            ...         ...          ...\n",
      "360  2024-12-26           32.6          45            0\n",
      "361  2024-12-27           37.7          89           50\n",
      "362  2024-12-28           29.5          49           50\n",
      "363  2024-12-29           32.0          44            5\n",
      "364  2024-12-30           33.5          62            5\n",
      "\n",
      "[365 rows x 4 columns]\n",
      " the hottest day is :- 49.3\n",
      "the coldest day is :-  13.8\n",
      "----------the monthly average in the given dataset is----------\n",
      "      Temperature_C  Humidity_%  Rainfall_mm\n",
      "Date                                        \n",
      "1         28.990323   64.677419    11.129032\n",
      "2         29.486207   65.551724     8.448276\n",
      "3         30.083871   64.225806    18.387097\n",
      "4         30.013333   61.366667    13.333333\n",
      "5         29.506452   65.741935    13.225806\n",
      "6         31.256667   61.866667    11.666667\n",
      "7         30.796774   59.774194    14.354839\n",
      "8         29.867742   66.548387     8.870968\n",
      "9         29.403333   66.966667    12.833333\n",
      "10        30.316129   67.258065    13.870968\n",
      "11        31.323333   60.133333    15.500000\n",
      "12        29.576667   62.500000    17.166667\n"
     ]
    }
   ],
   "source": [
    "import pandas as pd \n",
    "dataset = pd.read_csv(\"daily_weather_2024.csv\")\n",
    "print(dataset)\n",
    "# convert the dataset in the datatime\n",
    "dataset['Date'] = pd.to_datetime(dataset['Date'])\n",
    "\n",
    "# i find the hottest day in this weather dataset\n",
    "hot_day = dataset[\"Temperature_C\"].max()\n",
    "print(f' the hottest day is :- {hot_day}')\n",
    "\n",
    "# find the coldest day \n",
    "cold_day = dataset[\"Temperature_C\"].min()\n",
    "print(\"the coldest day is :- \",cold_day)\n",
    "\n",
    "# find the average\n",
    "monthly_avg = dataset.groupby(dataset['Date'].dt.month)[['Temperature_C','Humidity_%','Rainfall_mm']].mean()\n",
    "print('----------the monthly average in the given dataset is----------')\n",
    "print(monthly_avg)"
   ]
  }
 ],
 "metadata": {
  "kernelspec": {
   "display_name": "Python 3 (ipykernel)",
   "language": "python",
   "name": "python3"
  },
  "language_info": {
   "codemirror_mode": {
    "name": "ipython",
    "version": 3
   },
   "file_extension": ".py",
   "mimetype": "text/x-python",
   "name": "python",
   "nbconvert_exporter": "python",
   "pygments_lexer": "ipython3",
   "version": "3.12.7"
  }
 },
 "nbformat": 4,
 "nbformat_minor": 5
}
