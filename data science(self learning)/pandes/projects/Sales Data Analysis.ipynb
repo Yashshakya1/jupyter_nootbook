{
 "cells": [
  {
   "cell_type": "markdown",
   "id": "398c6b46-d2cc-4c8c-af52-d3721ba9dfce",
   "metadata": {},
   "source": [
    "# Sales Data Analysis\n",
    "\n",
    "   * Take sales CSV (date, product, price, quantity, region).\n",
    "   * Find top-selling products.\n",
    "   * Monthly sales trends using `resample()`.\n",
    "   * Contribution of each region in revenue."
   ]
  },
  {
   "cell_type": "code",
   "execution_count": null,
   "id": "7983b1f7-503c-4503-8915-41e3255cf1c3",
   "metadata": {},
   "outputs": [],
   "source": []
  }
 ],
 "metadata": {
  "kernelspec": {
   "display_name": "Python 3 (ipykernel)",
   "language": "python",
   "name": "python3"
  },
  "language_info": {
   "codemirror_mode": {
    "name": "ipython",
    "version": 3
   },
   "file_extension": ".py",
   "mimetype": "text/x-python",
   "name": "python",
   "nbconvert_exporter": "python",
   "pygments_lexer": "ipython3",
   "version": "3.12.7"
  }
 },
 "nbformat": 4,
 "nbformat_minor": 5
}
