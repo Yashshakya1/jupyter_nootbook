{
 "cells": [
  {
   "cell_type": "markdown",
   "id": "398c6b46-d2cc-4c8c-af52-d3721ba9dfce",
   "metadata": {},
   "source": [
    "# Sales Data Analysis\n",
    "\n",
    "   * Take sales CSV (date, product, price, quantity, region).\n",
    "   * Find top-selling products.\n",
    "   * Monthly sales trends using `resample()`.\n",
    "   * Contribution of each region in revenue.\n",
    "   * yash"
   ]
  },
  {
   "cell_type": "code",
   "execution_count": 2,
   "id": "d580f46c-25f4-467f-9f36-5b0a309e4528",
   "metadata": {},
   "outputs": [
    {
     "name": "stdout",
     "output_type": "stream",
     "text": [
      "                                 Date     Product  Price  Quantity Region\n",
      "0       2020-01-01 00:00:00.000000000  Headphones   1408         4  South\n",
      "1       2020-01-01 00:02:06.144126144      Camera   1554         6   West\n",
      "2       2020-01-01 00:04:12.288252288      Tablet   1529         1  South\n",
      "3       2020-01-01 00:06:18.432378432      Camera   1863         2  South\n",
      "4       2020-01-01 00:08:24.576504576      Camera    451         8  South\n",
      "...                               ...         ...    ...       ...    ...\n",
      "999995  2023-12-30 23:51:35.423495424      Tablet    601         4  South\n",
      "999996  2023-12-30 23:53:41.567621568  Headphones    493         4   East\n",
      "999997  2023-12-30 23:55:47.711747712      Tablet    581         9  North\n",
      "999998  2023-12-30 23:57:53.855873856      Laptop   1370         8  North\n",
      "999999  2023-12-31 00:00:00.000000000      Mobile   1086         8  North\n",
      "\n",
      "[1000000 rows x 5 columns]\n",
      "Price        1999\n",
      "Product    Tablet\n",
      "dtype: object\n"
     ]
    }
   ],
   "source": [
    "import pandas as pd \n",
    "\n",
    "dataset = pd.read_csv('sales_data_million.csv')\n",
    "print(dataset)\n",
    "top_selling_product = dataset[['Price','Product']].max()\n",
    "print(top_selling_product)"
   ]
  }
 ],
 "metadata": {
  "kernelspec": {
   "display_name": "Python 3 (ipykernel)",
   "language": "python",
   "name": "python3"
  },
  "language_info": {
   "codemirror_mode": {
    "name": "ipython",
    "version": 3
   },
   "file_extension": ".py",
   "mimetype": "text/x-python",
   "name": "python",
   "nbconvert_exporter": "python",
   "pygments_lexer": "ipython3",
   "version": "3.12.7"
  }
 },
 "nbformat": 4,
 "nbformat_minor": 5
}
