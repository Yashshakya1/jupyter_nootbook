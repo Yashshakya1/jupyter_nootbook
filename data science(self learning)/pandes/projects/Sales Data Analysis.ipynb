{
 "cells": [
  {
   "cell_type": "markdown",
   "id": "398c6b46-d2cc-4c8c-af52-d3721ba9dfce",
   "metadata": {},
   "source": [
    "# Sales Data Analysis\n",
    "\n",
    "   * Take sales CSV (date, product, price, quantity, region).\n",
    "   * Find top-selling products.\n",
    "   * Monthly sales trends using `resample()`.\n",
    "   * Contribution of each region in revenue."
   ]
  },
  {
   "cell_type": "code",
   "execution_count": 6,
   "id": "d580f46c-25f4-467f-9f36-5b0a309e4528",
   "metadata": {
    "scrolled": true
   },
   "outputs": [
    {
     "name": "stdout",
     "output_type": "stream",
     "text": [
      "Top Selling Products:\n",
      "       Product     Revenue\n",
      "0      Camera  1053229822\n",
      "4      Tablet  1052896466\n",
      "2      Laptop  1048468273\n",
      "3      Mobile  1047053655\n",
      "1  Headphones  1045365945 \n",
      "\n",
      "Monthly Sales Trends:\n",
      "          Date    Revenue\n",
      "0  2020-01-31  109948976\n",
      "1  2020-02-29  103636986\n",
      "2  2020-03-31  112142970\n",
      "3  2020-04-30  107321575\n",
      "4  2020-05-31  111057897\n",
      "5  2020-06-30  108015482\n",
      "6  2020-07-31  111464557\n",
      "7  2020-08-31  111742610\n",
      "8  2020-09-30  107997650\n",
      "9  2020-10-31  111550564\n",
      "10 2020-11-30  109078647\n",
      "11 2020-12-31  112404868 \n",
      "\n",
      "Region Contribution:\n",
      "   Region     Revenue\n",
      "2  South  1316354178\n",
      "1  North  1312608223\n",
      "0   East  1312293468\n",
      "3   West  1305758292\n"
     ]
    }
   ],
   "source": [
    "import pandas as pd\n",
    "\n",
    "# Load dataset\n",
    "df = pd.read_csv(\"sales_data_million.csv\")\n",
    "\n",
    "# Ensure Date is in datetime format\n",
    "df[\"Date\"] = pd.to_datetime(df[\"Date\"], errors=\"coerce\")\n",
    "\n",
    "# Add Revenue column\n",
    "df[\"Revenue\"] = df[\"Price\"] * df[\"Quantity\"]\n",
    "\n",
    "# 1. Top-selling products (by revenue)\n",
    "top_products = (\n",
    "    df.groupby(\"Product\")[\"Revenue\"]\n",
    "    .sum()\n",
    "    .reset_index()\n",
    "    .sort_values(by=\"Revenue\", ascending=False)\n",
    ")\n",
    "print(\"Top Selling Products:\\n\", top_products, \"\\n\")\n",
    "\n",
    "# 2. Monthly sales trends using resample\n",
    "monthly_sales = (\n",
    "    df.resample(\"ME\", on=\"Date\")[\"Revenue\"]\n",
    "    .sum()\n",
    "    .reset_index()\n",
    ")\n",
    "print(\"Monthly Sales Trends:\\n\", monthly_sales.head(12), \"\\n\")  # first 12 months\n",
    "\n",
    "# 3. Contribution of each region in revenue\n",
    "region_contribution = (\n",
    "    df.groupby(\"Region\")[\"Revenue\"]\n",
    "    .sum()\n",
    "    .reset_index()\n",
    "    .sort_values(by=\"Revenue\", ascending=False)\n",
    ")\n",
    "print(\"Region Contribution:\\n\", region_contribution)\n"
   ]
  },
  {
   "cell_type": "code",
   "execution_count": null,
   "id": "cb8abee4-04b7-4462-bcdc-116cacea67b6",
   "metadata": {},
   "outputs": [],
   "source": []
  }
 ],
 "metadata": {
  "kernelspec": {
   "display_name": "Python 3 (ipykernel)",
   "language": "python",
   "name": "python3"
  },
  "language_info": {
   "codemirror_mode": {
    "name": "ipython",
    "version": 3
   },
   "file_extension": ".py",
   "mimetype": "text/x-python",
   "name": "python",
   "nbconvert_exporter": "python",
   "pygments_lexer": "ipython3",
   "version": "3.12.7"
  }
 },
 "nbformat": 4,
 "nbformat_minor": 5
}
