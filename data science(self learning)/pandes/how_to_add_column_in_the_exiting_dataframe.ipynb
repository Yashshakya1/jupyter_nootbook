{
 "cells": [
  {
   "cell_type": "markdown",
   "id": "b85f96b2-8873-46a1-bc93-7934111629f7",
   "metadata": {},
   "source": [
    "# adding a new column in the exiting dataframe"
   ]
  },
  {
   "cell_type": "raw",
   "id": "cb69cfe2-403b-4277-8be8-f64e90abf176",
   "metadata": {},
   "source": [
    "this the way to add a new column in the last position of your dataframe \n",
    "limitation:- you can't add a column on other the postion like index 1,2 and so on "
   ]
  },
  {
   "cell_type": "code",
   "execution_count": 8,
   "id": "18525bb8-d2a9-4773-89f4-655c87b068cb",
   "metadata": {},
   "outputs": [
    {
     "name": "stdout",
     "output_type": "stream",
     "text": [
      "orginal data frame\n",
      "           Name  age  salary                  work\n",
      "0          yash   21  101000          data science\n",
      "1  yash vardhan   23  100000          data analyst\n",
      "2         tanya   20   10000       sales executive\n",
      "3         tushi   18   20000             accounted\n",
      "4         mohit   25     150                swiper\n",
      "5          monu   26   12000  hardware Engineering\n",
      "6      shinchan   45   15000               maneger\n",
      "7       nobitha   22   25000          bank maneger\n",
      "8      doremone   30   30000             scientest\n",
      "adding a new column in the exiting data frame :-\n",
      "           Name  age  salary                  work    bonus\n",
      "0          yash   21  101000          data science  10100.0\n",
      "1  yash vardhan   23  100000          data analyst  10000.0\n",
      "2         tanya   20   10000       sales executive   1000.0\n",
      "3         tushi   18   20000             accounted   2000.0\n",
      "4         mohit   25     150                swiper     15.0\n",
      "5          monu   26   12000  hardware Engineering   1200.0\n",
      "6      shinchan   45   15000               maneger   1500.0\n",
      "7       nobitha   22   25000          bank maneger   2500.0\n",
      "8      doremone   30   30000             scientest   3000.0\n"
     ]
    }
   ],
   "source": [
    "import pandas as pd\n",
    "data = {\n",
    "\"Name\"  : ['yash','yash vardhan','tanya','tushi','mohit','monu','shinchan','nobitha','doremone'],\n",
    "\"age\"   : [21,23,20,18,25,26,45,22,30],   # Note: these are strings, not numbers\n",
    "\"salary\":[101000,100000,10000,20000,150,12000,15000,25000,30000],\n",
    "\"work\"  : ['data science','data analyst','sales executive','accounted','swiper','hardware Engineering',\n",
    "           'maneger','bank maneger','scientest']\n",
    "}\n",
    "df = pd.DataFrame(data)\n",
    "print(\"orginal data frame\")\n",
    "print(df)\n",
    "print(\"adding a new column in the exiting data frame :-\")\n",
    "df['bonus'] = df['salary'] * 0.1\n",
    "print(df)"
   ]
  },
  {
   "cell_type": "markdown",
   "id": "071deec2-859c-457d-bdc5-12c3bcc92572",
   "metadata": {},
   "source": [
    "# another method to adding a new column in the spacfic postion "
   ]
  },
  {
   "cell_type": "raw",
   "id": "b2adb33b-f4bb-475c-879b-a438d63838e0",
   "metadata": {},
   "source": [
    "the method is insert(location,'column_name',some data)"
   ]
  },
  {
   "cell_type": "code",
   "execution_count": 12,
   "id": "da28d7dd-91e3-4399-b217-652ed3881868",
   "metadata": {},
   "outputs": [
    {
     "name": "stdout",
     "output_type": "stream",
     "text": [
      "orginal data frame\n",
      "           Name  age  salary                  work\n",
      "0          yash   21  101000          data science\n",
      "1  yash vardhan   23  100000          data analyst\n",
      "2         tanya   20   10000       sales executive\n",
      "3         tushi   18   20000             accounted\n",
      "4         mohit   25     150                swiper\n",
      "5          monu   26   12000  hardware Engineering\n",
      "6      shinchan   45   15000               maneger\n",
      "7       nobitha   22   25000          bank maneger\n",
      "8      doremone   30   30000             scientest\n",
      "adding new column by insert() method:-\n",
      "           Name  age  emolye id  salary                  work\n",
      "0          yash   21         22  101000          data science\n",
      "1  yash vardhan   23         20  100000          data analyst\n",
      "2         tanya   20         15   10000       sales executive\n",
      "3         tushi   18         65   20000             accounted\n",
      "4         mohit   25         84     150                swiper\n",
      "5          monu   26         98   12000  hardware Engineering\n",
      "6      shinchan   45         74   15000               maneger\n",
      "7       nobitha   22         66   25000          bank maneger\n",
      "8      doremone   30         34   30000             scientest\n"
     ]
    }
   ],
   "source": [
    "import pandas as pd\n",
    "data = {\n",
    "\"Name\"  : ['yash','yash vardhan','tanya','tushi','mohit','monu','shinchan','nobitha','doremone'],\n",
    "\"age\"   : [21,23,20,18,25,26,45,22,30],   # Note: these are strings, not numbers\n",
    "\"salary\":[101000,100000,10000,20000,150,12000,15000,25000,30000],\n",
    "\"work\"  : ['data science','data analyst','sales executive','accounted','swiper','hardware Engineering',\n",
    "           'maneger','bank maneger','scientest']\n",
    "}\n",
    "df = pd.DataFrame(data)\n",
    "print(\"orginal data frame\")\n",
    "print(df)\n",
    "print(\"adding new column by insert() method:-\")\n",
    "df.insert(2,\"emolye id\",[22,20,15,65,84,98,74,66,34])\n",
    "print(df)"
   ]
  }
 ],
 "metadata": {
  "kernelspec": {
   "display_name": "Python 3 (ipykernel)",
   "language": "python",
   "name": "python3"
  },
  "language_info": {
   "codemirror_mode": {
    "name": "ipython",
    "version": 3
   },
   "file_extension": ".py",
   "mimetype": "text/x-python",
   "name": "python",
   "nbconvert_exporter": "python",
   "pygments_lexer": "ipython3",
   "version": "3.12.7"
  }
 },
 "nbformat": 4,
 "nbformat_minor": 5
}
