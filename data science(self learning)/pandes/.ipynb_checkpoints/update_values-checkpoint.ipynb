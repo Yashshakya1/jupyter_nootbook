{
 "cells": [
  {
   "cell_type": "markdown",
   "id": "fcbfc8aa-a996-48d6-ac19-474aaa4d40b6",
   "metadata": {},
   "source": [
    "# update a values in the exiting dataframe "
   ]
  },
  {
   "cell_type": "raw",
   "id": "077b5abb-10ef-4f7b-855a-5f519de524d1",
   "metadata": {},
   "source": [
    "update a values by using the df.loc[index number, column name] = data "
   ]
  },
  {
   "cell_type": "code",
   "execution_count": 3,
   "id": "6501fe8b-9034-4361-837c-4b5f4c5270e2",
   "metadata": {},
   "outputs": [
    {
     "name": "stdout",
     "output_type": "stream",
     "text": [
      "           Name  age  salary                  work\n",
      "0          yash   21  101000          data science\n",
      "1  yash vardhan   23  100000          data analyst\n",
      "2         tanya   20   10000       sales executive\n",
      "3         tushi   18   20000             accounted\n",
      "4         mohit   25     150                swiper\n",
      "5          monu   26   12000  hardware Engineering\n",
      "6      shinchan   45   15000               maneger\n",
      "7       nobitha   22   25000          bank maneger\n",
      "8      doremone   30   30000             scientest\n",
      "modify data frame in the mohit :-\n",
      "           Name  age  salary                  work\n",
      "0          yash   21  101000          data science\n",
      "1  yash vardhan   23  100000          data analyst\n",
      "2         tanya   20   10000       sales executive\n",
      "3         tushi   18   20000             accounted\n",
      "4         mohit   25   10000                swiper\n",
      "5          monu   26   12000  hardware Engineering\n",
      "6      shinchan   45   15000               maneger\n",
      "7       nobitha   22   25000          bank maneger\n",
      "8      doremone   30   30000             scientest\n"
     ]
    }
   ],
   "source": [
    "import pandas as pd \n",
    "data = {\n",
    "\"Name\"  : ['yash','yash vardhan','tanya','tushi','mohit','monu','shinchan','nobitha','doremone'],\n",
    "\"age\"   : [21,23,20,18,25,26,45,22,30],   # Note: these are strings, not numbers\n",
    "\"salary\":[101000,100000,10000,20000,150,12000,15000,25000,30000],\n",
    "\"work\"  : ['data science','data analyst','sales executive','accounted','swiper','hardware Engineering',\n",
    "           'maneger','bank maneger','scientest']\n",
    "}\n",
    "df = pd.DataFrame(data)\n",
    "print(df)\n",
    "df.loc[4,'salary'] = 10000\n",
    "print(\"modify data frame in the mohit :-\")\n",
    "print(df)"
   ]
  }
 ],
 "metadata": {
  "kernelspec": {
   "display_name": "Python 3 (ipykernel)",
   "language": "python",
   "name": "python3"
  },
  "language_info": {
   "codemirror_mode": {
    "name": "ipython",
    "version": 3
   },
   "file_extension": ".py",
   "mimetype": "text/x-python",
   "name": "python",
   "nbconvert_exporter": "python",
   "pygments_lexer": "ipython3",
   "version": "3.12.7"
  }
 },
 "nbformat": 4,
 "nbformat_minor": 5
}
