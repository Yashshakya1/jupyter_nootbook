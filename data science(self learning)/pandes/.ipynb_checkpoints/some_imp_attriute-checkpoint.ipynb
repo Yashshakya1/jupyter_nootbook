{
 "cells": [
  {
   "cell_type": "raw",
   "id": "18d55b52-3997-41b1-85c0-4237175a4fdf",
   "metadata": {},
   "source": [
    "two important attribute like shape and column \n",
    "shape:- return the dimention like rows and column as a tuple \n",
    "column:- return the name of the column as a list "
   ]
  },
  {
   "cell_type": "code",
   "execution_count": 11,
   "id": "c6cdbf29-d36b-410e-b3bc-cd17d3a0e497",
   "metadata": {},
   "outputs": [
    {
     "name": "stdout",
     "output_type": "stream",
     "text": [
      "    Name age  salary             work\n",
      "0   yash  21  100000     data science\n",
      "1  tanya  20   10000  sales executive\n",
      "2  tushi  18   20000        accounted\n",
      "3  mohit  25     150           swiper\n",
      "(4, 4)\n",
      "Index(['Name', 'age', 'salary', 'work'], dtype='object')\n"
     ]
    }
   ],
   "source": [
    "import pandas as pd\n",
    "\n",
    "data = {\n",
    "      \"Name\"  : ['yash','tanya','tushi','mohit'],\n",
    "      \"age\"   : ['21','20','18','25'],   # Note: these are strings, not numbers\n",
    "      \"salary\":[100000,10000,20000,150],\n",
    "      \"work\"  : ['data science','sales executive','accounted','swiper']\n",
    "}\n",
    "\n",
    "ds = pd.DataFrame(data)\n",
    "print(ds)\n",
    "print(ds.shape)\n",
    "print(ds.columns)"
   ]
  }
 ],
 "metadata": {
  "kernelspec": {
   "display_name": "Python 3 (ipykernel)",
   "language": "python",
   "name": "python3"
  },
  "language_info": {
   "codemirror_mode": {
    "name": "ipython",
    "version": 3
   },
   "file_extension": ".py",
   "mimetype": "text/x-python",
   "name": "python",
   "nbconvert_exporter": "python",
   "pygments_lexer": "ipython3",
   "version": "3.12.7"
  }
 },
 "nbformat": 4,
 "nbformat_minor": 5
}
