{
 "cells": [
  {
   "cell_type": "markdown",
   "id": "2efac610-7a06-46a5-b3d6-6a8fb5125fe8",
   "metadata": {},
   "source": [
    "# selecting the single or multi columns in the dataframe "
   ]
  },
  {
   "cell_type": "raw",
   "id": "efa5fae9-d71c-4ee0-be48-2062970a2eb3",
   "metadata": {},
   "source": [
    "varible = df[\"column name\"] single column \n",
    "varible = df[[\"column name\",\"column name\"]] multi column "
   ]
  },
  {
   "cell_type": "code",
   "execution_count": 15,
   "id": "5786c0f0-b479-4276-a1b9-b8077e28a840",
   "metadata": {},
   "outputs": [
    {
     "name": "stdout",
     "output_type": "stream",
     "text": [
      "    Name age  salary             work\n",
      "0   yash  21  100000     data science\n",
      "1  tanya  20   10000  sales executive\n",
      "2  tushi  18   20000        accounted\n",
      "3  mohit  25     150           swiper\n",
      "selecting the single column\n",
      "0       data science\n",
      "1    sales executive\n",
      "2          accounted\n",
      "3             swiper\n",
      "Name: work, dtype: object\n",
      "selecting the multi columns :-\n",
      "    Name age\n",
      "0   yash  21\n",
      "1  tanya  20\n",
      "2  tushi  18\n",
      "3  mohit  25\n"
     ]
    }
   ],
   "source": [
    "import pandas as pd\n",
    "data = {\n",
    "      \"Name\"  : ['yash','tanya','tushi','mohit'],\n",
    "      \"age\"   : ['21','20','18','25'],   # Note: these are strings, not numbers\n",
    "      \"salary\":[100000,10000,20000,150],\n",
    "      \"work\"  : ['data science','sales executive','accounted','swiper']\n",
    "}\n",
    "df = pd.DataFrame(data)\n",
    "print(df,sep=\"\\n\")\n",
    "print('selecting the single column', df[\"work\"],sep=\"\\n\")  # single column \n",
    "print('selecting the multi columns :-',df[[\"Name\",\"age\"]],sep='\\n') # multi columns "
   ]
  },
  {
   "cell_type": "code",
   "execution_count": 35,
   "id": "3461e096-bb4a-4f68-96e3-dc46cebc5276",
   "metadata": {},
   "outputs": [
    {
     "name": "stdout",
     "output_type": "stream",
     "text": [
      "    Name  age  salary             work\n",
      "0   yash   21  100000     data science\n",
      "1  tanya   20   10000  sales executive\n",
      "2  tushi   18   20000        accounted\n",
      "3  mohit   25     150           swiper\n",
      "   Name  age  salary          work\n",
      "0  yash   21  100000  data science\n",
      "multi condition filter row\n",
      "    Name  age  salary             work\n",
      "0   yash   21  100000     data science\n",
      "1  tanya   20   10000  sales executive\n",
      "2  tushi   18   20000        accounted\n"
     ]
    }
   ],
   "source": [
    "import pandas as pd\n",
    "data = {\n",
    "      \"Name\"  : ['yash','tanya','tushi','mohit'],\n",
    "      \"age\"   : [21,20,18,25],   # Note: these are strings, not numbers\n",
    "      \"salary\":[100000,10000,20000,150],\n",
    "      \"work\"  : ['data science','sales executive','accounted','swiper']\n",
    "}\n",
    "df = pd.DataFrame(data)\n",
    "print(df)\n",
    "print(df[df['salary'] > 20000]) # filter row with single condition \n",
    "filter_multi = df[(df['salary'] > 1000) & (df['age'] > 17)]\n",
    "print('multi condition filter row')\n",
    "print(filter_multi)"
   ]
  }
 ],
 "metadata": {
  "kernelspec": {
   "display_name": "Python 3 (ipykernel)",
   "language": "python",
   "name": "python3"
  },
  "language_info": {
   "codemirror_mode": {
    "name": "ipython",
    "version": 3
   },
   "file_extension": ".py",
   "mimetype": "text/x-python",
   "name": "python",
   "nbconvert_exporter": "python",
   "pygments_lexer": "ipython3",
   "version": "3.12.7"
  }
 },
 "nbformat": 4,
 "nbformat_minor": 5
}
