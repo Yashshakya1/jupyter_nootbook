{
 "cells": [
  {
   "cell_type": "markdown",
   "id": "7c964f2a-c135-4a98-bf7b-c3ec4004c5d7",
   "metadata": {},
   "source": [
    "# first code pandas"
   ]
  },
  {
   "cell_type": "raw",
   "id": "b7158287-8278-4cb6-b626-a6dc3434b3e1",
   "metadata": {},
   "source": [
    "why i learnd pandas \n",
    "data scientist :- preprocessing data , feature selection and exploratory data anylisis"
   ]
  },
  {
   "cell_type": "code",
   "execution_count": 2,
   "id": "dbfd9d30-682d-4aa9-ae00-c96b1aea34d5",
   "metadata": {},
   "outputs": [
    {
     "name": "stdout",
     "output_type": "stream",
     "text": [
      "Requirement already satisfied: pandas in f:\\anaconda\\lib\\site-packages (2.2.2)\n",
      "Requirement already satisfied: numpy>=1.26.0 in f:\\anaconda\\lib\\site-packages (from pandas) (1.26.4)\n",
      "Requirement already satisfied: python-dateutil>=2.8.2 in f:\\anaconda\\lib\\site-packages (from pandas) (2.9.0.post0)\n",
      "Requirement already satisfied: pytz>=2020.1 in f:\\anaconda\\lib\\site-packages (from pandas) (2024.1)\n",
      "Requirement already satisfied: tzdata>=2022.7 in f:\\anaconda\\lib\\site-packages (from pandas) (2023.3)\n",
      "Requirement already satisfied: six>=1.5 in f:\\anaconda\\lib\\site-packages (from python-dateutil>=2.8.2->pandas) (1.16.0)\n"
     ]
    }
   ],
   "source": [
    "!pip install pandas"
   ]
  },
  {
   "cell_type": "code",
   "execution_count": 10,
   "id": "0c94047c-53ca-4e43-91b2-ec979f1de035",
   "metadata": {},
   "outputs": [
    {
     "name": "stdout",
     "output_type": "stream",
     "text": [
      "   OrderID        Date Customer     Product  Quantity  Price\n",
      "0      101  2025-08-01    Alice      Laptop         1    800\n",
      "1      102  2025-08-02      Bob       Mouse         2     20\n",
      "2      103  2025-08-02  Charlie    Keyboard         1     50\n",
      "3      104  2025-08-03    Alice     Monitor         2    200\n",
      "4      105  2025-08-04      Eve  Headphones         3     30\n",
      "5      106  2025-08-04    Frank      Laptop         1    850\n"
     ]
    }
   ],
   "source": [
    "# import the pandas libraries \n",
    "import pandas as pd \n",
    "# read data from the csv file into a dataframe\n",
    "#using read method \n",
    "df = pd.read_csv(\"sample_sales.csv\" , encoding= \"latin1\" )\n",
    "print(df)\n",
    "# you facining a error while read any types file into a dataframe \n",
    "# you using the utf-8 and latin1\n",
    "# (gcsfs) is a librariey to read the data form the cloud storage into a dataframe "
   ]
  }
 ],
 "metadata": {
  "kernelspec": {
   "display_name": "Python 3 (ipykernel)",
   "language": "python",
   "name": "python3"
  },
  "language_info": {
   "codemirror_mode": {
    "name": "ipython",
    "version": 3
   },
   "file_extension": ".py",
   "mimetype": "text/x-python",
   "name": "python",
   "nbconvert_exporter": "python",
   "pygments_lexer": "ipython3",
   "version": "3.12.7"
  }
 },
 "nbformat": 4,
 "nbformat_minor": 5
}
