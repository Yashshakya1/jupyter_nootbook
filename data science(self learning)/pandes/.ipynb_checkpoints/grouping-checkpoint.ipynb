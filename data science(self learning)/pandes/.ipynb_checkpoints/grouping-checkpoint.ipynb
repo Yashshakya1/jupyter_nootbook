{
 "cells": [
  {
   "cell_type": "markdown",
   "id": "214ebfa4-a598-42ac-9b78-4119432bb45c",
   "metadata": {},
   "source": [
    "# grouping the data"
   ]
  },
  {
   "cell_type": "code",
   "execution_count": null,
   "id": "aec96351-fd12-44cf-a254-55c1a5b1de04",
   "metadata": {},
   "outputs": [],
   "source": []
  }
 ],
 "metadata": {
  "kernelspec": {
   "display_name": "Python 3 (ipykernel)",
   "language": "python",
   "name": "python3"
  },
  "language_info": {
   "codemirror_mode": {
    "name": "ipython",
    "version": 3
   },
   "file_extension": ".py",
   "mimetype": "text/x-python",
   "name": "python",
   "nbconvert_exporter": "python",
   "pygments_lexer": "ipython3",
   "version": "3.12.7"
  }
 },
 "nbformat": 4,
 "nbformat_minor": 5
}
