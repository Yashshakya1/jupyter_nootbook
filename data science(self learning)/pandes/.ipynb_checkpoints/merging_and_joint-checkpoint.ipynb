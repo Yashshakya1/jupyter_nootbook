{
 "cells": [
  {
   "cell_type": "code",
   "execution_count": 8,
   "id": "de444a18-d8ac-4adb-91b2-a3086d030cda",
   "metadata": {},
   "outputs": [
    {
     "name": "stdout",
     "output_type": "stream",
     "text": [
      "Inner Join function in the merging :-\n",
      "  Name_x  age  salary_x           work_x Name_y  salary_y           work_y\n",
      "0   yash   21    100000     data science   yash    101000     data science\n",
      "1  tanya   20     10000  sales executive  tanya     10000  sales executive\n",
      "2  tushi   18     20000        accounted  tushi     20000        accounted\n",
      "3  mohit   25       150           swiper  mohit       150           swiper\n"
     ]
    }
   ],
   "source": [
    "import pandas as pd \n",
    "\n",
    "# dataset_1\n",
    "dataset_1 = pd.DataFrame({\n",
    "    \"Name\"  : ['yash','tanya','tushi','mohit'],\n",
    "    \"age\"   : [21,20,18,25],   # keep numbers, not strings\n",
    "    \"salary\":[100000,10000,20000,150],\n",
    "    \"work\"  : ['data science','sales executive','accounted','swiper']\n",
    "})\n",
    "\n",
    "# dataset_2\n",
    "dataset_2 = pd.DataFrame({\n",
    "    \"Name\"  : ['yash','yash vardhan','tanya','tushi','mohit','monu','shinchan','nobitha','doremone'],\n",
    "    \"age\"   : [21,23,20,18,25,26,45,22,30],\n",
    "    \"salary\":[101000,100000,10000,20000,150,12000,15000,25000,30000],\n",
    "    \"work\"  : ['data science','data analyst','sales executive','accounted','swiper','hardware Engineering',\n",
    "               'maneger','bank maneger','scientest']   \n",
    "})\n",
    "\n",
    "# merging the two data set \n",
    "df = pd.merge(dataset_1, dataset_2, on='age', how=\"inner\")\n",
    "# inner functuion sowing only common data in the both data set \n",
    "\n",
    "print(\"Inner Join function in the merging :-\")\n",
    "print(df)\n"
   ]
  },
  {
   "cell_type": "markdown",
   "id": "98949a8e-40b5-456d-adba-b289f3190544",
   "metadata": {},
   "source": [
    "# they showing m*n = data \n",
    "* cross joint\n",
    "* where m is ds1 or n is ds2"
   ]
  },
  {
   "cell_type": "code",
   "execution_count": 17,
   "id": "97b1a69e-06c2-4c86-852c-2e88126437c0",
   "metadata": {},
   "outputs": [
    {
     "name": "stdout",
     "output_type": "stream",
     "text": [
      "   Name_x  age_x  salary_x           work_x        Name_y  age_y  salary_y                work_y\n",
      "0    yash     21    100000     data science          yash     21    101000          data science\n",
      "1    yash     21    100000     data science  yash vardhan     23    100000          data analyst\n",
      "2    yash     21    100000     data science         tanya     20     10000       sales executive\n",
      "3    yash     21    100000     data science         tushi     18     20000             accounted\n",
      "4    yash     21    100000     data science         mohit     25       150                swiper\n",
      "5    yash     21    100000     data science          monu     26     12000  hardware Engineering\n",
      "6    yash     21    100000     data science      shinchan     45     15000               maneger\n",
      "7    yash     21    100000     data science       nobitha     22     25000          bank maneger\n",
      "8    yash     21    100000     data science      doremone     30     30000             scientest\n",
      "9   tanya     20     10000  sales executive          yash     21    101000          data science\n",
      "10  tanya     20     10000  sales executive  yash vardhan     23    100000          data analyst\n",
      "11  tanya     20     10000  sales executive         tanya     20     10000       sales executive\n",
      "12  tanya     20     10000  sales executive         tushi     18     20000             accounted\n",
      "13  tanya     20     10000  sales executive         mohit     25       150                swiper\n",
      "14  tanya     20     10000  sales executive          monu     26     12000  hardware Engineering\n",
      "15  tanya     20     10000  sales executive      shinchan     45     15000               maneger\n",
      "16  tanya     20     10000  sales executive       nobitha     22     25000          bank maneger\n",
      "17  tanya     20     10000  sales executive      doremone     30     30000             scientest\n",
      "18  tushi     18     20000        accounted          yash     21    101000          data science\n",
      "19  tushi     18     20000        accounted  yash vardhan     23    100000          data analyst\n",
      "20  tushi     18     20000        accounted         tanya     20     10000       sales executive\n",
      "21  tushi     18     20000        accounted         tushi     18     20000             accounted\n",
      "22  tushi     18     20000        accounted         mohit     25       150                swiper\n",
      "23  tushi     18     20000        accounted          monu     26     12000  hardware Engineering\n",
      "24  tushi     18     20000        accounted      shinchan     45     15000               maneger\n",
      "25  tushi     18     20000        accounted       nobitha     22     25000          bank maneger\n",
      "26  tushi     18     20000        accounted      doremone     30     30000             scientest\n",
      "27  mohit     25       150           swiper          yash     21    101000          data science\n",
      "28  mohit     25       150           swiper  yash vardhan     23    100000          data analyst\n",
      "29  mohit     25       150           swiper         tanya     20     10000       sales executive\n",
      "30  mohit     25       150           swiper         tushi     18     20000             accounted\n",
      "31  mohit     25       150           swiper         mohit     25       150                swiper\n",
      "32  mohit     25       150           swiper          monu     26     12000  hardware Engineering\n",
      "33  mohit     25       150           swiper      shinchan     45     15000               maneger\n",
      "34  mohit     25       150           swiper       nobitha     22     25000          bank maneger\n",
      "35  mohit     25       150           swiper      doremone     30     30000             scientest\n"
     ]
    }
   ],
   "source": [
    "dataset_1 = pd.DataFrame({\n",
    "    \"Name\"  : ['yash','tanya','tushi','mohit'],\n",
    "    \"age\"   : [21,20,18,25],   # keep numbers, not strings\n",
    "    \"salary\":[100000,10000,20000,150],\n",
    "    \"work\"  : ['data science','sales executive','accounted','swiper']\n",
    "})\n",
    "\n",
    "# dataset_2\n",
    "dataset_2 = pd.DataFrame({\n",
    "    \"Name\"  : ['yash','yash vardhan','tanya','tushi','mohit','monu','shinchan','nobitha','doremone'],\n",
    "    \"age\"   : [21,23,20,18,25,26,45,22,30],\n",
    "    \"salary\":[101000,100000,10000,20000,150,12000,15000,25000,30000],\n",
    "    \"work\"  : ['data science','data analyst','sales executive','accounted','swiper','hardware Engineering',\n",
    "               'maneger','bank maneger','scientest']   \n",
    "})\n",
    "df = pd.merge(dataset_1,dataset_2, how = \"cross\")\n",
    "print(df)"
   ]
  }
 ],
 "metadata": {
  "kernelspec": {
   "display_name": "Python 3 (ipykernel)",
   "language": "python",
   "name": "python3"
  },
  "language_info": {
   "codemirror_mode": {
    "name": "ipython",
    "version": 3
   },
   "file_extension": ".py",
   "mimetype": "text/x-python",
   "name": "python",
   "nbconvert_exporter": "python",
   "pygments_lexer": "ipython3",
   "version": "3.12.7"
  }
 },
 "nbformat": 4,
 "nbformat_minor": 5
}
