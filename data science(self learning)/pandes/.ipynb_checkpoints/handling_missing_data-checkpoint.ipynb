{
 "cells": [
  {
   "cell_type": "markdown",
   "id": "7095345b-9530-408c-b350-0d18306de3c4",
   "metadata": {},
   "source": [
    "# handling missing data"
   ]
  },
  {
   "cell_type": "raw",
   "id": "9f05dd2e-590f-4df2-97cd-47382950606c",
   "metadata": {},
   "source": [
    "detect the missing values with the help of isnull() method \n",
    "and also count will be showing by isnull().sum() method "
   ]
  },
  {
   "cell_type": "code",
   "execution_count": 5,
   "id": "d2d69e06-2a4e-4e97-b1a8-01b9c8f9138c",
   "metadata": {},
   "outputs": [
    {
     "name": "stdout",
     "output_type": "stream",
     "text": [
      "           Name   age    salary                  work\n",
      "0          yash  21.0  101000.0          data science\n",
      "1  yash vardhan  23.0  100000.0          data analyst\n",
      "2          None   NaN       NaN                  None\n",
      "3         tushi  18.0   20000.0             accounted\n",
      "4         mohit  25.0     150.0                swiper\n",
      "5          monu  26.0   12000.0  hardware Engineering\n",
      "6      shinchan  45.0   15000.0               maneger\n",
      "7       nobitha  22.0   25000.0          bank maneger\n",
      "8      doremone  30.0   30000.0             scientest\n",
      "showing a missing values in the form boolean :-\n",
      "    Name    age  salary   work\n",
      "0  False  False   False  False\n",
      "1  False  False   False  False\n",
      "2   True   True    True   True\n",
      "3  False  False   False  False\n",
      "4  False  False   False  False\n",
      "5  False  False   False  False\n",
      "6  False  False   False  False\n",
      "7  False  False   False  False\n",
      "8  False  False   False  False\n",
      "Name      1\n",
      "age       1\n",
      "salary    1\n",
      "work      1\n",
      "dtype: int64\n"
     ]
    }
   ],
   "source": [
    "import pandas as pd \n",
    "data = {\n",
    "\"Name\"  : ['yash','yash vardhan',None,'tushi','mohit','monu','shinchan','nobitha','doremone'],\n",
    "\"age\"   : [21,23,None,18,25,26,45,22,30],   # Note: these are strings, not numbers\n",
    "\"salary\":[101000,100000,None,20000,150,12000,15000,25000,30000],\n",
    "\"work\"  : ['data science','data analyst',None,'accounted','swiper','hardware Engineering',\n",
    "           'maneger','bank maneger','scientest']\n",
    "}\n",
    "df = pd.DataFrame(data)\n",
    "print(df)\n",
    "print(\"showing a missing values in the form boolean :-\")\n",
    "print(df.isnull())\n",
    "print(df.isnull().sum())"
   ]
  },
  {
   "cell_type": "markdown",
   "id": "d90d5d21-8e03-42d0-9d4b-9898d53991f0",
   "metadata": {},
   "source": [
    "# remove the missing values"
   ]
  },
  {
   "cell_type": "raw",
   "id": "a98a545b-8df4-4dbf-b787-393ae6162d4d",
   "metadata": {},
   "source": [
    "remove any missing values by using the dropna() method\n",
    "axis = 0 (removing only rows)\n",
    "axis = 1 (removing only columns)\n",
    "dropna(axis = 0/1, inplace = True )"
   ]
  },
  {
   "cell_type": "code",
   "execution_count": 2,
   "id": "867142d6-b8a4-44e9-b1f2-150f39759f76",
   "metadata": {},
   "outputs": [
    {
     "name": "stdout",
     "output_type": "stream",
     "text": [
      "           Name   age    salary                  work\n",
      "0          yash  21.0  101000.0          data science\n",
      "1  yash vardhan  23.0  100000.0          data analyst\n",
      "2          None   NaN       NaN                  None\n",
      "3         tushi  18.0   20000.0             accounted\n",
      "4         mohit  25.0     150.0                swiper\n",
      "5          monu  26.0   12000.0  hardware Engineering\n",
      "6      shinchan  45.0   15000.0               maneger\n",
      "7       nobitha  22.0   25000.0          bank maneger\n",
      "8      doremone  30.0   30000.0             scientest\n",
      "data frame after removing the missing values :-\n",
      "           Name   age    salary                  work\n",
      "0          yash  21.0  101000.0          data science\n",
      "1  yash vardhan  23.0  100000.0          data analyst\n",
      "3         tushi  18.0   20000.0             accounted\n",
      "4         mohit  25.0     150.0                swiper\n",
      "5          monu  26.0   12000.0  hardware Engineering\n",
      "6      shinchan  45.0   15000.0               maneger\n",
      "7       nobitha  22.0   25000.0          bank maneger\n",
      "8      doremone  30.0   30000.0             scientest\n"
     ]
    }
   ],
   "source": [
    "import pandas as pd \n",
    "data = {\n",
    "\"Name\"  : ['yash','yash vardhan',None,'tushi','mohit','monu','shinchan','nobitha','doremone'],\n",
    "\"age\"   : [21,23,None,18,25,26,45,22,30],   # Note: these are strings, not numbers\n",
    "\"salary\":[101000,100000,None,20000,150,12000,15000,25000,30000],\n",
    "\"work\"  : ['data science','data analyst',None,'accounted','swiper','hardware Engineering',\n",
    "           'maneger','bank maneger','scientest']\n",
    "}\n",
    "df = pd.DataFrame(data)\n",
    "print(df)\n",
    "print(\"data frame after removing the missing values :-\")\n",
    "df.dropna(inplace=True)\n",
    "print(df)"
   ]
  },
  {
   "cell_type": "markdown",
   "id": "4219bca0-b249-4558-a1fc-b3755c69c5c9",
   "metadata": {},
   "source": [
    "# filling the missing values "
   ]
  },
  {
   "cell_type": "raw",
   "id": "7da00c35-24f8-4d22-9279-f6d7d9d611ea",
   "metadata": {},
   "source": [
    "filling the missing values by using fillna() method \n",
    "fillna(value, inplace = True)\n",
    "but this method only filling the defult value in all missing places"
   ]
  },
  {
   "cell_type": "code",
   "execution_count": 18,
   "id": "07c683fd-e082-4e70-9776-00e9c54f10b5",
   "metadata": {},
   "outputs": [
    {
     "name": "stdout",
     "output_type": "stream",
     "text": [
      "           Name   age    salary                  work\n",
      "0          yash  21.0  101000.0          data science\n",
      "1  yash vardhan  23.0  100000.0          data analyst\n",
      "2          None   NaN       NaN                  None\n",
      "3         tushi  18.0   20000.0             accounted\n",
      "4         mohit  25.0     150.0                swiper\n",
      "5          monu  26.0   12000.0  hardware Engineering\n",
      "6      shinchan  45.0   15000.0               maneger\n",
      "7       nobitha  22.0   25000.0          bank maneger\n",
      "8      doremone  30.0   30000.0             scientest\n",
      "missing values fill with zero:-\n",
      "           Name   age    salary                  work\n",
      "0          yash  21.0  101000.0          data science\n",
      "1  yash vardhan  23.0  100000.0          data analyst\n",
      "2             0   0.0       0.0                     0\n",
      "3         tushi  18.0   20000.0             accounted\n",
      "4         mohit  25.0     150.0                swiper\n",
      "5          monu  26.0   12000.0  hardware Engineering\n",
      "6      shinchan  45.0   15000.0               maneger\n",
      "7       nobitha  22.0   25000.0          bank maneger\n",
      "8      doremone  30.0   30000.0             scientest\n"
     ]
    }
   ],
   "source": [
    "import pandas as pd \n",
    "data = {\n",
    "\"Name\"  : ['yash','yash vardhan',None,'tushi','mohit','monu','shinchan','nobitha','doremone'],\n",
    "\"age\"   : [21,23,None,18,25,26,45,22,30],   # Note: these are strings, not numbers\n",
    "\"salary\":[101000,100000,None,20000,150,12000,15000,25000,30000],\n",
    "\"work\"  : ['data science','data analyst',None,'accounted','swiper','hardware Engineering',\n",
    "           'maneger','bank maneger','scientest']\n",
    "}\n",
    "df = pd.DataFrame(data)\n",
    "print(df)\n",
    "df.fillna(0,inplace=True)\n",
    "print(\"missing values fill with zero:-\")\n",
    "print(df)"
   ]
  },
  {
   "cell_type": "markdown",
   "id": "4f5f0f87-f9f5-46e4-a4f6-8e2c9c4afac5",
   "metadata": {},
   "source": [
    "# fiiling a missing values with spacific postion  "
   ]
  },
  {
   "cell_type": "code",
   "execution_count": 3,
   "id": "f288fee7-9628-4844-b279-c803b7293723",
   "metadata": {},
   "outputs": [
    {
     "name": "stdout",
     "output_type": "stream",
     "text": [
      "Original DataFrame:\n",
      "            Name   age    salary                  work\n",
      "0          yash  21.0  101000.0          data science\n",
      "1  yash vardhan  23.0  100000.0          data analyst\n",
      "2          None   NaN       NaN                  None\n",
      "3         tushi  18.0   20000.0             accounted\n",
      "4         mohit  25.0     150.0                swiper\n",
      "5          monu  26.0   12000.0  hardware Engineering\n",
      "6      shinchan  45.0   15000.0               maneger\n",
      "7       nobitha  22.0   25000.0          bank maneger\n",
      "8      doremone  30.0   30000.0             scientest\n",
      "\n",
      "After Filling Salary Missing Values:\n",
      "            Name   age     salary                  work\n",
      "0          yash  21.0  101000.00          data science\n",
      "1  yash vardhan  23.0  100000.00          data analyst\n",
      "2          None   NaN   37893.75                  None\n",
      "3         tushi  18.0   20000.00             accounted\n",
      "4         mohit  25.0     150.00                swiper\n",
      "5          monu  26.0   12000.00  hardware Engineering\n",
      "6      shinchan  45.0   15000.00               maneger\n",
      "7       nobitha  22.0   25000.00          bank maneger\n",
      "8      doremone  30.0   30000.00             scientest\n"
     ]
    }
   ],
   "source": [
    "import pandas as pd \n",
    "\n",
    "data = {\n",
    "    \"Name\"  : ['yash','yash vardhan',None,'tushi','mohit','monu','shinchan','nobitha','doremone'],\n",
    "    \"age\"   : [21,23,None,18,25,26,45,22,30],   # ages are numbers, but one is missing (None)\n",
    "    \"salary\":[101000,100000,None,20000,150,12000,15000,25000,30000], # salary has missing value\n",
    "    \"work\"  : ['data science','data analyst',None,'accounted','swiper',\n",
    "               'hardware Engineering','maneger','bank maneger','scientest']\n",
    "}\n",
    "\n",
    "df = pd.DataFrame(data)\n",
    "\n",
    "print(\"Original DataFrame:\\n\", df)\n",
    "\n",
    "# Fill missing values in salary column with mean\n",
    "# df['salary'].fillna(df['salary'].mean(), inplace=True)     # showing the error this line temprarey \n",
    "\n",
    "# Using df['salary'].fillna(..., inplace=True) works now,\n",
    "# but in Pandas 3.0 this will stop working, because df['salary'] is \n",
    "# considered a \"view\" (copy) of the DataFrame, not the DataFrame itself.\n",
    "\n",
    "# df['salary'] = df['salary'].fillna(df['salary'].mean()) # 1st option\n",
    "# df.fillna({'salary': df['salary'].mean()}, inplace=True) # 2nd option\n",
    "df['salary'] = df['salary'].fillna(df['salary'].mean())\n",
    "\n",
    "\n",
    "print(\"\\nAfter Filling Salary Missing Values:\\n\", df)"
   ]
  }
 ],
 "metadata": {
  "kernelspec": {
   "display_name": "Python 3 (ipykernel)",
   "language": "python",
   "name": "python3"
  },
  "language_info": {
   "codemirror_mode": {
    "name": "ipython",
    "version": 3
   },
   "file_extension": ".py",
   "mimetype": "text/x-python",
   "name": "python",
   "nbconvert_exporter": "python",
   "pygments_lexer": "ipython3",
   "version": "3.12.7"
  }
 },
 "nbformat": 4,
 "nbformat_minor": 5
}
