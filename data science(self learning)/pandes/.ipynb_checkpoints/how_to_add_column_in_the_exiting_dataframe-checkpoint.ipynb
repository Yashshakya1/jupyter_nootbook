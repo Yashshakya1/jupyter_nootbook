{
 "cells": [
  {
   "cell_type": "markdown",
   "id": "b85f96b2-8873-46a1-bc93-7934111629f7",
   "metadata": {},
   "source": [
    "adding a new column in the exiting dataframe"
   ]
  },
  {
   "cell_type": "code",
   "execution_count": 5,
   "id": "18525bb8-d2a9-4773-89f4-655c87b068cb",
   "metadata": {},
   "outputs": [
    {
     "name": "stdout",
     "output_type": "stream",
     "text": [
      "orginal data frame\n",
      "       Name  age  salary                  work\n",
      "0      yash   21  100000          data science\n",
      "1     tanya   20   10000       sales executive\n",
      "2     tushi   18   20000             accounted\n",
      "3     mohit   25     150                swiper\n",
      "4      monu   26   12000  hardware Engineering\n",
      "5  shinchan   45   15000               maneger\n",
      "6   nobitha   22   25000          bank maneger\n",
      "7  doremone   30   30000             scientest\n",
      "adding a new column in the exiting data frame :-\n",
      "       Name  age  salary                  work    bonus\n",
      "0      yash   21  100000          data science  10000.0\n",
      "1     tanya   20   10000       sales executive   1000.0\n",
      "2     tushi   18   20000             accounted   2000.0\n",
      "3     mohit   25     150                swiper     15.0\n",
      "4      monu   26   12000  hardware Engineering   1200.0\n",
      "5  shinchan   45   15000               maneger   1500.0\n",
      "6   nobitha   22   25000          bank maneger   2500.0\n",
      "7  doremone   30   30000             scientest   3000.0\n"
     ]
    }
   ],
   "source": [
    "import pandas as pd\n",
    "data = {\n",
    "\"Name\"  : ['yash','tanya','tushi','mohit','monu','shinchan','nobitha','doremone'],\n",
    "\"age\"   : [21,20,18,25,26,45,22,30],   # Note: these are strings, not numbers\n",
    "\"salary\":[100000,10000,20000,150,12000,15000,25000,30000],\n",
    "\"work\"  : ['data science','sales executive','accounted','swiper','hardware Engineering',\n",
    "           'maneger','bank maneger','scientest']\n",
    "}\n",
    "df = pd.DataFrame(data)\n",
    "print(\"orginal data frame\")\n",
    "print(df)\n",
    "print(\"adding a new column in the exiting data frame :-\")\n",
    "df['bonus'] = df['salary'] * 0.1\n",
    "print(df)"
   ]
  }
 ],
 "metadata": {
  "kernelspec": {
   "display_name": "Python 3 (ipykernel)",
   "language": "python",
   "name": "python3"
  },
  "language_info": {
   "codemirror_mode": {
    "name": "ipython",
    "version": 3
   },
   "file_extension": ".py",
   "mimetype": "text/x-python",
   "name": "python",
   "nbconvert_exporter": "python",
   "pygments_lexer": "ipython3",
   "version": "3.12.7"
  }
 },
 "nbformat": 4,
 "nbformat_minor": 5
}
