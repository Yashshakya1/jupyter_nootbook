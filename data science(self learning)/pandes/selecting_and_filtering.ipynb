version https://git-lfs.github.com/spec/v1
oid sha256:a1205b4639fc7ce840e04d964f86c930f59b13fb299447daaba264279bc850f8
size 3795
