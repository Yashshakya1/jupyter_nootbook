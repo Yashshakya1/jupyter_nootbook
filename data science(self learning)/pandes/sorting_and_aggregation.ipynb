{
 "cells": [
  {
   "cell_type": "markdown",
   "id": "4fbe1c56-673b-4259-abd6-176950eb2166",
   "metadata": {},
   "source": [
    "# sorting the dataframe \n",
    "* with the help of sort_values() method\n",
    "* syntex sort_values(by = 'column_name', asscending = True/False, inplace = True)\n",
    "* True = assending order , False = deccending order  "
   ]
  },
  {
   "cell_type": "code",
   "execution_count": 11,
   "id": "476bca1f-79f9-49d6-a9cc-04bc4b7c309c",
   "metadata": {},
   "outputs": [
    {
     "name": "stdout",
     "output_type": "stream",
     "text": [
      "     Name  age  income\n",
      "0    yash   21    1212\n",
      "1  roshni   12    5454\n",
      "2   tushi   53     878\n",
      "3   dholo   25    5454\n",
      "4    raju   19    6566\n",
      "5    papu   18    9898\n",
      "sorting in accending order dataframe:-\n",
      "     Name  age  income\n",
      "1  roshni   12    5454\n",
      "5    papu   18    9898\n",
      "4    raju   19    6566\n",
      "0    yash   21    1212\n",
      "3   dholo   25    5454\n",
      "2   tushi   53     878\n",
      "sorting in deccending order  dataframe:-\n",
      "     Name  age  income\n",
      "2   tushi   53     878\n",
      "3   dholo   25    5454\n",
      "0    yash   21    1212\n",
      "4    raju   19    6566\n",
      "5    papu   18    9898\n",
      "1  roshni   12    5454\n"
     ]
    }
   ],
   "source": [
    "import pandas as pd\n",
    "dataset = {\n",
    "        \"Name\":['yash','roshni','tushi','dholo','raju','papu'],\n",
    "        \"age\":[21,12,53,25,19,18],\n",
    "        \"income\":[1212,5454,878,5454,6566,9898]\n",
    "}\n",
    "df = pd.DataFrame(dataset)\n",
    "print(df)\n",
    "df.sort_values(by = 'age',ascending=True,inplace = True)\n",
    "print(\"sorting in accending order dataframe:-\")\n",
    "print(df)\n",
    "df.sort_values(by = 'age',ascending=False,inplace = True)\n",
    "print(\"sorting in deccending order  dataframe:-\")\n",
    "print(df)"
   ]
  },
  {
   "cell_type": "markdown",
   "id": "7ea16cda-486e-4014-bd75-bdfe6f8a05f7",
   "metadata": {},
   "source": [
    "# sorting two  or more column by this syntex\n",
    "* df.sort_values(by =[\"age\",\"salary\"], [True,False], inplace = True)"
   ]
  },
  {
   "cell_type": "code",
   "execution_count": 16,
   "id": "3c5182bd-c696-4af4-95c5-d9e67a9c23e1",
   "metadata": {},
   "outputs": [
    {
     "name": "stdout",
     "output_type": "stream",
     "text": [
      "     Name  age  income\n",
      "0    yash   21    1212\n",
      "1  roshni   12    5454\n",
      "2   tushi   53     878\n",
      "3   dholo   25    5454\n",
      "4    raju   19    6566\n",
      "5    papu   18    9898\n",
      "sorting two age and salary dataframe :-\n",
      "     Name  age  income\n",
      "1  roshni   12    5454\n",
      "5    papu   18    9898\n",
      "4    raju   19    6566\n",
      "0    yash   21    1212\n",
      "3   dholo   25    5454\n",
      "2   tushi   53     878\n"
     ]
    }
   ],
   "source": [
    "import pandas as pd\n",
    "dataset = {\n",
    "        \"Name\":['yash','roshni','tushi','dholo','raju','papu'],\n",
    "        \"age\":[21,12,53,25,19,18],\n",
    "        \"income\":[1212,5454,878,5454,6566,9898]\n",
    "}\n",
    "df = pd.DataFrame(dataset)\n",
    "print(df)\n",
    "df.sort_values(by = [\"age\",\"income\"], ascending = [True,False],inplace = True)\n",
    "print(\"sorting two age and salary dataframe :-\")\n",
    "print(df)"
   ]
  },
  {
   "cell_type": "markdown",
   "id": "3e93e890-dc8b-4d7b-a291-564a43558274",
   "metadata": {},
   "source": [
    "# Aggregation\n",
    "* aggregation is showing the summery statistic means :- (numerical opration output)"
   ]
  },
  {
   "cell_type": "code",
   "execution_count": 1,
   "id": "fc3b329e-743c-4e2f-9989-a37ccf4e97fd",
   "metadata": {},
   "outputs": [
    {
     "name": "stdout",
     "output_type": "stream",
     "text": [
      "     Name  age  income\n",
      "0    yash   21    1212\n",
      "1  roshni   12    5454\n",
      "2   tushi   53     878\n",
      "3   dholo   25    5454\n",
      "4    raju   19    6566\n",
      "5    papu   18    9898\n",
      "average :- 4910.333333333333 median :- 5454.0\n"
     ]
    }
   ],
   "source": [
    "import pandas as pd\n",
    "dataset = {\n",
    "        \"Name\":['yash','roshni','tushi','dholo','raju','papu'],\n",
    "        \"age\":[21,12,53,25,19,18],\n",
    "        \"income\":[1212,5454,878,5454,6566,9898]\n",
    "}\n",
    "df = pd.DataFrame(dataset)\n",
    "print(df)\n",
    "average = df['income'].mean()\n",
    "m = df['income'].median()\n",
    "print('average :-',average,\"median :-\",m)"
   ]
  },
  {
   "cell_type": "markdown",
   "id": "a0e39fa5-dc14-43ff-99a6-3e7ac4f91c14",
   "metadata": {},
   "source": [
    "# aggergaion for tow or more columns "
   ]
  },
  {
   "cell_type": "code",
   "execution_count": 7,
   "id": "39a3ab88-fc86-4d28-a2d5-3f8efa73598e",
   "metadata": {},
   "outputs": [
    {
     "name": "stdout",
     "output_type": "stream",
     "text": [
      "        name  age  salary\n",
      "0       yash   21    1212\n",
      "1      tushi   24     545\n",
      "2     roshni   16    2121\n",
      "3  premchand   50     545\n",
      "4     armaan    2    3545\n",
      "age         50\n",
      "salary    3545\n",
      "dtype: int64 mode:- age         21.0\n",
      "salary    1212.0\n",
      "dtype: float64\n"
     ]
    }
   ],
   "source": [
    "import pandas as pd \n",
    "data = {\n",
    "       'name': ['yash','tushi','roshni','premchand','armaan'],\n",
    "        'age': [21,24,16,50,2],\n",
    "        'salary':[1212,545,2121,545,3545]\n",
    "}\n",
    "df = pd.DataFrame(data)\n",
    "print(df)\n",
    "average = df[['age','salary']].max() \n",
    "mode = df[['age','salary']].median()\n",
    "print(average,'mode:-',mode)"
   ]
  },
  {
   "cell_type": "code",
   "execution_count": null,
   "id": "4cbbe117-22b1-40f5-8cfe-785c60db4b39",
   "metadata": {},
   "outputs": [],
   "source": []
  }
 ],
 "metadata": {
  "kernelspec": {
   "display_name": "Python 3 (ipykernel)",
   "language": "python",
   "name": "python3"
  },
  "language_info": {
   "codemirror_mode": {
    "name": "ipython",
    "version": 3
   },
   "file_extension": ".py",
   "mimetype": "text/x-python",
   "name": "python",
   "nbconvert_exporter": "python",
   "pygments_lexer": "ipython3",
   "version": "3.12.7"
  }
 },
 "nbformat": 4,
 "nbformat_minor": 5
}
