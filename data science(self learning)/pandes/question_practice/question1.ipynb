{
 "cells": [
  {
   "cell_type": "markdown",
   "id": "6710fd1b-8793-4a2f-a00d-37c9c43333ec",
   "metadata": {},
   "source": [
    "# Exercise 1: From the given dataset print the first and last five rows"
   ]
  },
  {
   "cell_type": "code",
   "execution_count": 16,
   "id": "0afa6c1c-ae8f-47db-9d4f-0e3c0368d82b",
   "metadata": {},
   "outputs": [
    {
     "name": "stdout",
     "output_type": "stream",
     "text": [
      "first five rows :-\n",
      "      StudentID                Name  Age  Gender  ... Marks                         Email       Phone       City\n",
      "0             1        Allison Hill   27    Male  ...    99      fvalencia@mccullough.com  7772715422     Jaipur\n",
      "1             2         Noah Rhodes   18   Other  ...    81            kathy68@miller.com   383412472  Hyderabad\n",
      "2             3     Angie Henderson   17  Female  ...    63     mark21@shelton-keller.com   741975370     Jaipur\n",
      "3             4       Daniel Wagner   28    Male  ...    68              rgiles@yahoo.com  3998877335    Lucknow\n",
      "4             5     Cristian Santos   21    Male  ...    98        jessicamills@gmail.com  8375582632    Lucknow\n",
      "...         ...                 ...  ...     ...  ...   ...                           ...         ...        ...\n",
      "4995       4996      Michael Flores   21   Other  ...   100              kevin46@owen.com  3979064546     Jaipur\n",
      "4996       4997  Darryl Christensen   30  Female  ...    38       loganwarner@hotmail.com  4847451566  Hyderabad\n",
      "4997       4998       Allison Floyd   18  Female  ...    77        nicholas08@hotmail.com  7537389350    Kolkata\n",
      "4998       4999  Michelle Patterson   17  Female  ...    68  wrighttina@hebert-carter.com  4810737863    Lucknow\n",
      "4999       5000        Wendy Chavez   18    Male  ...    41   walkersamuel@williamson.com    57964834     Mumbai\n",
      "\n",
      "[5000 rows x 10 columns]\n"
     ]
    }
   ],
   "source": [
    "import pandas as pd\n",
    "df = pd.read_csv(\"sample_students_5000.csv\",encoding=\"latin1\")\n",
    "print(\"first five rows :-\")\n",
    "df.head()\n",
    "df.tail()\n",
    "print(df)\n",
    "\n"
   ]
  }
 ],
 "metadata": {
  "kernelspec": {
   "display_name": "Python 3 (ipykernel)",
   "language": "python",
   "name": "python3"
  },
  "language_info": {
   "codemirror_mode": {
    "name": "ipython",
    "version": 3
   },
   "file_extension": ".py",
   "mimetype": "text/x-python",
   "name": "python",
   "nbconvert_exporter": "python",
   "pygments_lexer": "ipython3",
   "version": "3.12.7"
  }
 },
 "nbformat": 4,
 "nbformat_minor": 5
}
