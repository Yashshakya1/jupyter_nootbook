{
 "cells": [
  {
   "cell_type": "markdown",
   "id": "6710fd1b-8793-4a2f-a00d-37c9c43333ec",
   "metadata": {},
   "source": [
    "# Exercise 1: From the given dataset print the first and last five rows"
   ]
  },
  {
   "cell_type": "code",
   "execution_count": 9,
   "id": "0afa6c1c-ae8f-47db-9d4f-0e3c0368d82b",
   "metadata": {},
   "outputs": [
    {
     "name": "stdout",
     "output_type": "stream",
     "text": [
      "the first five columns :-\n",
      "    index      company   body-style  wheel-base  ...  num-of-cylinders horsepower average-mileage    price\n",
      "0       0  alfa-romero  convertible        88.6  ...              four        111              21  13495.0\n",
      "1       1  alfa-romero  convertible        88.6  ...              four        111              21  16500.0\n",
      "2       2  alfa-romero    hatchback        94.5  ...               six        154              19  16500.0\n",
      "3       3         audi        sedan        99.8  ...              four        102              24  13950.0\n",
      "4       4         audi        sedan        99.4  ...              five        115              18  17450.0\n",
      "..    ...          ...          ...         ...  ...               ...        ...             ...      ...\n",
      "56     81   volkswagen        sedan        97.3  ...              four         85              27   7975.0\n",
      "57     82   volkswagen        sedan        97.3  ...              four         52              37   7995.0\n",
      "58     86   volkswagen        sedan        97.3  ...              four        100              26   9995.0\n",
      "59     87        volvo        sedan       104.3  ...              four        114              23  12940.0\n",
      "60     88        volvo        wagon       104.3  ...              four        114              23  13415.0\n",
      "\n",
      "[61 rows x 10 columns]\n",
      "the last five columns :-\n",
      "    index      company   body-style  wheel-base  ...  num-of-cylinders horsepower average-mileage    price\n",
      "0       0  alfa-romero  convertible        88.6  ...              four        111              21  13495.0\n",
      "1       1  alfa-romero  convertible        88.6  ...              four        111              21  16500.0\n",
      "2       2  alfa-romero    hatchback        94.5  ...               six        154              19  16500.0\n",
      "3       3         audi        sedan        99.8  ...              four        102              24  13950.0\n",
      "4       4         audi        sedan        99.4  ...              five        115              18  17450.0\n",
      "..    ...          ...          ...         ...  ...               ...        ...             ...      ...\n",
      "56     81   volkswagen        sedan        97.3  ...              four         85              27   7975.0\n",
      "57     82   volkswagen        sedan        97.3  ...              four         52              37   7995.0\n",
      "58     86   volkswagen        sedan        97.3  ...              four        100              26   9995.0\n",
      "59     87        volvo        sedan       104.3  ...              four        114              23  12940.0\n",
      "60     88        volvo        wagon       104.3  ...              four        114              23  13415.0\n",
      "\n",
      "[61 rows x 10 columns]\n"
     ]
    }
   ],
   "source": [
    "import pandas as pd\n",
    "df = pd.read_csv(\"Automobile_data (1).csv\",encoding=\"latin1\")\n",
    "df.head()\n",
    "print(\"the first five columns :-\")\n",
    "print(df)\n",
    "df.tail()\n",
    "print(\"the last five columns :-\")\n",
    "print(df)"
   ]
  }
 ],
 "metadata": {
  "kernelspec": {
   "display_name": "Python 3 (ipykernel)",
   "language": "python",
   "name": "python3"
  },
  "language_info": {
   "codemirror_mode": {
    "name": "ipython",
    "version": 3
   },
   "file_extension": ".py",
   "mimetype": "text/x-python",
   "name": "python",
   "nbconvert_exporter": "python",
   "pygments_lexer": "ipython3",
   "version": "3.12.7"
  }
 },
 "nbformat": 4,
 "nbformat_minor": 5
}
