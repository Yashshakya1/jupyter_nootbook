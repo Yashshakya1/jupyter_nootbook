{
 "cells": [
  {
   "cell_type": "markdown",
   "id": "bb5f02d9-14cc-4bc7-9b9a-ceb7a63ce3f5",
   "metadata": {},
   "source": [
    "# Creating a Pandas dataframe using list of tuples"
   ]
  },
  {
   "cell_type": "code",
   "execution_count": 3,
   "id": "1117bfce-a174-49db-8e94-ac984fc6089e",
   "metadata": {},
   "outputs": [
    {
     "name": "stdout",
     "output_type": "stream",
     "text": [
      "    name  age      number\n",
      "0   yash   54  1315533135\n",
      "1   ajay   23    87454564\n",
      "2  mohit   98    89765456\n"
     ]
    }
   ],
   "source": [
    "import pandas as pd \n",
    "ds = [('yash',54,1315533135),\n",
    "     ('ajay',23,87454564),\n",
    "      ('mohit',98,89765456)]\n",
    "df = pd.DataFrame(ds,columns = ['name','age','number'])\n",
    "print(df)\n",
    "print()"
   ]
  }
 ],
 "metadata": {
  "kernelspec": {
   "display_name": "Python 3 (ipykernel)",
   "language": "python",
   "name": "python3"
  },
  "language_info": {
   "codemirror_mode": {
    "name": "ipython",
    "version": 3
   },
   "file_extension": ".py",
   "mimetype": "text/x-python",
   "name": "python",
   "nbconvert_exporter": "python",
   "pygments_lexer": "ipython3",
   "version": "3.12.7"
  }
 },
 "nbformat": 4,
 "nbformat_minor": 5
}
