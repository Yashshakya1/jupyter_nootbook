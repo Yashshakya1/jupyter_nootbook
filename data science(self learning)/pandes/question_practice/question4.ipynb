{
 "cells": [
  {
   "cell_type": "markdown",
   "id": "97698069-fb81-4b36-a1c5-a11013ccbf9d",
   "metadata": {},
   "source": [
    "# Make a Pandas DataFrame with two-dimensional list | Python"
   ]
  },
  {
   "cell_type": "code",
   "execution_count": 2,
   "id": "ef320058-7de4-475d-b540-5156e57e5633",
   "metadata": {},
   "outputs": [
    {
     "name": "stdout",
     "output_type": "stream",
     "text": [
      "       tag  number\n",
      "0     html       5\n",
      "1     head      21\n",
      "2      div      32\n",
      "3     body      24\n",
      "4  section      56\n"
     ]
    }
   ],
   "source": [
    "import pandas as pd \n",
    "# Creating first the list \n",
    "# imp point is there is not any exit the keys \n",
    "list_ = [['html',5],['head',21],['div',32],['body',24],['section',56]]\n",
    "\n",
    "df = pd.DataFrame(list_,columns=['tag','number']) # defiend the keys and print the values\n",
    "print(df)"
   ]
  },
  {
   "cell_type": "markdown",
   "id": "bcc056c3-e0f0-47c5-994b-26b5fe7b1092",
   "metadata": {},
   "source": [
    "# another way to create a dataframe form the list "
   ]
  },
  {
   "cell_type": "code",
   "execution_count": 9,
   "id": "18a017cb-2866-40d8-9bac-b43d092c4c93",
   "metadata": {},
   "outputs": [
    {
     "name": "stdout",
     "output_type": "stream",
     "text": [
      "      cars   price\n",
      "0    honda   70000\n",
      "1      tvs   80000\n",
      "2      h2r  800000\n",
      "3   activa   90000\n",
      "4  avenger  563284\n"
     ]
    }
   ],
   "source": [
    "import pandas as pd\n",
    "ds = [['honda',70000],['tvs',80000],['h2r',800000],['activa',90000],['avenger',563284]]\n",
    "column = ['cars','price']\n",
    "df = pd.DataFrame(ds,columns= column)\n",
    "print(df)"
   ]
  },
  {
   "cell_type": "markdown",
   "id": "2260f7ac-6f72-4764-9d60-226ce1165d12",
   "metadata": {},
   "source": [
    "# Create Pandas Dataframe from 2D List using pd.DataFrame.from_dict()"
   ]
  },
  {
   "cell_type": "code",
   "execution_count": 16,
   "id": "a9e21a43-c9a5-4b87-bbca-d59e5b9b70d2",
   "metadata": {},
   "outputs": [
    {
     "name": "stdout",
     "output_type": "stream",
     "text": [
      "      cars   price colors\n",
      "0    honda   70000    red\n",
      "1      tvs   80000  white\n",
      "2      h2r  800000  green\n",
      "3   activa   90000  white\n",
      "4  avenger  563284  black\n",
      "<class 'pandas.core.frame.DataFrame'>\n"
     ]
    }
   ],
   "source": [
    "import pandas as pd\n",
    "ds = [['honda',70000,'red'],['tvs',80000,'white'],['h2r',800000,'green'],\n",
    "      ['activa',90000,'white'],['avenger',563284,'black']]\n",
    "column = ['cars','price','colors']\n",
    "df = pd.DataFrame.from_dict(dict(zip(column,zip(*ds))))\n",
    "print(df)\n",
    "print(type(df))"
   ]
  }
 ],
 "metadata": {
  "kernelspec": {
   "display_name": "Python 3 (ipykernel)",
   "language": "python",
   "name": "python3"
  },
  "language_info": {
   "codemirror_mode": {
    "name": "ipython",
    "version": 3
   },
   "file_extension": ".py",
   "mimetype": "text/x-python",
   "name": "python",
   "nbconvert_exporter": "python",
   "pygments_lexer": "ipython3",
   "version": "3.12.7"
  }
 },
 "nbformat": 4,
 "nbformat_minor": 5
}
