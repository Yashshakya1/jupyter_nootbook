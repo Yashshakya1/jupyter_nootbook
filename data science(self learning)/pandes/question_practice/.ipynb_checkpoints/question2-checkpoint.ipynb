{
 "cells": [
  {
   "cell_type": "markdown",
   "id": "c49c4b78-7c27-4321-b610-92b0cfded132",
   "metadata": {},
   "source": [
    "# Exercise 2: Clean the dataset and update the CSV file"
   ]
  },
  {
   "cell_type": "code",
   "execution_count": null,
   "id": "e777bff1-4215-4552-b072-1d74e099eae4",
   "metadata": {},
   "outputs": [],
   "source": []
  }
 ],
 "metadata": {
  "kernelspec": {
   "display_name": "Python 3 (ipykernel)",
   "language": "python",
   "name": "python3"
  },
  "language_info": {
   "codemirror_mode": {
    "name": "ipython",
    "version": 3
   },
   "file_extension": ".py",
   "mimetype": "text/x-python",
   "name": "python",
   "nbconvert_exporter": "python",
   "pygments_lexer": "ipython3",
   "version": "3.12.7"
  }
 },
 "nbformat": 4,
 "nbformat_minor": 5
}
