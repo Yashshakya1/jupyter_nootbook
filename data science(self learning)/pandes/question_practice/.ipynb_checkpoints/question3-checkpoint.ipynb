{
 "cells": [
  {
   "cell_type": "markdown",
   "id": "f6217a79-6652-4a3e-b601-33d3a372955a",
   "metadata": {},
   "source": [
    "# Exercise 3: Find the most expensive car company name"
   ]
  },
  {
   "cell_type": "code",
   "execution_count": 21,
   "id": "c41b49b0-8132-4e37-b0d8-f828426c804b",
   "metadata": {},
   "outputs": [
    {
     "name": "stdout",
     "output_type": "stream",
     "text": [
      "  company name     price\n",
      "0       hondya    500000\n",
      "1         libo  20000000\n",
      "2      nisshan  30500000\n",
      "3        audio  40000000\n",
      "4         jeep   4000000\n",
      "5      porscha  60000000\n",
      "porscha :- the maximum price on this car is 60000000\n"
     ]
    }
   ],
   "source": [
    "import pandas as pd \n",
    "data = {\n",
    "     'company name': [\"hondya\",\"libo\",\"nisshan\",\"audio\",\"jeep\",\"porscha\"],\n",
    "     'price':[500000,20000000,30500000,40000000,4000000,60000000]\n",
    "}\n",
    "df = pd.DataFrame(data)\n",
    "print(df)\n",
    "maximum = df[\"price\"].max()\n",
    "max_index = df[\"price\"].idxmax() # idxmax is showing maximum index in the spacific co\n",
    "company_name_with_max_price = df.loc[max_index,\"company name\"]\n",
    "print(f'{company_name_with_max_price} :- the maximum price on this car is {maximum}')"
   ]
  }
 ],
 "metadata": {
  "kernelspec": {
   "display_name": "Python 3 (ipykernel)",
   "language": "python",
   "name": "python3"
  },
  "language_info": {
   "codemirror_mode": {
    "name": "ipython",
    "version": 3
   },
   "file_extension": ".py",
   "mimetype": "text/x-python",
   "name": "python",
   "nbconvert_exporter": "python",
   "pygments_lexer": "ipython3",
   "version": "3.12.7"
  }
 },
 "nbformat": 4,
 "nbformat_minor": 5
}
