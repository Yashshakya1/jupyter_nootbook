{
 "cells": [
  {
   "cell_type": "markdown",
   "id": "1065a17d-1567-49a7-a893-e19f7de72f73",
   "metadata": {},
   "source": [
    "#  Convert list of nested dictionary into Pandas dataframe"
   ]
  },
  {
   "cell_type": "markdown",
   "id": "148248e8-c466-433c-b63b-937e49a4770b",
   "metadata": {},
   "source": [
    "* orient is used in some functions (like DataFrame.to_dict(), json_normalize(),\n",
    "DataFrame.to_json(), etc.) to decide how the data should be structured (oriented) \n",
    "when converting between formats (like DataFrame → dict/JSON or vice versa)."
   ]
  },
  {
   "cell_type": "code",
   "execution_count": 3,
   "id": "6a814c99-863f-4f13-ab63-bc2bd5603f59",
   "metadata": {},
   "outputs": [
    {
     "name": "stdout",
     "output_type": "stream",
     "text": [
      "         Country        Capital   Population\n",
      "1  New Country 1  New Capital 1  123,456,789\n",
      "2  New Country 2  New Capital 2  987,654,321\n",
      "3  New Country 3  New Capital 3  111,222,333\n"
     ]
    }
   ],
   "source": [
    "# importing pandas\n",
    "import pandas as pd\n",
    "\n",
    "countries = {\n",
    "    \"1\": {\"Country\": \"New Country 1\",\n",
    "          \"Capital\": \"New Capital 1\",\n",
    "          \"Population\": \"123,456,789\"},\n",
    "    \"2\": {\"Country\": \"New Country 2\",\n",
    "          \"Capital\": \"New Capital 2\",\n",
    "          \"Population\": \"987,654,321\"},\n",
    "    \"3\": {\"Country\": \"New Country 3\",\n",
    "          \"Capital\": \"New Capital 3\",\n",
    "          \"Population\": \"111,222,333\"}\n",
    "}\n",
    "\n",
    "df = pd.DataFrame.from_dict(countries, orient='index')\n",
    "print(df)"
   ]
  },
  {
   "cell_type": "code",
   "execution_count": null,
   "id": "c0490d5a-f146-4fe3-95ba-7a04d4c38fa0",
   "metadata": {},
   "outputs": [],
   "source": []
  }
 ],
 "metadata": {
  "kernelspec": {
   "display_name": "Python 3 (ipykernel)",
   "language": "python",
   "name": "python3"
  },
  "language_info": {
   "codemirror_mode": {
    "name": "ipython",
    "version": 3
   },
   "file_extension": ".py",
   "mimetype": "text/x-python",
   "name": "python",
   "nbconvert_exporter": "python",
   "pygments_lexer": "ipython3",
   "version": "3.12.7"
  }
 },
 "nbformat": 4,
 "nbformat_minor": 5
}
