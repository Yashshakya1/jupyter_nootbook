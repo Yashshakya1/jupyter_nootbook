{
 "cells": [
  {
   "cell_type": "markdown",
   "id": "956ac8d4-4b6a-47db-86e7-6acb4050d10d",
   "metadata": {},
   "source": [
    "# Creating DataFrame from dict of narray/lists"
   ]
  },
  {
   "cell_type": "code",
   "execution_count": 6,
   "id": "2d1f75de-68f2-491f-a176-a39978ec256d",
   "metadata": {},
   "outputs": [
    {
     "name": "stdout",
     "output_type": "stream",
     "text": [
      "               0      1      2\n",
      "Category   Array  Stack  Queue\n",
      "Student_1     20     21     19\n",
      "Student_2     15     20     14\n"
     ]
    }
   ],
   "source": [
    "# Python code demonstrate creating \n",
    "# DataFrame from dict narray / lists \n",
    "# By default addresses. \n",
    "\n",
    "import pandas as pd \n",
    "\n",
    "# initialise data of lists. \n",
    "data = {'Category':['Array', 'Stack', 'Queue'],\n",
    "        'Student_1':[20, 21, 19], 'Student_2':[15, 20, 14]} \n",
    "\n",
    "# Create DataFrame \n",
    "df = pd.DataFrame(data) \n",
    "\n",
    "# Print the output. \n",
    "print(df.transpose()) # Transpose() method is convert the index row into a column anc column to row "
   ]
  },
  {
   "cell_type": "markdown",
   "id": "22e32108-45cd-48e6-b60c-95d015918374",
   "metadata": {},
   "source": [
    "# sing Pandas Dataframe with the index parameter"
   ]
  },
  {
   "cell_type": "code",
   "execution_count": 10,
   "id": "35d2421a-18b7-426b-a529-f12ff950dbaf",
   "metadata": {},
   "outputs": [
    {
     "name": "stdout",
     "output_type": "stream",
     "text": [
      "          name  age      number     cast\n",
      "column1   yash   21  9893204199       sc\n",
      "column2  tushi   32  8815787044      obc\n",
      "column3   monu   52    78451858  general\n",
      "column4   tonu   62    65655645       st\n"
     ]
    }
   ],
   "source": [
    "import pandas as pd \n",
    "data = {\n",
    "     'name':['yash','tushi','monu','tonu'],\n",
    "     'age':[21,32,52,62],\n",
    "     'number':[9893204199,8815787044,78451858,65655645],\n",
    "     'cast':['sc','obc','general','st']\n",
    "}\n",
    "df = pd.DataFrame(data,index= ['column1','column2','column3','column4'])\n",
    "print(df)"
   ]
  }
 ],
 "metadata": {
  "kernelspec": {
   "display_name": "Python 3 (ipykernel)",
   "language": "python",
   "name": "python3"
  },
  "language_info": {
   "codemirror_mode": {
    "name": "ipython",
    "version": 3
   },
   "file_extension": ".py",
   "mimetype": "text/x-python",
   "name": "python",
   "nbconvert_exporter": "python",
   "pygments_lexer": "ipython3",
   "version": "3.12.7"
  }
 },
 "nbformat": 4,
 "nbformat_minor": 5
}
