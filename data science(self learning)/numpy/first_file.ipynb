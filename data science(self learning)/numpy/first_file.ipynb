version https://git-lfs.github.com/spec/v1
oid sha256:82cdf959973d24c97aebf08dcb7a2271ecb32af76cdd0bb782c1def306d5483e
size 788
