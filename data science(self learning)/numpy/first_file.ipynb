{
 "cells": [
  {
   "cell_type": "markdown",
   "id": "6d2aaf67-2bb4-406f-9361-12eacbb76f59",
   "metadata": {},
   "source": [
    "# Numpy"
   ]
  },
  {
   "cell_type": "code",
   "execution_count": 9,
   "id": "2738770b-d836-45ff-b87f-d0c4b6bbf9c7",
   "metadata": {},
   "outputs": [
    {
     "name": "stdout",
     "output_type": "stream",
     "text": [
      "<class 'numpy.ndarray'> [2 1 5 4 6 7]\n",
      "[2 1 5 4 6 7]\n"
     ]
    }
   ],
   "source": [
    "import numpy as np \n",
    "arr = np.array([2,1,5,4,6,7]) # list to array\n",
    "arr1 = np.array((2,1,5,4,6,7))  # tupple to array\n",
    "print(type(arr),arr)\n",
    "print(arr1)"
   ]
  }
 ],
 "metadata": {
  "kernelspec": {
   "display_name": "Python 3 (ipykernel)",
   "language": "python",
   "name": "python3"
  },
  "language_info": {
   "codemirror_mode": {
    "name": "ipython",
    "version": 3
   },
   "file_extension": ".py",
   "mimetype": "text/x-python",
   "name": "python",
   "nbconvert_exporter": "python",
   "pygments_lexer": "ipython3",
   "version": "3.12.7"
  }
 },
 "nbformat": 4,
 "nbformat_minor": 5
}
