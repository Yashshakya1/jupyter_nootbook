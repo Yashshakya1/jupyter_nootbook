{
 "cells": [
  {
   "cell_type": "markdown",
   "id": "79896c30-151d-40bd-9696-3a443460f331",
   "metadata": {},
   "source": [
    "# Zero dimension array\n",
    "* 0-D arrays, or Scalars, are the elements in an array. Each value in an array is a 0-D array."
   ]
  },
  {
   "cell_type": "code",
   "execution_count": 2,
   "id": "dc66482e-00d9-403c-b083-71de4e99dcde",
   "metadata": {},
   "outputs": [
    {
     "name": "stdout",
     "output_type": "stream",
     "text": [
      "100\n"
     ]
    }
   ],
   "source": [
    "import numpy as np \n",
    "arr = np.array(100)\n",
    "print(arr)"
   ]
  },
  {
   "cell_type": "markdown",
   "id": "21c4ca4b-be03-492f-8d6d-9f81c096d329",
   "metadata": {},
   "source": [
    "# 1-D Arrays"
   ]
  },
  {
   "cell_type": "code",
   "execution_count": 4,
   "id": "c82babf6-ba6c-470c-a1b1-7d68fb9ab4a3",
   "metadata": {},
   "outputs": [
    {
     "name": "stdout",
     "output_type": "stream",
     "text": [
      "[1 2 3 4 5 6]\n"
     ]
    }
   ],
   "source": [
    "import numpy as np \n",
    "arr = np.array([1,2,3,4,5,6])\n",
    "print(arr)"
   ]
  },
  {
   "cell_type": "markdown",
   "id": "8d3ff7a6-e80b-49a4-95c1-0b99e3453292",
   "metadata": {},
   "source": [
    "# 2-D Arrays"
   ]
  },
  {
   "cell_type": "code",
   "execution_count": 7,
   "id": "8e754eb7-adca-4d03-ab8e-5faeec0ee603",
   "metadata": {},
   "outputs": [
    {
     "name": "stdout",
     "output_type": "stream",
     "text": [
      "[[1 2 3 4 5 6]\n",
      " [6 5 4 3 2 1]]\n"
     ]
    }
   ],
   "source": [
    "import numpy as np \n",
    "arr = np.array([[1,2,3,4,5,6],[6,5,4,3,2,1]])\n",
    "print(arr)"
   ]
  },
  {
   "cell_type": "markdown",
   "id": "f91ddda7-c718-48a7-ad45-fa982ffc7dc6",
   "metadata": {},
   "source": [
    "# 3-D arrays"
   ]
  },
  {
   "cell_type": "code",
   "execution_count": 11,
   "id": "d5e3e18c-79b1-41a5-8548-39606688373a",
   "metadata": {},
   "outputs": [
    {
     "name": "stdout",
     "output_type": "stream",
     "text": [
      "[[[1 2 3 4]\n",
      "  [5 6 7 8]]\n",
      "\n",
      " [[8 7 6 5]\n",
      "  [4 3 2 1]]]\n",
      "3\n"
     ]
    }
   ],
   "source": [
    "import numpy as np \n",
    "arr = np.array([[[1,2,3,4],[5,6,7,8]]  , [[8,7,6,5],[4,3,2,1]]])\n",
    "print(arr)\n",
    "print(arr.ndim)  # ndim is a attribute for checking the how many dimention in your array "
   ]
  },
  {
   "cell_type": "code",
   "execution_count": null,
   "id": "89549728-b20a-42a6-83b4-0fe8cbe9f893",
   "metadata": {},
   "outputs": [],
   "source": []
  }
 ],
 "metadata": {
  "kernelspec": {
   "display_name": "Python 3 (ipykernel)",
   "language": "python",
   "name": "python3"
  },
  "language_info": {
   "codemirror_mode": {
    "name": "ipython",
    "version": 3
   },
   "file_extension": ".py",
   "mimetype": "text/x-python",
   "name": "python",
   "nbconvert_exporter": "python",
   "pygments_lexer": "ipython3",
   "version": "3.12.7"
  }
 },
 "nbformat": 4,
 "nbformat_minor": 5
}
