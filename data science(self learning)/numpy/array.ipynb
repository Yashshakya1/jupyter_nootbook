{
 "cells": [
  {
   "cell_type": "markdown",
   "id": "79896c30-151d-40bd-9696-3a443460f331",
   "metadata": {},
   "source": [
    "# Zero dimension array\n",
    "* 0-D arrays, or Scalars, are the elements in an array. Each value in an array is a 0-D array."
   ]
  },
  {
   "cell_type": "code",
   "execution_count": 2,
   "id": "dc66482e-00d9-403c-b083-71de4e99dcde",
   "metadata": {},
   "outputs": [
    {
     "name": "stdout",
     "output_type": "stream",
     "text": [
      "100\n"
     ]
    }
   ],
   "source": [
    "import numpy as np \n",
    "arr = np.array(100)\n",
    "print(arr)"
   ]
  },
  {
   "cell_type": "markdown",
   "id": "21c4ca4b-be03-492f-8d6d-9f81c096d329",
   "metadata": {},
   "source": [
    "# 1-D Arrays"
   ]
  },
  {
   "cell_type": "code",
   "execution_count": 4,
   "id": "c82babf6-ba6c-470c-a1b1-7d68fb9ab4a3",
   "metadata": {},
   "outputs": [
    {
     "name": "stdout",
     "output_type": "stream",
     "text": [
      "[1 2 3 4 5 6]\n"
     ]
    }
   ],
   "source": [
    "import numpy as np \n",
    "arr = np.array([1,2,3,4,5,6])\n",
    "print(arr)"
   ]
  },
  {
   "cell_type": "markdown",
   "id": "8d3ff7a6-e80b-49a4-95c1-0b99e3453292",
   "metadata": {},
   "source": [
    "# 2-D Arrays"
   ]
  },
  {
   "cell_type": "code",
   "execution_count": 7,
   "id": "8e754eb7-adca-4d03-ab8e-5faeec0ee603",
   "metadata": {},
   "outputs": [
    {
     "name": "stdout",
     "output_type": "stream",
     "text": [
      "[[1 2 3 4 5 6]\n",
      " [6 5 4 3 2 1]]\n"
     ]
    }
   ],
   "source": [
    "import numpy as np \n",
    "arr = np.array([[1,2,3,4,5,6],[6,5,4,3,2,1]])\n",
    "print(arr)"
   ]
  },
  {
   "cell_type": "markdown",
   "id": "f91ddda7-c718-48a7-ad45-fa982ffc7dc6",
   "metadata": {},
   "source": [
    "# 3-D arrays"
   ]
  },
  {
   "cell_type": "code",
   "execution_count": 11,
   "id": "d5e3e18c-79b1-41a5-8548-39606688373a",
   "metadata": {},
   "outputs": [
    {
     "name": "stdout",
     "output_type": "stream",
     "text": [
      "[[[1 2 3 4]\n",
      "  [5 6 7 8]]\n",
      "\n",
      " [[8 7 6 5]\n",
      "  [4 3 2 1]]]\n",
      "3\n"
     ]
    }
   ],
   "source": [
    "import numpy as np \n",
    "arr = np.array([[[1,2,3,4],[5,6,7,8]]  , [[8,7,6,5],[4,3,2,1]]])\n",
    "print(arr)\n",
    "print(arr.ndim)  # ndim is a attribute for checking the how many dimention in your array "
   ]
  },
  {
   "cell_type": "markdown",
   "id": "b1687bb1-2b7c-4a94-afb5-340988773b92",
   "metadata": {},
   "source": [
    "# creating no of dimention (ndmin)\n",
    "* When the array is created, you can define the number of dimensions by using the ndmin argument."
   ]
  },
  {
   "cell_type": "code",
   "execution_count": 1,
   "id": "871c7c96-4598-4b01-91b1-61352b02678a",
   "metadata": {},
   "outputs": [
    {
     "name": "stdout",
     "output_type": "stream",
     "text": [
      "[[[[ 1  2  5 48  7  6]]]]\n",
      "4\n"
     ]
    }
   ],
   "source": [
    "import numpy as np \n",
    "array = np.array((1,2,5,48,7,6), ndmin= 4)\n",
    "print(array)\n",
    "print(array.ndim)"
   ]
  },
  {
   "cell_type": "markdown",
   "id": "68934c71-5d80-4ddc-a937-42dfe5a126ff",
   "metadata": {},
   "source": [
    "# array indexing "
   ]
  },
  {
   "cell_type": "code",
   "execution_count": 9,
   "id": "fcb519e6-9ae5-450e-8588-db2834acdd97",
   "metadata": {},
   "outputs": [
    {
     "name": "stdout",
     "output_type": "stream",
     "text": [
      "1\n"
     ]
    }
   ],
   "source": [
    "import numpy as np \n",
    "arr = np.array([1,2,3,4,5,6])\n",
    "print(arr[0])"
   ]
  },
  {
   "cell_type": "markdown",
   "id": "625e952a-affa-4d4f-bcaf-b5c33bcd28b6",
   "metadata": {},
   "source": [
    "# operation "
   ]
  },
  {
   "cell_type": "code",
   "execution_count": 11,
   "id": "aa2d522b-03a9-4c6c-bf89-ef1c9b5fda7b",
   "metadata": {},
   "outputs": [
    {
     "name": "stdout",
     "output_type": "stream",
     "text": [
      "4\n"
     ]
    }
   ],
   "source": [
    "import numpy as np \n",
    "arr = np.array([1,2,3,4,5,6])\n",
    "print(arr[0] + arr[3] - arr[0])   # 1 + 4 - 1 = 4"
   ]
  },
  {
   "cell_type": "markdown",
   "id": "5a2a8869-bca8-4c64-8d61-9cf807905eb4",
   "metadata": {},
   "source": [
    "* operation in the 2D array "
   ]
  },
  {
   "cell_type": "code",
   "execution_count": 17,
   "id": "57f2a6fd-a1a0-4d04-910e-3a7bf55d9332",
   "metadata": {},
   "outputs": [
    {
     "ename": "ValueError",
     "evalue": "setting an array element with a sequence. The requested array has an inhomogeneous shape after 1 dimensions. The detected shape was (2,) + inhomogeneous part.",
     "output_type": "error",
     "traceback": [
      "\u001b[1;31m---------------------------------------------------------------------------\u001b[0m",
      "\u001b[1;31mValueError\u001b[0m                                Traceback (most recent call last)",
      "Cell \u001b[1;32mIn[17], line 2\u001b[0m\n\u001b[0;32m      1\u001b[0m \u001b[38;5;28;01mimport\u001b[39;00m \u001b[38;5;21;01mnumpy\u001b[39;00m \u001b[38;5;28;01mas\u001b[39;00m \u001b[38;5;21;01mnp\u001b[39;00m \n\u001b[1;32m----> 2\u001b[0m arr \u001b[38;5;241m=\u001b[39m np\u001b[38;5;241m.\u001b[39marray([[\u001b[38;5;241m1\u001b[39m,\u001b[38;5;241m2\u001b[39m,\u001b[38;5;241m3\u001b[39m,\u001b[38;5;241m4\u001b[39m,\u001b[38;5;241m5\u001b[39m,\u001b[38;5;241m6\u001b[39m],[\u001b[38;5;241m3\u001b[39m,\u001b[38;5;241m2\u001b[39m,\u001b[38;5;241m5\u001b[39m,\u001b[38;5;241m4\u001b[39m,\u001b[38;5;241m6\u001b[39m]])\n\u001b[0;32m      3\u001b[0m \u001b[38;5;28mprint\u001b[39m(arr[\u001b[38;5;241m0\u001b[39m,\u001b[38;5;241m2\u001b[39m])\n",
      "\u001b[1;31mValueError\u001b[0m: setting an array element with a sequence. The requested array has an inhomogeneous shape after 1 dimensions. The detected shape was (2,) + inhomogeneous part."
     ]
    }
   ],
   "source": [
    "import numpy as np \n",
    "arr = np.array([[1,2,3,4,5,6],[3,2,5,4,6]])\n",
    "print(arr[0,2])"
   ]
  }
 ],
 "metadata": {
  "kernelspec": {
   "display_name": "Python 3 (ipykernel)",
   "language": "python",
   "name": "python3"
  },
  "language_info": {
   "codemirror_mode": {
    "name": "ipython",
    "version": 3
   },
   "file_extension": ".py",
   "mimetype": "text/x-python",
   "name": "python",
   "nbconvert_exporter": "python",
   "pygments_lexer": "ipython3",
   "version": "3.12.7"
  }
 },
 "nbformat": 4,
 "nbformat_minor": 5
}
