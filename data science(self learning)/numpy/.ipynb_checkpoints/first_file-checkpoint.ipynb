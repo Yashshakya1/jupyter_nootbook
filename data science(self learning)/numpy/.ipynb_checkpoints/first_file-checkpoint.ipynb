{
 "cells": [
  {
   "cell_type": "markdown",
   "id": "6d2aaf67-2bb4-406f-9361-12eacbb76f59",
   "metadata": {},
   "source": [
    "# creating the array "
   ]
  },
  {
   "cell_type": "code",
   "execution_count": 10,
   "id": "2738770b-d836-45ff-b87f-d0c4b6bbf9c7",
   "metadata": {},
   "outputs": [
    {
     "name": "stdout",
     "output_type": "stream",
     "text": [
      "<class 'numpy.ndarray'> [2 1 5 4 6 7]\n",
      "[2 1 5 4 6 7]\n"
     ]
    }
   ],
   "source": [
    "import numpy as np \n",
    "arr = np.array([2,1,5,4,6,7]) # list to array\n",
    "arr1 = np.array((2,1,5,4,6,7))  # tupple to array\n",
    "print(type(arr),arr)\n",
    "print(arr1)"
   ]
  },
  {
   "cell_type": "markdown",
   "id": "c0e0f06c-00a6-4df6-b018-fa551ef9b3e1",
   "metadata": {},
   "source": [
    "# Checking NumPy Version"
   ]
  },
  {
   "cell_type": "code",
   "execution_count": 13,
   "id": "4931c631-28c1-4256-b19e-3cb33a2f2fb3",
   "metadata": {},
   "outputs": [
    {
     "name": "stdout",
     "output_type": "stream",
     "text": [
      "1.26.4\n"
     ]
    }
   ],
   "source": [
    "import numpy as np \n",
    "print(np.__version__)"
   ]
  }
 ],
 "metadata": {
  "kernelspec": {
   "display_name": "Python 3 (ipykernel)",
   "language": "python",
   "name": "python3"
  },
  "language_info": {
   "codemirror_mode": {
    "name": "ipython",
    "version": 3
   },
   "file_extension": ".py",
   "mimetype": "text/x-python",
   "name": "python",
   "nbconvert_exporter": "python",
   "pygments_lexer": "ipython3",
   "version": "3.12.7"
  }
 },
 "nbformat": 4,
 "nbformat_minor": 5
}
