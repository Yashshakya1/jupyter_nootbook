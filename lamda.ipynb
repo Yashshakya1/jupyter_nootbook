{
 "cells": [
  {
   "cell_type": "markdown",
   "id": "ac0d1838-4d2d-4887-a37b-4230b208c1fa",
   "metadata": {},
   "source": [
    "# lambda is used to create anonymous (unnamed) functions — that is, functions defined without a def statement."
   ]
  },
  {
   "cell_type": "code",
   "execution_count": 4,
   "id": "4c9bb07d-5560-4ed4-88e7-6ad791be0aef",
   "metadata": {},
   "outputs": [
    {
     "name": "stdout",
     "output_type": "stream",
     "text": [
      "this is the result :- 128\n"
     ]
    }
   ],
   "source": [
    "add = lambda x,y: x+y\n",
    "print(f'this is the result :- {add(64,64)}')"
   ]
  },
  {
   "cell_type": "code",
   "execution_count": 13,
   "id": "49f59eb1-592b-42c8-ad90-ff0a5c8ce624",
   "metadata": {},
   "outputs": [
    {
     "name": "stdout",
     "output_type": "stream",
     "text": [
      "144\n"
     ]
    }
   ],
   "source": [
    "square = lambda x: x ** 2\n",
    "print(f'{square(12)}')"
   ]
  },
  {
   "cell_type": "code",
   "execution_count": 21,
   "id": "e4269a0f-ad89-406a-bbec-cf423c680ddc",
   "metadata": {},
   "outputs": [
    {
     "name": "stdout",
     "output_type": "stream",
     "text": [
      "gf bf\n"
     ]
    }
   ],
   "source": [
    "abuseing = lambda: \"gf bf\"\n",
    "print(abuseing())"
   ]
  },
  {
   "cell_type": "code",
   "execution_count": 19,
   "id": "f630e34b-dace-48a7-a4d7-02fc7a1c8452",
   "metadata": {},
   "outputs": [
    {
     "name": "stdout",
     "output_type": "stream",
     "text": [
      "Hello, World!\n"
     ]
    }
   ],
   "source": [
    "greet = lambda: \"Hello, World!\"\n",
    "print(greet())  # Output: Hello, World!\n"
   ]
  }
 ],
 "metadata": {
  "kernelspec": {
   "display_name": "Python 3 (ipykernel)",
   "language": "python",
   "name": "python3"
  },
  "language_info": {
   "codemirror_mode": {
    "name": "ipython",
    "version": 3
   },
   "file_extension": ".py",
   "mimetype": "text/x-python",
   "name": "python",
   "nbconvert_exporter": "python",
   "pygments_lexer": "ipython3",
   "version": "3.12.7"
  },
  "panel-cell-order": [
   "253fa3e0-a4e7-4ad7-883c-f16daf9c52a7",
   "eba039e4-cef0-46f3-9f6f-81c417a77b63",
   "28cfb10a-2c16-40f3-9203-16af4f703a4e",
   "99499dcf-4a63-4e49-b134-9bc326363394"
  ]
 },
 "nbformat": 4,
 "nbformat_minor": 5
}
