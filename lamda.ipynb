{
 "cells": [
  {
   "cell_type": "markdown",
   "id": "ac0d1838-4d2d-4887-a37b-4230b208c1fa",
   "metadata": {},
   "source": [
    "# lambda is used to create anonymous (unnamed) functions — that is, functions defined without a def statement."
   ]
  },
  {
   "cell_type": "code",
   "execution_count": 40,
   "id": "4c9bb07d-5560-4ed4-88e7-6ad791be0aef",
   "metadata": {},
   "outputs": [
    {
     "name": "stdout",
     "output_type": "stream",
     "text": [
      "the sum of two number is :-10\n",
      "this is the result :- 10\n"
     ]
    }
   ],
   "source": [
    "def add(x,y):\n",
    "    return x+y\n",
    "print(f\"the sum of two number is :-{add(5,5)}\")\n",
    "add = lambda x,y: x+y\n",
    "print(f'this is the result :- {add(5,5)}')"
   ]
  },
  {
   "cell_type": "code",
   "execution_count": 13,
   "id": "49f59eb1-592b-42c8-ad90-ff0a5c8ce624",
   "metadata": {},
   "outputs": [
    {
     "name": "stdout",
     "output_type": "stream",
     "text": [
      "144\n"
     ]
    }
   ],
   "source": [
    "square = lambda x: x ** 2\n",
    "print(f'{square(12)}')"
   ]
  },
  {
   "cell_type": "code",
   "execution_count": 21,
   "id": "e4269a0f-ad89-406a-bbec-cf423c680ddc",
   "metadata": {},
   "outputs": [
    {
     "name": "stdout",
     "output_type": "stream",
     "text": [
      "gf bf\n"
     ]
    }
   ],
   "source": [
    "abuseing = lambda: \"gf bf\"\n",
    "print(abuseing())"
   ]
  },
  {
   "cell_type": "code",
   "execution_count": 1,
   "id": "f630e34b-dace-48a7-a4d7-02fc7a1c8452",
   "metadata": {},
   "outputs": [
    {
     "name": "stdout",
     "output_type": "stream",
     "text": [
      "Hello, World!\n"
     ]
    }
   ],
   "source": [
    "greet = lambda: \"Hello, World!\"\n",
    "print(greet())  # Output: Hello, World!\n"
   ]
  },
  {
   "cell_type": "code",
   "execution_count": 3,
   "id": "30e3ed07-100b-4245-97ab-992e6cefd40b",
   "metadata": {},
   "outputs": [
    {
     "name": "stdout",
     "output_type": "stream",
     "text": [
      "4\n"
     ]
    }
   ],
   "source": [
    "## return the string length\n",
    "string_length = lambda x:len(x)\n",
    "print(string_length(\"yash\"))"
   ]
  },
  {
   "cell_type": "markdown",
   "id": "8fd68703-1922-4850-a7e9-164ece48800a",
   "metadata": {},
   "source": [
    "# Map"
   ]
  },
  {
   "cell_type": "code",
   "execution_count": 7,
   "id": "de86f581-72b4-442d-8f73-628978a2a2ca",
   "metadata": {},
   "outputs": [
    {
     "name": "stdout",
     "output_type": "stream",
     "text": [
      "[1, 8, 27, 64, 125, 216]\n"
     ]
    }
   ],
   "source": [
    "# def cube(x):\n",
    "#     return x*x*x\n",
    "# print(cube(2))\n",
    "cube = lambda x: x*x*x\n",
    "# slow procces for this approch\n",
    "l = [1,2,3,4,5,6]\n",
    "new_l = []\n",
    "for i in l:\n",
    "    new_l.append(cube(i))\n",
    "print(new_l)"
   ]
  },
  {
   "cell_type": "code",
   "execution_count": 11,
   "id": "3cd9bd36-fd6a-4df6-a6fb-1c9aabd165db",
   "metadata": {},
   "outputs": [
    {
     "name": "stdout",
     "output_type": "stream",
     "text": [
      "[1, 8, 27, 64, 125, 216]\n"
     ]
    }
   ],
   "source": [
    "# this is faster way to find the cube in all the element in the list \n",
    "cube = lambda x: x*x*x\n",
    "l = [1,2,3,4,5,6]\n",
    "new_list = list(map(cube,l))\n",
    "print(new_list)"
   ]
  },
  {
   "cell_type": "code",
   "execution_count": 17,
   "id": "fe2fccf5-a911-47ab-8a05-0b6b66e1b2d6",
   "metadata": {},
   "outputs": [
    {
     "name": "stdout",
     "output_type": "stream",
     "text": [
      "[5, 7, 9]\n"
     ]
    }
   ],
   "source": [
    "sum = lambda x,y:x+y\n",
    "result = list(map(sum,(1,2,3),(4,5,6)))\n",
    "print(result)"
   ]
  },
  {
   "cell_type": "markdown",
   "id": "8d8af5ff-cee7-4d97-b634-aaa995e53f52",
   "metadata": {},
   "source": [
    "# filter "
   ]
  },
  {
   "cell_type": "raw",
   "id": "6158d929-744c-415d-a06f-6aa1be61ce86",
   "metadata": {},
   "source": [
    "filter() function takes two parameters:\n",
    "\n",
    "function - a function that runs for each item of an iterable\n",
    "iterable - a sequence that needs to be filtered like sets, lists, tuples, etc\n",
    "\n",
    "defination:-\n",
    "\n",
    "A function that defines the condition to filter the elements. This function should return True for items you want to keep and False"
   ]
  },
  {
   "cell_type": "code",
   "execution_count": 20,
   "id": "f951a4b1-6bcb-4eb9-bcba-3a63495f39f0",
   "metadata": {},
   "outputs": [
    {
     "name": "stdout",
     "output_type": "stream",
     "text": [
      "[5, 6]\n"
     ]
    }
   ],
   "source": [
    "# def fil(a):\n",
    "#     return a>4\n",
    "l = [1,2,3,4,5,6] # l >4  [5,6]\n",
    "fil = lambda x: x>4\n",
    "new_list = list(filter(fil,l))\n",
    "print(new_list)"
   ]
  },
  {
   "cell_type": "code",
   "execution_count": 25,
   "id": "a2f5751c-6799-49e9-90d7-424937f85690",
   "metadata": {},
   "outputs": [
    {
     "name": "stdout",
     "output_type": "stream",
     "text": [
      "[2, 4, 6, 22, 0]\n"
     ]
    }
   ],
   "source": [
    "def even_check(num):\n",
    "    if num % 2 == 0:\n",
    "        return True\n",
    "    return False\n",
    "_list = [2,3,4,5,6,15,23,49,22,00]\n",
    "_filter = list(filter(even_check,_list))\n",
    "print(_filter)"
   ]
  },
  {
   "cell_type": "code",
   "execution_count": 35,
   "id": "bc4a828a-a2a9-4f06-8632-4847adb0ac14",
   "metadata": {},
   "outputs": [
    {
     "name": "stdout",
     "output_type": "stream",
     "text": [
      "frozenset({'u', 'e', 'a', 'o', 'i'})\n"
     ]
    }
   ],
   "source": [
    "letters = ['a','e','s','o','u','y','a','i']\n",
    "def filter_vowels(letters):\n",
    "    vowels = ['a', 'e', 'i', 'o', 'u']\n",
    "    if letters in vowels:\n",
    "        return True\n",
    "    else:\n",
    "        return False\n",
    "fil = frozenset(filter(filter_vowels,letters))\n",
    "print(fil)"
   ]
  },
  {
   "cell_type": "markdown",
   "id": "770f0a1b-8aae-4c11-8ec2-dde178eaa60c",
   "metadata": {},
   "source": [
    "# Reduce"
   ]
  },
  {
   "cell_type": "code",
   "execution_count": 37,
   "id": "e9dfa88d-70c9-4893-abd4-531e06c3ee04",
   "metadata": {},
   "outputs": [
    {
     "name": "stdout",
     "output_type": "stream",
     "text": [
      "28\n"
     ]
    }
   ],
   "source": [
    "from functools import reduce\n",
    "_list = [2,3,6,5,4,8]\n",
    "_reduce = reduce(lambda x,y: x+y,_list)\n",
    "print(_reduce)"
   ]
  }
 ],
 "metadata": {
  "kernelspec": {
   "display_name": "Python 3 (ipykernel)",
   "language": "python",
   "name": "python3"
  },
  "language_info": {
   "codemirror_mode": {
    "name": "ipython",
    "version": 3
   },
   "file_extension": ".py",
   "mimetype": "text/x-python",
   "name": "python",
   "nbconvert_exporter": "python",
   "pygments_lexer": "ipython3",
   "version": "3.12.7"
  },
  "panel-cell-order": [
   "253fa3e0-a4e7-4ad7-883c-f16daf9c52a7",
   "eba039e4-cef0-46f3-9f6f-81c417a77b63",
   "28cfb10a-2c16-40f3-9203-16af4f703a4e",
   "99499dcf-4a63-4e49-b134-9bc326363394"
  ]
 },
 "nbformat": 4,
 "nbformat_minor": 5
}
