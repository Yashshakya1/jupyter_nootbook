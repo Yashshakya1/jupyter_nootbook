{
 "cells": [
  {
   "cell_type": "markdown",
   "id": "e9084844-30e2-4f43-83ad-b7ef5b543c52",
   "metadata": {},
   "source": [
    "dictionary is a data types in the python"
   ]
  },
  {
   "cell_type": "raw",
   "id": "57b09155-1e07-4d51-b595-5464a1aeda1f",
   "metadata": {},
   "source": [
    "1. dictionary is a collection of key values parir\n",
    "this is so important in the data types \n",
    "this denoted by like this :-    dis = { }"
   ]
  },
  {
   "cell_type": "code",
   "execution_count": 6,
   "id": "d81b1483-79d7-46f9-aa6b-d40aacdc9fd2",
   "metadata": {},
   "outputs": [
    {
     "name": "stdout",
     "output_type": "stream",
     "text": [
      "{'yash': 89, 'suraj': 70, <class 'list'>: ['yash pass', 'suraj pass with lol']} <class 'dict'>\n",
      "this is the marks of yash :- 89\n"
     ]
    }
   ],
   "source": [
    "marks = {\n",
    "            \"yash\" : 89,\n",
    "           \"suraj\" : 70,\n",
    "            list   : [\"yash pass\",\"suraj pass with lol\"]\n",
    "        }\n",
    "print(marks,type(marks))\n",
    "print(\"this is the marks of yash :-\",marks[\"yash\"])"
   ]
  },
  {
   "cell_type": "code",
   "execution_count": null,
   "id": "f5376574-2218-4ff4-bbb9-250722213437",
   "metadata": {},
   "outputs": [],
   "source": []
  },
  {
   "cell_type": "code",
   "execution_count": null,
   "id": "bba24b9c-5c34-4d88-9607-f0c54171e906",
   "metadata": {},
   "outputs": [],
   "source": []
  }
 ],
 "metadata": {
  "kernelspec": {
   "display_name": "Python 3 (ipykernel)",
   "language": "python",
   "name": "python3"
  },
  "language_info": {
   "codemirror_mode": {
    "name": "ipython",
    "version": 3
   },
   "file_extension": ".py",
   "mimetype": "text/x-python",
   "name": "python",
   "nbconvert_exporter": "python",
   "pygments_lexer": "ipython3",
   "version": "3.12.7"
  }
 },
 "nbformat": 4,
 "nbformat_minor": 5
}
