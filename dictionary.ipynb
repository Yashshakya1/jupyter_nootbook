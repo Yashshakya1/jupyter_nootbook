{
 "cells": [
  {
   "cell_type": "markdown",
   "id": "e9084844-30e2-4f43-83ad-b7ef5b543c52",
   "metadata": {},
   "source": [
    "# dictionary is a data types in the python"
   ]
  },
  {
   "cell_type": "raw",
   "id": "57b09155-1e07-4d51-b595-5464a1aeda1f",
   "metadata": {},
   "source": [
    "1. dictionary is a collection of key values parir\n",
    "this is so important in the data types \n",
    "this denoted by like this :-    dis = { }"
   ]
  },
  {
   "cell_type": "code",
   "execution_count": 6,
   "id": "d81b1483-79d7-46f9-aa6b-d40aacdc9fd2",
   "metadata": {},
   "outputs": [
    {
     "name": "stdout",
     "output_type": "stream",
     "text": [
      "{'yash': 89, 'suraj': 70, <class 'list'>: ['yash pass', 'suraj pass with lol']} <class 'dict'>\n",
      "this is the marks of yash :- 89\n"
     ]
    }
   ],
   "source": [
    "marks = {\n",
    "            \"yash\" : 89,\n",
    "           \"suraj\" : 70,\n",
    "            list   : [\"yash pass\",\"suraj pass with lol\"]\n",
    "        }\n",
    "print(marks,type(marks))\n",
    "print(\"this is the marks of yash :-\",marks[\"yash\"])"
   ]
  },
  {
   "cell_type": "markdown",
   "id": "7123e068-b3c1-4e54-91ee-8068b4c02d3a",
   "metadata": {},
   "source": [
    "# methods"
   ]
  },
  {
   "cell_type": "raw",
   "id": "c5f3b435-1b60-4f7e-a8a0-89c033c9d57e",
   "metadata": {},
   "source": [
    "1. items() \n",
    "this method return the list of key values"
   ]
  },
  {
   "cell_type": "code",
   "execution_count": 10,
   "id": "a7c0272b-05ae-4d6a-a84b-136cd0616db8",
   "metadata": {},
   "outputs": [
    {
     "name": "stdout",
     "output_type": "stream",
     "text": [
      "dict_items([('yash', 89), ('suraj', 70), (<class 'list'>, ['yash pass', 'suraj pass with lol']), (0, ' string and int use both')])\n"
     ]
    }
   ],
   "source": [
    "marks = {\n",
    "            \"yash\" : 89,\n",
    "           \"suraj\" : 70,\n",
    "            list   : [\"yash pass\",\"suraj pass with lol\"],\n",
    "             0     : \" string and int use both\"\n",
    "         }\n",
    "print(marks.items())"
   ]
  },
  {
   "cell_type": "markdown",
   "id": "ae2da1ec-5f43-4871-9ab6-80d1796ecf46",
   "metadata": {},
   "source": [
    "2. keys()\n",
    "this method return a keys in the dictionary "
   ]
  },
  {
   "cell_type": "code",
   "execution_count": 12,
   "id": "cc8b4176-49d5-49c5-9559-c4e1748260d3",
   "metadata": {},
   "outputs": [
    {
     "name": "stdout",
     "output_type": "stream",
     "text": [
      "dict_keys(['yash', 'suraj', <class 'list'>, 0])\n"
     ]
    }
   ],
   "source": [
    "marks = {\n",
    "            \"yash\" : 89,\n",
    "           \"suraj\" : 70,\n",
    "            list   : [\"yash pass\",\"suraj pass with lol\"],\n",
    "             0     : \" string and int use both\"\n",
    "         }\n",
    "print(marks.keys())"
   ]
  },
  {
   "cell_type": "markdown",
   "id": "128b7f76-d85d-4c25-adc9-0c7b89ee5424",
   "metadata": {},
   "source": [
    "3. update()\n",
    "   update the keys values "
   ]
  },
  {
   "cell_type": "code",
   "execution_count": 16,
   "id": "6dba7d3f-cc49-489f-a2e3-e92a9e9e7241",
   "metadata": {},
   "outputs": [
    {
     "name": "stdout",
     "output_type": "stream",
     "text": [
      "{'yash': 99, 'suraj': 70, <class 'list'>: ['yash pass', 'suraj pass with lol'], 0: ' string and int use both', 'niha': 100}\n"
     ]
    }
   ],
   "source": [
    "marks = {\n",
    "            \"yash\" : 89,\n",
    "           \"suraj\" : 70,\n",
    "            list   : [\"yash pass\",\"suraj pass with lol\"],\n",
    "             0     : \" string and int use both\"\n",
    "         }\n",
    "marks.update({\"yash\" : 99, \"niha\" : 100})\n",
    "print(marks)"
   ]
  },
  {
   "cell_type": "markdown",
   "id": "e3b8a0c0-2c81-410d-888d-3ef09e5f7e96",
   "metadata": {},
   "source": [
    "4. get()\n",
    "   return the keys values\n",
    "imp method because of print([keys]) and get(keys) "
   ]
  },
  {
   "cell_type": "code",
   "execution_count": 20,
   "id": "a9b728d8-9f7e-4c6a-a600-b99c0bcf41e7",
   "metadata": {},
   "outputs": [
    {
     "name": "stdout",
     "output_type": "stream",
     "text": [
      "89\n",
      "89\n"
     ]
    }
   ],
   "source": [
    "marks = {\n",
    "            \"yash\" : 89,\n",
    "           \"suraj\" : 70,\n",
    "            list   : [\"yash pass\",\"suraj pass with lol\"]\n",
    "        }\n",
    "\n",
    "print(marks[\"yash\"])\n",
    "print(marks.get(\"yash\"))\n",
    "\n",
    " # print(marks[\"yash1\"])  this line showing error  \n",
    " # print(marks.get(\"yash1\")) this line is showing none \n",
    "# that's why this method is so important\n"
   ]
  },
  {
   "cell_type": "markdown",
   "id": "8a25fc03-f164-4402-97c7-38df47b1fd1f",
   "metadata": {},
   "source": [
    "#empty dic"
   ]
  },
  {
   "cell_type": "code",
   "execution_count": 23,
   "id": "657ca330-e49e-466b-9ce4-70a7b1bf1519",
   "metadata": {},
   "outputs": [
    {
     "name": "stdout",
     "output_type": "stream",
     "text": [
      "<class 'dict'>\n"
     ]
    }
   ],
   "source": [
    "dic = {} \n",
    "print(type(dic))"
   ]
  }
 ],
 "metadata": {
  "kernelspec": {
   "display_name": "Python 3 (ipykernel)",
   "language": "python",
   "name": "python3"
  },
  "language_info": {
   "codemirror_mode": {
    "name": "ipython",
    "version": 3
   },
   "file_extension": ".py",
   "mimetype": "text/x-python",
   "name": "python",
   "nbconvert_exporter": "python",
   "pygments_lexer": "ipython3",
   "version": "3.12.7"
  }
 },
 "nbformat": 4,
 "nbformat_minor": 5
}
