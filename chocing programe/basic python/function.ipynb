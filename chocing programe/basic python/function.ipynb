version https://git-lfs.github.com/spec/v1
oid sha256:2164dece3c4adc0f3085b85b0be4d65be4a5f4851b88a864b490c7ca5ea5ecff
size 5624
