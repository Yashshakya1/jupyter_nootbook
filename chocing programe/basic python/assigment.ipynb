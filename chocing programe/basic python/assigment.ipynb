{
 "cells": [
  {
   "cell_type": "markdown",
   "id": "e3babdce-252b-4c21-89db-46524dc1ac3b",
   "metadata": {},
   "source": [
    " # assigment operator"
   ]
  },
  {
   "cell_type": "code",
   "execution_count": 7,
   "id": "584d902d-591f-4623-a862-16ffbe55ea88",
   "metadata": {},
   "outputs": [
    {
     "name": "stdout",
     "output_type": "stream",
     "text": [
      "-20\n",
      "0\n"
     ]
    }
   ],
   "source": [
    "x = -20\n",
    "print(x)\n",
    "x += 20  \n",
    "x = x * 100000\n",
    "print(x)"
   ]
  }
 ],
 "metadata": {
  "kernelspec": {
   "display_name": "Python 3 (ipykernel)",
   "language": "python",
   "name": "python3"
  },
  "language_info": {
   "codemirror_mode": {
    "name": "ipython",
    "version": 3
   },
   "file_extension": ".py",
   "mimetype": "text/x-python",
   "name": "python",
   "nbconvert_exporter": "python",
   "pygments_lexer": "ipython3",
   "version": "3.12.7"
  }
 },
 "nbformat": 4,
 "nbformat_minor": 5
}
