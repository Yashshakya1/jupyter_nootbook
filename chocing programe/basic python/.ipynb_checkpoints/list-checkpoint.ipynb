{
 "cells": [
  {
   "cell_type": "markdown",
   "id": "676ab7ee-3317-4c18-936c-615de1c08ab0",
   "metadata": {},
   "source": [
    "# mathamatical operation in the list"
   ]
  },
  {
   "cell_type": "code",
   "execution_count": 28,
   "id": "38eaf4ca-1392-4ad8-bd72-680f8daf341f",
   "metadata": {},
   "outputs": [
    {
     "name": "stdout",
     "output_type": "stream",
     "text": [
      "[1, 2, 5, 4, 1, 2, 5, 4, 1, 2, 5, 4, 1, 2, 5, 4, 1, 2, 5, 4]\n",
      "[0, 0, 0, 0, 0]\n",
      "False\n",
      "True\n",
      "True\n"
     ]
    }
   ],
   "source": [
    "li = [1,2,5,4]\n",
    "li1 = [1,2,5,4]\n",
    "li2 = [0]\n",
    "print(li*5)\n",
    "print(li2*5)\n",
    "# membership operator\n",
    "print(7 in li)\n",
    "print(7 not in li)\n",
    "print(li == li1)"
   ]
  },
  {
   "cell_type": "markdown",
   "id": "7cbaf002-a1b9-460e-92a4-fa676df068a8",
   "metadata": {},
   "source": []
  },
  {
   "cell_type": "code",
   "execution_count": null,
   "id": "2489cf1f-b066-4376-b81c-6d65fc4390c3",
   "metadata": {},
   "outputs": [],
   "source": []
  }
 ],
 "metadata": {
  "kernelspec": {
   "display_name": "Python 3 (ipykernel)",
   "language": "python",
   "name": "python3"
  },
  "language_info": {
   "codemirror_mode": {
    "name": "ipython",
    "version": 3
   },
   "file_extension": ".py",
   "mimetype": "text/x-python",
   "name": "python",
   "nbconvert_exporter": "python",
   "pygments_lexer": "ipython3",
   "version": "3.12.7"
  }
 },
 "nbformat": 4,
 "nbformat_minor": 5
}
