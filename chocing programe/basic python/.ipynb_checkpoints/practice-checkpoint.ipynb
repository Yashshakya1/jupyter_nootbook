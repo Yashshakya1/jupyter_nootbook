{
 "cells": [
  {
   "cell_type": "code",
   "execution_count": 16,
   "id": "caa86335-cc54-434a-b400-0453ec2ed501",
   "metadata": {},
   "outputs": [
    {
     "name": "stdin",
     "output_type": "stream",
     "text": [
      "enter your string :- f\n"
     ]
    },
    {
     "name": "stdout",
     "output_type": "stream",
     "text": [
      "102\n",
      "f\n"
     ]
    }
   ],
   "source": [
    "str = input(\"enter your string :-\")\n",
    "asci = ord(str)\n",
    "print(asci)\n",
    "asci_chr = chr(asci)\n",
    "print(asci_chr)"
   ]
  },
  {
   "cell_type": "code",
   "execution_count": 20,
   "id": "0f8495fd-9645-4253-9fa7-07763c470f87",
   "metadata": {},
   "outputs": [
    {
     "name": "stdin",
     "output_type": "stream",
     "text": [
      "enter your str :- d\n"
     ]
    },
    {
     "name": "stdout",
     "output_type": "stream",
     "text": [
      "i\n"
     ]
    }
   ],
   "source": [
    "str = input(\"enter your str :-\")\n",
    "x = chr(ord(str) + 5)\n",
    "print(x)"
   ]
  },
  {
   "cell_type": "code",
   "execution_count": 22,
   "id": "59e3adaa-bbe8-4010-aa2d-cc60aa1e77ef",
   "metadata": {},
   "outputs": [
    {
     "name": "stdin",
     "output_type": "stream",
     "text": [
      "enter your str :- d\n"
     ]
    },
    {
     "name": "stdout",
     "output_type": "stream",
     "text": [
      "e\n"
     ]
    }
   ],
   "source": [
    "str = input(\"enter your str :-\")\n",
    "for i in str:\n",
    "    print(chr(ord(i) + 1))"
   ]
  },
  {
   "cell_type": "code",
   "execution_count": 24,
   "id": "3c1939ff-3868-417f-994b-e61d4edb8b4c",
   "metadata": {},
   "outputs": [
    {
     "name": "stdout",
     "output_type": "stream",
     "text": [
      "[2, 3, 4, 5, 6, 7]\n"
     ]
    }
   ],
   "source": [
    "li = [1,2,3,4,5,6]\n",
    "li1 = []\n",
    "for i in li:\n",
    "    x = li1.append(i + 1)\n",
    "\n",
    "print(li1)"
   ]
  },
  {
   "cell_type": "code",
   "execution_count": 27,
   "id": "09f29cc2-ef03-4904-9428-2d429ccd9924",
   "metadata": {},
   "outputs": [
    {
     "name": "stdout",
     "output_type": "stream",
     "text": [
      "[2, 6, 4, 8, 12, 6, 54]\n",
      "[3, 5, 7]\n"
     ]
    }
   ],
   "source": [
    "li = [2,3,6,5,4,7,8,12,6,54]\n",
    "el = []\n",
    "ol = []\n",
    "for i in li:\n",
    "    if(i%2 == 0):\n",
    "        el.append(i)\n",
    "    else:\n",
    "        ol.append(i)\n",
    "print(el)\n",
    "print(ol)"
   ]
  },
  {
   "cell_type": "code",
   "execution_count": null,
   "id": "b07bc55f-ebf9-4bfc-abc9-824595126a95",
   "metadata": {},
   "outputs": [],
   "source": [
    "number = int(input(\"enter yout number :-\"))\n",
    "td = 0\n",
    "while(number>0):\n",
    "    number = number // 10\n",
    "    td = td + 1\n",
    "print(\"the total digits in this is :- \",td)"
   ]
  },
  {
   "cell_type": "code",
   "execution_count": null,
   "id": "6af94446-d4d5-41c6-acbd-5fb0227de87a",
   "metadata": {},
   "outputs": [],
   "source": [
    "n = int(input(\"enter your number :- \"))\n",
    "s = str(n)\n",
    "td = len(s)\n",
    "print(td)"
   ]
  },
  {
   "cell_type": "code",
   "execution_count": null,
   "id": "d5f66741-6e1d-4ba3-9f54-305f3349561e",
   "metadata": {},
   "outputs": [],
   "source": [
    "num = int(input(\"enter your number :- \"))\n",
    "last_digit= num%10\n",
    "print(last_digitt)"
   ]
  }
 ],
 "metadata": {
  "kernelspec": {
   "display_name": "Python 3 (ipykernel)",
   "language": "python",
   "name": "python3"
  },
  "language_info": {
   "codemirror_mode": {
    "name": "ipython",
    "version": 3
   },
   "file_extension": ".py",
   "mimetype": "text/x-python",
   "name": "python",
   "nbconvert_exporter": "python",
   "pygments_lexer": "ipython3",
   "version": "3.12.7"
  }
 },
 "nbformat": 4,
 "nbformat_minor": 5
}
