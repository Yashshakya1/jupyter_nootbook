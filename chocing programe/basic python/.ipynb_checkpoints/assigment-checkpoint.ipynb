version https://git-lfs.github.com/spec/v1
oid sha256:d395e394268dd276ba178273ff1061eb733802a0d000b140d5f9b4b1fc658700
size 630
