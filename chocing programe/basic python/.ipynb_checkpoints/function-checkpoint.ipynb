version https://git-lfs.github.com/spec/v1
oid sha256:fa8535313382c02cf00b96a0e5771bb4f8c22d99d5f48c1051bf469b9c8f7499
size 5538
