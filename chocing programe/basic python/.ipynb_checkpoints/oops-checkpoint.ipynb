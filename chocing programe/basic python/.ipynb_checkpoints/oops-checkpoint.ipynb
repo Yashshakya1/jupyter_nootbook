version https://git-lfs.github.com/spec/v1
oid sha256:c1a7185bfa6aeb6448df2810baac5372c530b3cd8ab5163360076efd32a36d37
size 5625
