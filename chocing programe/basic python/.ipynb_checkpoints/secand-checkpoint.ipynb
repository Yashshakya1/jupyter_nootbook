{
 "cells": [
  {
   "cell_type": "markdown",
   "id": "253fa3e0-a4e7-4ad7-883c-f16daf9c52a7",
   "metadata": {
    "panel-layout": {
     "height": 51.142860412597656,
     "visible": true,
     "width": 100
    }
   },
   "source": [
    "#keywarod"
   ]
  },
  {
   "cell_type": "code",
   "execution_count": 4,
   "id": "eba039e4-cef0-46f3-9f6f-81c417a77b63",
   "metadata": {
    "panel-layout": {
     "height": 0,
     "visible": true,
     "width": 100
    }
   },
   "outputs": [
    {
     "name": "stdout",
     "output_type": "stream",
     "text": [
      "['False', 'None', 'True', 'and', 'as', 'assert', 'async', 'await', 'break', 'class', 'continue', 'def', 'del', 'elif', 'else', 'except', 'finally', 'for', 'from', 'global', 'if', 'import', 'in', 'is', 'lambda', 'nonlocal', 'not', 'or', 'pass', 'raise', 'return', 'try', 'while', 'with', 'yield']\n",
      "35\n"
     ]
    }
   ],
   "source": [
    "import keyword\n",
    "key = keyword.kwlist\n",
    "print(key)\n",
    "print(len(key))"
   ]
  },
  {
   "cell_type": "code",
   "execution_count": 28,
   "id": "28cfb10a-2c16-40f3-9203-16af4f703a4e",
   "metadata": {
    "panel-layout": {
     "height": 0,
     "visible": true,
     "width": 100
    }
   },
   "outputs": [
    {
     "name": "stdout",
     "output_type": "stream",
     "text": [
      "!\"#$%&'()*+,-./:;<=>?@[\\]^_`{|}~\n",
      "32\n"
     ]
    }
   ],
   "source": [
    "import string\n",
    "symbol = string.punctuation\n",
    "print(symbol)\n",
    "print(len(symbol))"
   ]
  },
  {
   "cell_type": "markdown",
   "id": "99499dcf-4a63-4e49-b134-9bc326363394",
   "metadata": {
    "panel-layout": {
     "height": 60.590476989746094,
     "visible": true,
     "width": 100
    }
   },
   "source": [
    "# identifiers:-----------"
   ]
  },
  {
   "cell_type": "raw",
   "id": "03514bb8-0f2f-41e2-a036-c19a08a8c386",
   "metadata": {},
   "source": [
    "1. do not using the special symbols "
   ]
  },
  {
   "cell_type": "code",
   "execution_count": 30,
   "id": "31c618bd-16ab-4135-a067-757f84a3f30c",
   "metadata": {},
   "outputs": [
    {
     "ename": "SyntaxError",
     "evalue": "invalid syntax (3834174161.py, line 1)",
     "output_type": "error",
     "traceback": [
      "\u001b[1;36m  Cell \u001b[1;32mIn[30], line 1\u001b[1;36m\u001b[0m\n\u001b[1;33m    $ = \"yash\"\u001b[0m\n\u001b[1;37m    ^\u001b[0m\n\u001b[1;31mSyntaxError\u001b[0m\u001b[1;31m:\u001b[0m invalid syntax\n"
     ]
    }
   ],
   "source": [
    "$ = \"yash\"\n",
    "print($)"
   ]
  },
  {
   "cell_type": "markdown",
   "id": "aebe4d08-b605-4da8-b85b-3923f568aace",
   "metadata": {},
   "source": [
    "2. do not using space "
   ]
  },
  {
   "cell_type": "code",
   "execution_count": 31,
   "id": "212f6690-7f0c-4580-8c6d-cf6923d36b9d",
   "metadata": {},
   "outputs": [
    {
     "ename": "SyntaxError",
     "evalue": "invalid syntax (2944903195.py, line 1)",
     "output_type": "error",
     "traceback": [
      "\u001b[1;36m  Cell \u001b[1;32mIn[31], line 1\u001b[1;36m\u001b[0m\n\u001b[1;33m    nam e = \"niha\"\u001b[0m\n\u001b[1;37m        ^\u001b[0m\n\u001b[1;31mSyntaxError\u001b[0m\u001b[1;31m:\u001b[0m invalid syntax\n"
     ]
    }
   ],
   "source": [
    "nam e = \"niha\"\n",
    "print(nam e)"
   ]
  },
  {
   "cell_type": "code",
   "execution_count": null,
   "id": "e2f6119c-5632-4b3d-973a-fc94e578e3b7",
   "metadata": {},
   "outputs": [],
   "source": []
  }
 ],
 "metadata": {
  "kernelspec": {
   "display_name": "Python 3 (ipykernel)",
   "language": "python",
   "name": "python3"
  },
  "language_info": {
   "codemirror_mode": {
    "name": "ipython",
    "version": 3
   },
   "file_extension": ".py",
   "mimetype": "text/x-python",
   "name": "python",
   "nbconvert_exporter": "python",
   "pygments_lexer": "ipython3",
   "version": "3.12.7"
  },
  "panel-cell-order": [
   "253fa3e0-a4e7-4ad7-883c-f16daf9c52a7",
   "eba039e4-cef0-46f3-9f6f-81c417a77b63",
   "28cfb10a-2c16-40f3-9203-16af4f703a4e",
   "99499dcf-4a63-4e49-b134-9bc326363394"
  ]
 },
 "nbformat": 4,
 "nbformat_minor": 5
}
