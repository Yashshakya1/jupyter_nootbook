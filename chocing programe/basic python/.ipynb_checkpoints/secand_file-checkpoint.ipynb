version https://git-lfs.github.com/spec/v1
oid sha256:e20dea8a3d89e0e6bb78cf9172b019c514bc63c1410cb2eebba7452b9bde151f
size 1776
