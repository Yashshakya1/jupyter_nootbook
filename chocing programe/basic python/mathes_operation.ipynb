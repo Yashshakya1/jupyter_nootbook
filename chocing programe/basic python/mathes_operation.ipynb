{
 "cells": [
  {
   "cell_type": "code",
   "execution_count": 8,
   "id": "ae6e8309-91e6-41f7-94bf-9ac738c90dce",
   "metadata": {},
   "outputs": [
    {
     "name": "stdout",
     "output_type": "stream",
     "text": [
      "yashshakya\n",
      "yashyashyashyashyashyashyashyashyashyashyashyashyashyashyashshakya\n",
      "True\n"
     ]
    }
   ],
   "source": [
    "s =\"yash\"\n",
    "s1 =\"shakya\"\n",
    "sum = s+s1\n",
    "print(sum)\n",
    "print(s*3*5+s1)\n",
    "print(\"a\" in s)"
   ]
  },
  {
   "cell_type": "code",
   "execution_count": null,
   "id": "d099ca67-7869-485e-b4cf-fa82d9bff36f",
   "metadata": {},
   "outputs": [],
   "source": []
  }
 ],
 "metadata": {
  "kernelspec": {
   "display_name": "Python 3 (ipykernel)",
   "language": "python",
   "name": "python3"
  },
  "language_info": {
   "codemirror_mode": {
    "name": "ipython",
    "version": 3
   },
   "file_extension": ".py",
   "mimetype": "text/x-python",
   "name": "python",
   "nbconvert_exporter": "python",
   "pygments_lexer": "ipython3",
   "version": "3.12.7"
  }
 },
 "nbformat": 4,
 "nbformat_minor": 5
}
