{
 "cells": [
  {
   "cell_type": "code",
   "execution_count": 2,
   "id": "cd62549d-ac2e-4574-a6f0-b9f6131a987e",
   "metadata": {
    "scrolled": true
   },
   "outputs": [
    {
     "name": "stdout",
     "output_type": "stream",
     "text": [
      "140703767472856 140703767472856\n"
     ]
    }
   ],
   "source": [
    "a = 10\n",
    "b =  10\n",
    "print(id(a) ,id(b))"
   ]
  },
  {
   "cell_type": "code",
   "execution_count": 4,
   "id": "c53d3cac-e9d3-4271-98ba-c0ba7b39189e",
   "metadata": {},
   "outputs": [
    {
     "name": "stdout",
     "output_type": "stream",
     "text": [
      "2379260618688 2379260618688\n"
     ]
    }
   ],
   "source": [
    "a = \"10\"\n",
    "b =  \"10\"\n",
    "print(id(a) ,id(b))"
   ]
  },
  {
   "cell_type": "code",
   "execution_count": 6,
   "id": "3bb6614e-e957-40ea-840d-66cefd050a55",
   "metadata": {},
   "outputs": [
    {
     "name": "stdout",
     "output_type": "stream",
     "text": [
      "2379349119872 2379349261056\n"
     ]
    }
   ],
   "source": [
    "li = [2,5,4,8]\n",
    "l = [2,5,4,8]\n",
    "print(id(li), id(l))\n"
   ]
  },
  {
   "cell_type": "code",
   "execution_count": 8,
   "id": "9798b702-3279-4469-a856-3582dccc3484",
   "metadata": {},
   "outputs": [
    {
     "name": "stdout",
     "output_type": "stream",
     "text": [
      "2379348942112 2379348937312\n"
     ]
    }
   ],
   "source": [
    "tu = (2,5,4,8,5,5)\n",
    "t = (2,5,4,8,5,5)\n",
    "print(id(tu),id(t))"
   ]
  },
  {
   "cell_type": "code",
   "execution_count": 11,
   "id": "ce1d974b-67d0-4640-b04d-4966f3db7e07",
   "metadata": {},
   "outputs": [
    {
     "name": "stdout",
     "output_type": "stream",
     "text": [
      "2379349514624 2379349519360\n"
     ]
    }
   ],
   "source": [
    "dic = {\"string\" : 5, \n",
    "       \"op\" : 4\n",
    "      }\n",
    "di = {\"string\" : 5 ,\n",
    "       \"op\" : 4\n",
    "      }\n",
    "print(id(dic),id(di))"
   ]
  },
  {
   "cell_type": "markdown",
   "id": "76df460f-5e94-4539-9592-f3072e0d8177",
   "metadata": {},
   "source": [
    "# size of the data types "
   ]
  },
  {
   "cell_type": "code",
   "execution_count": 26,
   "id": "997fabc3-7b21-4759-a7e4-c89d7636ebc3",
   "metadata": {},
   "outputs": [
    {
     "name": "stdout",
     "output_type": "stream",
     "text": [
      "28\n"
     ]
    }
   ],
   "source": [
    "import sys\n",
    "size = int()\n",
    "print(sys.getsizeof(size))"
   ]
  },
  {
   "cell_type": "code",
   "execution_count": 37,
   "id": "d5bb11c9-919c-4963-a70c-a3da87fe15bf",
   "metadata": {},
   "outputs": [
    {
     "name": "stdout",
     "output_type": "stream",
     "text": [
      "28\n"
     ]
    }
   ],
   "source": [
    "import sys\n",
    "size = bool()\n",
    "print(sys.getsizeof(size))"
   ]
  },
  {
   "cell_type": "code",
   "execution_count": 31,
   "id": "8654f41f-9738-4e43-995e-f04506684707",
   "metadata": {},
   "outputs": [
    {
     "name": "stdout",
     "output_type": "stream",
     "text": [
      "40\n"
     ]
    }
   ],
   "source": [
    "import sys\n",
    "size = tuple()\n",
    "print(sys.getsizeof(size))"
   ]
  },
  {
   "cell_type": "code",
   "execution_count": 38,
   "id": "40c5c7ae-93f9-4abb-bbbc-c317ff87d137",
   "metadata": {},
   "outputs": [
    {
     "name": "stdout",
     "output_type": "stream",
     "text": [
      "41\n"
     ]
    }
   ],
   "source": [
    "import sys\n",
    "size = str()\n",
    "print(sys.getsizeof(size))"
   ]
  },
  {
   "cell_type": "code",
   "execution_count": 29,
   "id": "04db6a98-1138-4a13-bc9b-703d4c806eb3",
   "metadata": {},
   "outputs": [
    {
     "name": "stdout",
     "output_type": "stream",
     "text": [
      "56\n"
     ]
    }
   ],
   "source": [
    "import sys\n",
    "size = list()\n",
    "print(sys.getsizeof(size))"
   ]
  },
  {
   "cell_type": "code",
   "execution_count": 36,
   "id": "0912278f-3b5d-440f-b5dd-b3c9e6143282",
   "metadata": {},
   "outputs": [
    {
     "name": "stdout",
     "output_type": "stream",
     "text": [
      "64\n"
     ]
    }
   ],
   "source": [
    "import sys\n",
    "size = dict()\n",
    "print(sys.getsizeof(size))"
   ]
  },
  {
   "cell_type": "code",
   "execution_count": 33,
   "id": "6f689750-cf15-47de-8ae2-45f3674844a2",
   "metadata": {},
   "outputs": [
    {
     "name": "stdout",
     "output_type": "stream",
     "text": [
      "216\n"
     ]
    }
   ],
   "source": [
    "import sys\n",
    "size = set()\n",
    "print(sys.getsizeof(size))"
   ]
  },
  {
   "cell_type": "code",
   "execution_count": null,
   "id": "8a74aa5d-05af-4f6f-a4aa-a616b0cd5d1b",
   "metadata": {},
   "outputs": [],
   "source": []
  }
 ],
 "metadata": {
  "kernelspec": {
   "display_name": "Python 3 (ipykernel)",
   "language": "python",
   "name": "python3"
  },
  "language_info": {
   "codemirror_mode": {
    "name": "ipython",
    "version": 3
   },
   "file_extension": ".py",
   "mimetype": "text/x-python",
   "name": "python",
   "nbconvert_exporter": "python",
   "pygments_lexer": "ipython3",
   "version": "3.12.7"
  }
 },
 "nbformat": 4,
 "nbformat_minor": 5
}
