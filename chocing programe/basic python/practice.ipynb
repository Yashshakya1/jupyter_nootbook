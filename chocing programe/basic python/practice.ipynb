{
 "cells": [
  {
   "cell_type": "code",
   "execution_count": 16,
   "id": "caa86335-cc54-434a-b400-0453ec2ed501",
   "metadata": {},
   "outputs": [
    {
     "name": "stdin",
     "output_type": "stream",
     "text": [
      "enter your string :- f\n"
     ]
    },
    {
     "name": "stdout",
     "output_type": "stream",
     "text": [
      "102\n",
      "f\n"
     ]
    }
   ],
   "source": [
    "str = input(\"enter your string :-\")\n",
    "asci = ord(str)\n",
    "print(asci)\n",
    "asci_chr = chr(asci)\n",
    "print(asci_chr)"
   ]
  },
  {
   "cell_type": "code",
   "execution_count": 20,
   "id": "0f8495fd-9645-4253-9fa7-07763c470f87",
   "metadata": {},
   "outputs": [
    {
     "name": "stdin",
     "output_type": "stream",
     "text": [
      "enter your str :- d\n"
     ]
    },
    {
     "name": "stdout",
     "output_type": "stream",
     "text": [
      "i\n"
     ]
    }
   ],
   "source": [
    "str = input(\"enter your str :-\")\n",
    "x = chr(ord(str) + 5)\n",
    "print(x)"
   ]
  },
  {
   "cell_type": "code",
   "execution_count": 22,
   "id": "59e3adaa-bbe8-4010-aa2d-cc60aa1e77ef",
   "metadata": {},
   "outputs": [
    {
     "name": "stdin",
     "output_type": "stream",
     "text": [
      "enter your str :- d\n"
     ]
    },
    {
     "name": "stdout",
     "output_type": "stream",
     "text": [
      "e\n"
     ]
    }
   ],
   "source": [
    "str = input(\"enter your str :-\")\n",
    "for i in str:\n",
    "    print(chr(ord(i) + 1))"
   ]
  },
  {
   "cell_type": "code",
   "execution_count": 24,
   "id": "3c1939ff-3868-417f-994b-e61d4edb8b4c",
   "metadata": {},
   "outputs": [
    {
     "name": "stdout",
     "output_type": "stream",
     "text": [
      "[2, 3, 4, 5, 6, 7]\n"
     ]
    }
   ],
   "source": [
    "li = [1,2,3,4,5,6]\n",
    "li1 = []\n",
    "for i in li:\n",
    "    x = li1.append(i + 1)\n",
    "\n",
    "print(li1)"
   ]
  },
  {
   "cell_type": "code",
   "execution_count": 27,
   "id": "09f29cc2-ef03-4904-9428-2d429ccd9924",
   "metadata": {},
   "outputs": [
    {
     "name": "stdout",
     "output_type": "stream",
     "text": [
      "[2, 6, 4, 8, 12, 6, 54]\n",
      "[3, 5, 7]\n"
     ]
    }
   ],
   "source": [
    "li = [2,3,6,5,4,7,8,12,6,54]\n",
    "el = []\n",
    "ol = []\n",
    "for i in li:\n",
    "    if(i%2 == 0):\n",
    "        el.append(i)\n",
    "    else:\n",
    "        ol.append(i)\n",
    "print(el)\n",
    "print(ol)"
   ]
  },
  {
   "cell_type": "code",
   "execution_count": null,
   "id": "b07bc55f-ebf9-4bfc-abc9-824595126a95",
   "metadata": {},
   "outputs": [],
   "source": [
    "number = int(input(\"enter yout number :-\"))\n",
    "td = 0\n",
    "while(number>0):\n",
    "    number = number // 10\n",
    "    td = td + 1\n",
    "print(\"the total digits in this is :- \",td)"
   ]
  },
  {
   "cell_type": "code",
   "execution_count": null,
   "id": "6af94446-d4d5-41c6-acbd-5fb0227de87a",
   "metadata": {},
   "outputs": [],
   "source": [
    "n = int(input(\"enter your number :- \"))\n",
    "s = str(n)\n",
    "td = len(s)\n",
    "print(td)"
   ]
  },
  {
   "cell_type": "code",
   "execution_count": 4,
   "id": "d5f66741-6e1d-4ba3-9f54-305f3349561e",
   "metadata": {},
   "outputs": [
    {
     "name": "stdin",
     "output_type": "stream",
     "text": [
      "enter your number :-  1234\n"
     ]
    },
    {
     "name": "stdout",
     "output_type": "stream",
     "text": [
      "4\n",
      "1234\n"
     ]
    }
   ],
   "source": [
    "num = int(input(\"enter your number :- \"))\n",
    "n = num%10\n",
    "print(n)\n",
    "print(num)"
   ]
  },
  {
   "cell_type": "code",
   "execution_count": 8,
   "id": "14b46200-5c8d-45b2-bd7a-1c72f5b59a0f",
   "metadata": {},
   "outputs": [
    {
     "name": "stdin",
     "output_type": "stream",
     "text": [
      "enter your number :- 1234\n"
     ]
    },
    {
     "name": "stdout",
     "output_type": "stream",
     "text": [
      "number is not a palin \n"
     ]
    }
   ],
   "source": [
    "num = int(input(\"enter your number :-\"))\n",
    "if(num == int(str(num)[::-1])):\n",
    "    print(\"number is pal\")\n",
    "else:\n",
    "    print(\"number is not a palin \")"
   ]
  },
  {
   "cell_type": "code",
   "execution_count": 14,
   "id": "3f81bfbf-f9c3-44a4-a8fd-8a0779c66330",
   "metadata": {},
   "outputs": [
    {
     "name": "stdin",
     "output_type": "stream",
     "text": [
      "enter your number :-  1234\n"
     ]
    },
    {
     "name": "stdout",
     "output_type": "stream",
     "text": [
      "not a armstrong :-\n"
     ]
    }
   ],
   "source": [
    "num = int(input(\"enter your number :- \"))\n",
    "x = y = num\n",
    "td = 0\n",
    "while(num>0):\n",
    "    num = num // 10\n",
    "    td = td +1\n",
    "sum = 0\n",
    "while(x>0):\n",
    "    last_digit = x %10\n",
    "    sum = sum + last_digit ** td\n",
    "    x = x // 10\n",
    "if(y == sum):\n",
    "    print(\"this is armstrong :-\")\n",
    "else:\n",
    "    print(\"not a armstrong :-\")"
   ]
  },
  {
   "cell_type": "code",
   "execution_count": 6,
   "id": "5f18b624-5bd3-4920-82af-33e800dd79d6",
   "metadata": {},
   "outputs": [
    {
     "name": "stdin",
     "output_type": "stream",
     "text": [
      "enter your row:- 5\n"
     ]
    },
    {
     "name": "stdout",
     "output_type": "stream",
     "text": [
      "*****\n",
      "*****\n",
      "*****\n",
      "*****\n"
     ]
    }
   ],
   "source": [
    "row = int(input(\"enter your row:-\"))\n",
    "i =1\n",
    "while(i<num):\n",
    "    print(\"*\"*5)\n",
    "    i = i+1"
   ]
  },
  {
   "cell_type": "code",
   "execution_count": 21,
   "id": "83b9c9a7-69fc-47b3-804d-1861ef93b996",
   "metadata": {},
   "outputs": [
    {
     "name": "stdin",
     "output_type": "stream",
     "text": [
      "enter your number of stars :- 5\n"
     ]
    },
    {
     "name": "stdout",
     "output_type": "stream",
     "text": [
      "*\n",
      "**\n",
      "***\n",
      "****\n",
      "*****\n"
     ]
    }
   ],
   "source": [
    "star = int(input(\"enter your number of stars :-\"))\n",
    "i =1\n",
    "while(i<=star):\n",
    "    print(\"\"*(star - i) + \"*\"*i)\n",
    "    i = i +1"
   ]
  },
  {
   "cell_type": "code",
   "execution_count": 29,
   "id": "ef30ca00-e828-46f8-9318-7543ee96d9c8",
   "metadata": {},
   "outputs": [
    {
     "name": "stdin",
     "output_type": "stream",
     "text": [
      "enter no :- 5\n"
     ]
    },
    {
     "name": "stdout",
     "output_type": "stream",
     "text": [
      "*****\n",
      "****\n",
      "***\n",
      "**\n",
      "*\n",
      "\n"
     ]
    }
   ],
   "source": [
    "s = int(input(\"enter no :-\"))\n",
    "i = 0\n",
    "while(i<=s):\n",
    "    print('*'*(s-i))\n",
    "    i = i +1"
   ]
  },
  {
   "cell_type": "code",
   "execution_count": 1,
   "id": "4b2bdb37-ad8a-453c-8582-9d1c179ddd83",
   "metadata": {},
   "outputs": [
    {
     "name": "stdin",
     "output_type": "stream",
     "text": [
      "enter no :- 5\n"
     ]
    },
    {
     "name": "stdout",
     "output_type": "stream",
     "text": [
      " * * * * *\n",
      "  * * * *\n",
      "   * * *\n",
      "    * *\n",
      "     *\n",
      "     \n"
     ]
    }
   ],
   "source": [
    "s = int(input(\"enter no :-\"))\n",
    "i = 0\n",
    "while(i<=s):\n",
    "    print(' '*i + ' *'*(s-i))\n",
    "    i = i+1"
   ]
  },
  {
   "cell_type": "code",
   "execution_count": 6,
   "id": "22ec1c37-3bd3-4a9f-ab46-4863ee32a3ec",
   "metadata": {},
   "outputs": [
    {
     "name": "stdin",
     "output_type": "stream",
     "text": [
      "enter your first no term:- 5\n",
      "enter your first term:- 5\n",
      "enter your d:- 5\n"
     ]
    },
    {
     "name": "stdout",
     "output_type": "stream",
     "text": [
      "5 10 15 20 25 "
     ]
    }
   ],
   "source": [
    "n = int(input(\"enter your first no term:-\"))\n",
    "a = int(input(\"enter your first term:-\"))\n",
    "d = int(input(\"enter your d:-\"))\n",
    "for i in range(n):\n",
    "    term = a + i * d\n",
    "    print(term , end=\" \")"
   ]
  },
  {
   "cell_type": "code",
   "execution_count": 9,
   "id": "7e9cdf1b-0000-4efc-b608-c6be8d62fdea",
   "metadata": {},
   "outputs": [
    {
     "name": "stdin",
     "output_type": "stream",
     "text": [
      "enter your first no term:- 5\n",
      "enter your first term:- 5\n",
      "enter your r:- 2\n"
     ]
    },
    {
     "name": "stdout",
     "output_type": "stream",
     "text": [
      "5 10 20 40 80 "
     ]
    }
   ],
   "source": [
    "n = int(input(\"enter your first no term:-\"))\n",
    "a = int(input(\"enter your first term:-\"))\n",
    "r = int(input(\"enter your r:-\"))\n",
    "for i in range(n):\n",
    "    term = a * r ** i\n",
    "    print(term , end=\" \")"
   ]
  }
 ],
 "metadata": {
  "kernelspec": {
   "display_name": "Python 3 (ipykernel)",
   "language": "python",
   "name": "python3"
  },
  "language_info": {
   "codemirror_mode": {
    "name": "ipython",
    "version": 3
   },
   "file_extension": ".py",
   "mimetype": "text/x-python",
   "name": "python",
   "nbconvert_exporter": "python",
   "pygments_lexer": "ipython3",
   "version": "3.12.7"
  }
 },
 "nbformat": 4,
 "nbformat_minor": 5
}
