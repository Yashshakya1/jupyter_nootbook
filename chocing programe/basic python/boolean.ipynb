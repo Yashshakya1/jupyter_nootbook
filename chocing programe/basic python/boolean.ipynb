{
 "cells": [
  {
   "cell_type": "markdown",
   "id": "810fd1ad-117e-41fb-9f2c-d1bebf9fdf49",
   "metadata": {},
   "source": [
    "# boolean "
   ]
  },
  {
   "cell_type": "raw",
   "id": "09c9357c-3dba-4c78-af06-10938cc5ce53",
   "metadata": {},
   "source": [
    "this three keyward always in capital "
   ]
  },
  {
   "cell_type": "code",
   "execution_count": 5,
   "id": "ca21d1eb-4c00-491d-a65b-566879712752",
   "metadata": {},
   "outputs": [
    {
     "name": "stdout",
     "output_type": "stream",
     "text": [
      "<class 'NoneType'>\n",
      "<class 'bool'>\n",
      "<class 'bool'>\n"
     ]
    }
   ],
   "source": [
    "x = True\n",
    "y = False\n",
    "xy = None\n",
    "print(type(xy))\n",
    "print(type(x))\n",
    "print(type(y))"
   ]
  },
  {
   "cell_type": "code",
   "execution_count": null,
   "id": "20a93739-82ec-475e-9962-798e3bfb0c5f",
   "metadata": {},
   "outputs": [],
   "source": []
  },
  {
   "cell_type": "code",
   "execution_count": null,
   "id": "c6292309-37d5-44f7-87fa-fd3d5b996c6a",
   "metadata": {},
   "outputs": [],
   "source": []
  },
  {
   "cell_type": "code",
   "execution_count": null,
   "id": "266d505f-caaa-44a6-8b8d-df988f82c986",
   "metadata": {},
   "outputs": [],
   "source": []
  }
 ],
 "metadata": {
  "kernelspec": {
   "display_name": "Python 3 (ipykernel)",
   "language": "python",
   "name": "python3"
  },
  "language_info": {
   "codemirror_mode": {
    "name": "ipython",
    "version": 3
   },
   "file_extension": ".py",
   "mimetype": "text/x-python",
   "name": "python",
   "nbconvert_exporter": "python",
   "pygments_lexer": "ipython3",
   "version": "3.12.7"
  }
 },
 "nbformat": 4,
 "nbformat_minor": 5
}
