{
 "cells": [
  {
   "cell_type": "markdown",
   "id": "62d206c6-2169-45da-a7c5-588d255da66d",
   "metadata": {},
   "source": [
    "# string"
   ]
  },
  {
   "cell_type": "code",
   "execution_count": 1,
   "id": "2ddb6837-f9ee-4564-87fa-323122c72724",
   "metadata": {},
   "outputs": [
    {
     "name": "stdout",
     "output_type": "stream",
     "text": [
      "f f\n",
      "y\"a\"sh\n",
      "yash s'ha'kya\n",
      "yash ji j ij i ji j\n",
      " j j j kj k\n"
     ]
    }
   ],
   "source": [
    "st = 'y\"a\"sh'\n",
    "st1 = \"yash s'ha'kya\"\n",
    "st2 = '''yash ji j ij i ji j\n",
    " j j j kj k'''\n",
    "\n",
    "ch = 'f f'\n",
    "print(ch)\n",
    "print(st)\n",
    "print(st1)\n",
    "print(st2)"
   ]
  },
  {
   "cell_type": "code",
   "execution_count": 4,
   "id": "a5c5942d-4118-49f0-a2af-94e601f690ae",
   "metadata": {},
   "outputs": [
    {
     "name": "stdout",
     "output_type": "stream",
     "text": [
      " this is python, 'java' or \" c++\"  end \n"
     ]
    }
   ],
   "source": [
    "str = ''' this is python, 'java' or \" c++\"  end '''\n",
    "print(str)\n"
   ]
  }
 ],
 "metadata": {
  "kernelspec": {
   "display_name": "Python 3 (ipykernel)",
   "language": "python",
   "name": "python3"
  },
  "language_info": {
   "codemirror_mode": {
    "name": "ipython",
    "version": 3
   },
   "file_extension": ".py",
   "mimetype": "text/x-python",
   "name": "python",
   "nbconvert_exporter": "python",
   "pygments_lexer": "ipython3",
   "version": "3.12.7"
  },
  "panel-cell-order": [
   "253fa3e0-a4e7-4ad7-883c-f16daf9c52a7",
   "eba039e4-cef0-46f3-9f6f-81c417a77b63",
   "28cfb10a-2c16-40f3-9203-16af4f703a4e",
   "99499dcf-4a63-4e49-b134-9bc326363394"
  ]
 },
 "nbformat": 4,
 "nbformat_minor": 5
}
