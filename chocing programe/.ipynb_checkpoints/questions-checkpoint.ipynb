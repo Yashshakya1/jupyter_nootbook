{
 "cells": [
  {
   "cell_type": "markdown",
   "id": "0a29fa49-ca75-4b50-8454-962a44b05699",
   "metadata": {},
   "source": [
    "question1"
   ]
  },
  {
   "cell_type": "code",
   "execution_count": 11,
   "id": "c5851bfc-14b6-434e-955d-13e9766c7cad",
   "metadata": {},
   "outputs": [
    {
     "name": "stdin",
     "output_type": "stream",
     "text": [
      "enter your string:- s\n"
     ]
    },
    {
     "name": "stdout",
     "output_type": "stream",
     "text": [
      "this is ascii values 120\n",
      "x\n"
     ]
    }
   ],
   "source": [
    "str = input(\"enter your string:-\")\n",
    "x = ord(str) + 5\n",
    "y =chr(x)\n",
    "print(\"this is ascii values\",x)\n",
    "print(y)"
   ]
  },
  {
   "cell_type": "code",
   "execution_count": 13,
   "id": "2eb1be34-3337-48ba-8b69-423ae56c60cb",
   "metadata": {},
   "outputs": [
    {
     "name": "stdout",
     "output_type": "stream",
     "text": [
      "x\n"
     ]
    }
   ],
   "source": [
    "a =\"s\"\n",
    "s = chr(ord(a) + 5)\n",
    "print(s)"
   ]
  },
  {
   "cell_type": "code",
   "execution_count": 23,
   "id": "9f696d6d-8c57-4506-b401-cb1008071acd",
   "metadata": {},
   "outputs": [
    {
     "name": "stdin",
     "output_type": "stream",
     "text": [
      "enter your string:- bcd\n"
     ]
    },
    {
     "name": "stdout",
     "output_type": "stream",
     "text": [
      "c\n",
      "d\n",
      "e\n"
     ]
    }
   ],
   "source": [
    "string = input(\"enter your string:-\")\n",
    "for i in string:\n",
    "    print(chr(ord(i)+1))"
   ]
  },
  {
   "cell_type": "code",
   "execution_count": 24,
   "id": "a4fe7222-a9e1-46c3-8111-e18bf0ffd152",
   "metadata": {},
   "outputs": [
    {
     "name": "stdin",
     "output_type": "stream",
     "text": [
      "enter your string:- plk\n"
     ]
    },
    {
     "name": "stdout",
     "output_type": "stream",
     "text": [
      "qml\n"
     ]
    }
   ],
   "source": [
    "st = input(\"enter your string:-\")\n",
    "l = []\n",
    "for i in st:\n",
    "    x = (chr(ord(i)+1))\n",
    "    l.append(x)\n",
    "st = ''.join(l)\n",
    "print(st)"
   ]
  },
  {
   "cell_type": "markdown",
   "id": "0c4b1535-f0c6-4b80-815f-2fcd5de36d63",
   "metadata": {},
   "source": [
    "# list element print next + 1 values"
   ]
  },
  {
   "cell_type": "code",
   "execution_count": 34,
   "id": "b81b86de-6102-4f67-a926-298f7b82d275",
   "metadata": {},
   "outputs": [
    {
     "name": "stdout",
     "output_type": "stream",
     "text": [
      "[3, 5, 7, 9, 11, 13]\n"
     ]
    }
   ],
   "source": [
    "li =[2,4,6,8,10,12]\n",
    "li1=[]\n",
    "for i in li:\n",
    "    li1.append(i+1)\n",
    "print(li1)"
   ]
  },
  {
   "cell_type": "markdown",
   "id": "340d152a-b7a2-4f07-a2be-0e38a2ee94d2",
   "metadata": {},
   "source": [
    "# print the even or odd in new list"
   ]
  },
  {
   "cell_type": "code",
   "execution_count": 1,
   "id": "b102dff2-c331-4c61-9d2d-70a4027efcf4",
   "metadata": {},
   "outputs": [
    {
     "name": "stdout",
     "output_type": "stream",
     "text": [
      "even data.list:= [2, 4, 6, 8]\n",
      "odd data.list:= [1, 3, 5, 7, 9]\n"
     ]
    }
   ],
   "source": [
    "li = [1,2,3,4,5,6,7,8,9]\n",
    "el=[]\n",
    "ol=[]\n",
    "for i in li:\n",
    "    if(i%2 == 0):\n",
    "        el.append(i)\n",
    "    else:\n",
    "        ol.append(i)\n",
    "print(\"even data.list:=\",el)\n",
    "print(\"odd data.list:=\",ol)"
   ]
  },
  {
   "cell_type": "markdown",
   "id": "e5492a57-b803-4785-b395-9ab7c00fa4bc",
   "metadata": {},
   "source": [
    "# remove last number and remove remain number "
   ]
  },
  {
   "cell_type": "code",
   "execution_count": 3,
   "id": "fb13b351-832e-48e1-9cc0-53f38ad0e1ed",
   "metadata": {},
   "outputs": [
    {
     "name": "stdout",
     "output_type": "stream",
     "text": [
      "5\n",
      "1234\n"
     ]
    }
   ],
   "source": [
    "n = 12345\n",
    "print(n%10)\n",
    "print(n//10)"
   ]
  },
  {
   "cell_type": "markdown",
   "id": "00d8fd92-59d6-4bfa-b03f-c3434b8b5276",
   "metadata": {},
   "source": [
    "# find number of digits"
   ]
  },
  {
   "cell_type": "code",
   "execution_count": 7,
   "id": "2008b34d-972f-4b8f-90f5-4d903b1dba5a",
   "metadata": {},
   "outputs": [
    {
     "name": "stdin",
     "output_type": "stream",
     "text": [
      "enter your number :- 1234\n"
     ]
    },
    {
     "name": "stdout",
     "output_type": "stream",
     "text": [
      "the total digite number is :- 4\n"
     ]
    }
   ],
   "source": [
    "n =int(input(\"enter your number :-\"))\n",
    "td =0\n",
    "while(n>0):\n",
    "    n = n//10\n",
    "    td = td + 1\n",
    "print(\"the total digite number is :-\",td)"
   ]
  },
  {
   "cell_type": "raw",
   "id": "d4fb1ee0-f9d2-410b-a525-c2a07a2da3f8",
   "metadata": {},
   "source": [
    "using with len() inbuid function"
   ]
  },
  {
   "cell_type": "code",
   "execution_count": 10,
   "id": "7cfce298-e6d3-4ebd-bec4-359cebe0a38c",
   "metadata": {},
   "outputs": [
    {
     "name": "stdin",
     "output_type": "stream",
     "text": [
      "enter your number :- 12345\n"
     ]
    },
    {
     "name": "stdout",
     "output_type": "stream",
     "text": [
      "total number of digits in the numebr :- 5\n"
     ]
    }
   ],
   "source": [
    "number = int(input(\"enter your number :-\"))\n",
    "s = str(number)\n",
    "td = len(s)\n",
    "print(\"total number of digits in the numebr :-\",td)"
   ]
  },
  {
   "cell_type": "code",
   "execution_count": 12,
   "id": "8090a69c-62a4-4c76-9e60-0f06f102f75c",
   "metadata": {},
   "outputs": [
    {
     "name": "stdin",
     "output_type": "stream",
     "text": [
      "enter your number  12345\n"
     ]
    },
    {
     "name": "stdout",
     "output_type": "stream",
     "text": [
      "5\n"
     ]
    }
   ],
   "source": [
    "num = int(input(\"enter your number \"))\n",
    "num = num %10\n",
    "print(num)"
   ]
  },
  {
   "cell_type": "code",
   "execution_count": 14,
   "id": "32ee3bcb-b347-4e79-9289-dff908622683",
   "metadata": {},
   "outputs": [
    {
     "name": "stdin",
     "output_type": "stream",
     "text": [
      "enter your number  12345\n"
     ]
    },
    {
     "name": "stdout",
     "output_type": "stream",
     "text": [
      "1234\n"
     ]
    }
   ],
   "source": [
    "num = int(input(\"enter your number \"))\n",
    "num = num //10\n",
    "print(num)"
   ]
  },
  {
   "cell_type": "code",
   "execution_count": 19,
   "id": "c50e315b-1a7e-4bdf-a366-353372641793",
   "metadata": {},
   "outputs": [
    {
     "name": "stdout",
     "output_type": "stream",
     "text": [
      "python\n"
     ]
    }
   ],
   "source": [
    "s = 'python'\n",
    "last = s[:-1]\n",
    "print(s)"
   ]
  },
  {
   "cell_type": "code",
   "execution_count": 20,
   "id": "aef2dcac-de82-489e-ac53-b7952fed921e",
   "metadata": {},
   "outputs": [
    {
     "name": "stdin",
     "output_type": "stream",
     "text": [
      "enter your string:- 12345\n"
     ]
    },
    {
     "name": "stdout",
     "output_type": "stream",
     "text": [
      "5\n"
     ]
    }
   ],
   "source": [
    "s = input(\"enter your string:-\")\n",
    "tc =0\n",
    "for i in s:\n",
    "    tc =tc+1\n",
    "print(tc)"
   ]
  }
 ],
 "metadata": {
  "kernelspec": {
   "display_name": "Python 3 (ipykernel)",
   "language": "python",
   "name": "python3"
  },
  "language_info": {
   "codemirror_mode": {
    "name": "ipython",
    "version": 3
   },
   "file_extension": ".py",
   "mimetype": "text/x-python",
   "name": "python",
   "nbconvert_exporter": "python",
   "pygments_lexer": "ipython3",
   "version": "3.12.7"
  }
 },
 "nbformat": 4,
 "nbformat_minor": 5
}
