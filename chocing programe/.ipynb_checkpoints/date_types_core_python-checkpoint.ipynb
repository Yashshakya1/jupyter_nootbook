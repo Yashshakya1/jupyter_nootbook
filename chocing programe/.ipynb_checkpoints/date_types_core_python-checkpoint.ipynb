{
 "cells": [
  {
   "cell_type": "code",
   "execution_count": 34,
   "id": "183c10aa-ee32-4c41-ae13-e3b274704165",
   "metadata": {},
   "outputs": [
    {
     "name": "stdout",
     "output_type": "stream",
     "text": [
      "y\n",
      " \n",
      "11\n",
      "2145360714544\n",
      "<class 'str'>\n",
      "suraj kumar\n",
      "True\n",
      "False\n",
      "yash shakya\n",
      "YASH SHAKYA\n",
      "Yash shakya\n",
      "['yash shakya']\n",
      "YASH SHAKYA\n",
      "Yash Shakya\n",
      "3\n",
      "False\n"
     ]
    }
   ],
   "source": [
    "st =  \"yash shakya\"\n",
    "s = \"niha\"\n",
    "li = [\"yash\",\"mindcraft\",\"clash of clans\"]\n",
    "# function \n",
    "print(max(st))\n",
    "print(min(st))\n",
    "print(len(st))\n",
    "print(id(st))\n",
    "print(type(st))\n",
    "# string method\n",
    "print(st.replace(st,\"suraj kumar\"))\n",
    "print(st.startswith(\"ya\"))\n",
    "print(st.endswith(\"hoo\"))\n",
    "print(st.lower())\n",
    "print(st.upper())\n",
    "print(st.capitalize())\n",
    "print(st.split(\",\"))\n",
    "print(st.swapcase())\n",
    "print(st.title())\n",
    "print(st.count(\"a\"))\n",
    "print(st.isalnum())"
   ]
  },
  {
   "cell_type": "code",
   "execution_count": 51,
   "id": "7459ba2e-eedd-458f-8a26-3d5880e13c24",
   "metadata": {},
   "outputs": [
    {
     "name": "stdout",
     "output_type": "stream",
     "text": [
      "y\n",
      " \n",
      "11\n",
      "2145349828144\n",
      "<class 'str'>\n",
      "97\n",
      "A\n",
      "suraj kumar\n",
      "True\n",
      "False\n",
      "yash shakya\n",
      "YASH SHAKYA\n",
      "Yash shakya\n",
      "['yash shakya']\n",
      "YASH SHAKYA\n",
      "Yash Shakya\n",
      "3\n",
      "False\n",
      "False\n",
      "True\n",
      "False\n",
      "False\n",
      "<built-in method isidentifier of str object at 0x000001F380D07E30>\n"
     ]
    }
   ],
   "source": [
    "\n",
    "st =  \"yash shakya\"\n",
    "s = \"niha\"\n",
    "li = [\"yash\",\"mindcraft\",\"clash of clans\"]\n",
    "# function \n",
    "print(max(st))\n",
    "print(min(st))\n",
    "print(len(st))\n",
    "print(id(st))\n",
    "print(type(st))\n",
    "print(ord(\"a\")) # char to ascii\n",
    "print(chr(65)) # ascii to char\n",
    "# string method\n",
    "print(st.replace(st,\"suraj kumar\"))\n",
    "print(st.startswith(\"ya\"))\n",
    "print(st.endswith(\"hoo\"))\n",
    "print(st.lower())\n",
    "print(st.upper())\n",
    "print(st.capitalize())\n",
    "print(st.split(\",\"))\n",
    "print(st.swapcase())\n",
    "print(st.title())\n",
    "print(st.count(\"a\"))\n",
    "print(st.isalnum())\n",
    "print(st.isalpha())\n",
    "print(st.isascii())\n",
    "print(st.isdecimal())\n",
    "print(st.isdigit())\n",
    "print(st.isidentifier)"
   ]
  },
  {
   "cell_type": "code",
   "execution_count": 49,
   "id": "59b08989-9f9d-45e4-8ee2-15b8c8437ab2",
   "metadata": {},
   "outputs": [
    {
     "name": "stdout",
     "output_type": "stream",
     "text": [
      "False\n",
      "False\n",
      "True\n",
      "False\n",
      "False\n",
      "False\n",
      "False\n"
     ]
    }
   ],
   "source": [
    "st = \"dolar fit hai boos\"\n",
    "print(st.isalnum()) # st = \"1234564789\"\n",
    "print(st.isalpha())  # st = \"\"asfgtsadtg\n",
    "print(st.isascii())\n",
    "print(st.isdecimal())\n",
    "print(st.isdigit())\n",
    "print(st.isspace())\n",
    "print(st.isidentifier())"
   ]
  },
  {
   "cell_type": "code",
   "execution_count": null,
   "id": "84787007-71bd-43ca-b3e8-77426b8a69cc",
   "metadata": {},
   "outputs": [],
   "source": []
  }
 ],
 "metadata": {
  "kernelspec": {
   "display_name": "Python 3 (ipykernel)",
   "language": "python",
   "name": "python3"
  },
  "language_info": {
   "codemirror_mode": {
    "name": "ipython",
    "version": 3
   },
   "file_extension": ".py",
   "mimetype": "text/x-python",
   "name": "python",
   "nbconvert_exporter": "python",
   "pygments_lexer": "ipython3",
   "version": "3.12.7"
  }
 },
 "nbformat": 4,
 "nbformat_minor": 5
}
