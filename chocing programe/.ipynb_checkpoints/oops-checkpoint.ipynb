{
 "cells": [
  {
   "cell_type": "markdown",
   "id": "27efc2d3-9cad-4d70-a3e4-065cbe268db3",
   "metadata": {},
   "source": [
    "# opps"
   ]
  },
  {
   "cell_type": "code",
   "execution_count": 9,
   "id": "c4381d43-6e18-47e8-977a-04d03506bdae",
   "metadata": {
    "scrolled": true
   },
   "outputs": [
    {
     "name": "stdout",
     "output_type": "stream",
     "text": [
      "2973334203552\n",
      "2973368702048\n",
      "constructor called\n",
      "2973334203552\n",
      "['__class__', '__delattr__', '__dict__', '__dir__', '__doc__', '__eq__', '__format__', '__ge__', '__getattribute__', '__getstate__', '__gt__', '__hash__', '__init__', '__init_subclass__', '__le__', '__lt__', '__module__', '__ne__', '__new__', '__reduce__', '__reduce_ex__', '__repr__', '__setattr__', '__sizeof__', '__str__', '__subclasshook__', '__weakref__', 'name', 'work']\n"
     ]
    }
   ],
   "source": [
    "class info:\n",
    "    # excecing by __doc__\n",
    "    \"doc string\"\n",
    "    name = \"yash\"\n",
    "    work = \"softwhere devlopment\"\n",
    "    #__init__ this is constructor(this is special method)\n",
    "    #self is reference variable adders of current object \n",
    "    def __init__(self):\n",
    "        print(id(self))\n",
    "        print(\"constructor called\")\n",
    "print(id(info))\n",
    "#calling oobject external\n",
    "a = info()\n",
    "#calling oobject interal\n",
    "a = info\n",
    "print(id(a))\n",
    "# this is called magic method or dendar method\n",
    "print(dir(info))"
   ]
  },
  {
   "cell_type": "code",
   "execution_count": null,
   "id": "eb83445f-ddd6-4f5b-96fc-499ed7144aca",
   "metadata": {},
   "outputs": [],
   "source": [
    "class info:\n",
    "    def __init__(self):\n",
    "        print(id(self))\n",
    "        print(\"constructor called\")\n",
    "    a= info()\n",
    "    print(id(a))\n",
    "    print(id(info))"
   ]
  },
  {
   "cell_type": "code",
   "execution_count": 4,
   "id": "a010a1f4-f056-40fe-bc88-4529e738021b",
   "metadata": {},
   "outputs": [
    {
     "name": "stdout",
     "output_type": "stream",
     "text": [
      "CONSTRUCTION:-\n",
      "CONSTRUCTION:-\n"
     ]
    }
   ],
   "source": [
    "class a:\n",
    "    def __init__(self):\n",
    "        print(\"CONSTRUCTION:-\")\n",
    "result = a()\n",
    "result.__init__()    "
   ]
  },
  {
   "cell_type": "code",
   "execution_count": null,
   "id": "e42ec807-543e-4efc-9e7d-3bc25032c6ce",
   "metadata": {},
   "outputs": [],
   "source": []
  },
  {
   "cell_type": "markdown",
   "id": "f0c0fa9e-e33a-4ec4-b42d-dc8c1082b495",
   "metadata": {},
   "source": [
    "# method overloading "
   ]
  },
  {
   "cell_type": "code",
   "execution_count": 5,
   "id": "f71df53b-5d71-4370-852c-6251ef867c49",
   "metadata": {},
   "outputs": [
    {
     "name": "stdout",
     "output_type": "stream",
     "text": [
      "CONSTRUCTION 2:-\n",
      "CONSTRUCTION 2:-\n"
     ]
    }
   ],
   "source": [
    "class a:\n",
    "    def __init__(self):\n",
    "        print(\"CONSTRUCTION:-\")\n",
    "    def __init__(self):\n",
    "        print(\"CONSTRUCTION 1:-\")\n",
    "    def __init__(self):\n",
    "        print(\"CONSTRUCTION 2:-\")\n",
    "result = a()\n",
    "result.__init__()    "
   ]
  },
  {
   "cell_type": "markdown",
   "id": "8de38753-1c7a-4d4f-880a-033de4b369d8",
   "metadata": {},
   "source": [
    "# basic programe with class object constructor and self "
   ]
  },
  {
   "cell_type": "code",
   "execution_count": 20,
   "id": "d2655961-c2b9-4ea1-8650-872df4e31134",
   "metadata": {},
   "outputs": [
    {
     "name": "stdout",
     "output_type": "stream",
     "text": [
      "yash 20 bhopal\n",
      "yash vardhan 21 bhopal\n"
     ]
    }
   ],
   "source": [
    "class student:\n",
    "    def __init__(self,name,age,city):\n",
    "        self.n = name\n",
    "        self.a = age\n",
    "        self.c = city \n",
    "report = student(\"yash\",20,\"bhopal\")\n",
    "report1 = student('yash vardhan',21,'bhopal')\n",
    "print(report.n,report.a,report.c)\n",
    "print(f'{report1.n} {report1.a} {report1.c}'\n"
   ]
  },
  {
   "cell_type": "code",
   "execution_count": 33,
   "id": "41114db1-1a76-423f-8b36-33fcf2cc55c5",
   "metadata": {},
   "outputs": [
    {
     "name": "stdout",
     "output_type": "stream",
     "text": [
      "2758096670736 2758105187248\n",
      "2758096672240 2758096672240\n",
      "2758096206272 2758096206272\n",
      "kamla horror game\n"
     ]
    }
   ],
   "source": [
    "class student:\n",
    "    school = 'kvs' # (this is called class variable or static variable)\n",
    "    principal = 'kamla horror game'\n",
    "    def __init__(self,name,age,city):\n",
    "        self.n = name # n,a,c is called the intansive variable \n",
    "        self.a = age\n",
    "        self.c = city \n",
    "report = student(\"yash\",20,\"bhopal\")\n",
    "report1 = student('yash',21,'bhopal')\n",
    "print(f'{id(report)} {id(report1)}')\n",
    "print(id(report.n),id(report1.n))\n",
    "print(id(report.school),id(report1.school))\n",
    "print(student.principal)"
   ]
  }
 ],
 "metadata": {
  "kernelspec": {
   "display_name": "Python 3 (ipykernel)",
   "language": "python",
   "name": "python3"
  },
  "language_info": {
   "codemirror_mode": {
    "name": "ipython",
    "version": 3
   },
   "file_extension": ".py",
   "mimetype": "text/x-python",
   "name": "python",
   "nbconvert_exporter": "python",
   "pygments_lexer": "ipython3",
   "version": "3.12.7"
  }
 },
 "nbformat": 4,
 "nbformat_minor": 5
}
