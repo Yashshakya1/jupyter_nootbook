{
 "cells": [
  {
   "cell_type": "markdown",
   "id": "9738d597-f3ab-4cc6-a73f-61d607977277",
   "metadata": {},
   "source": [
    "# loops"
   ]
  },
  {
   "cell_type": "raw",
   "id": "1a30b928-c8f8-4a47-9d23-ee7cc4c0e5e4",
   "metadata": {},
   "source": [
    "there are two types of loops \n",
    "1. while loops (you don'n know how many codes execute in the loop)\n",
    "2. for loops ()"
   ]
  },
  {
   "cell_type": "markdown",
   "id": "c59f2aa7-f344-4418-ae96-47390b314321",
   "metadata": {},
   "source": [
    "# while loops"
   ]
  },
  {
   "cell_type": "code",
   "execution_count": 36,
   "id": "8b47b9d1-841b-4d27-a839-cb8b75c31748",
   "metadata": {},
   "outputs": [
    {
     "name": "stdin",
     "output_type": "stream",
     "text": [
      "ENTER YOUR NUMBER:- 10\n"
     ]
    },
    {
     "name": "stdout",
     "output_type": "stream",
     "text": [
      "1,2,3,4,5,6,7,8,9,10\n"
     ]
    }
   ],
   "source": [
    "n = int(input(\"ENTER YOUR NUMBER:-\"))\n",
    "i =1\n",
    "while(i<=n):\n",
    "    if(i<n):\n",
    "        print(i,end=',')\n",
    "    else:\n",
    "        print(i)\n",
    "    i =i + 1"
   ]
  },
  {
   "cell_type": "code",
   "execution_count": 3,
   "id": "5aa25eb7-4592-4b0a-8de1-14f39c063a5a",
   "metadata": {},
   "outputs": [
    {
     "name": "stdout",
     "output_type": "stream",
     "text": [
      "yash\n",
      "mindcraft\n",
      "GTA\n"
     ]
    }
   ],
   "source": [
    "li =[\"yash\",\"mindcraft\",\"GTA\"]\n",
    "for i in li:\n",
    "    print(i)"
   ]
  },
  {
   "cell_type": "code",
   "execution_count": 26,
   "id": "ffcce455-1205-423d-b25c-348af982189d",
   "metadata": {},
   "outputs": [
    {
     "name": "stdout",
     "output_type": "stream",
     "text": [
      "pdhfji,dhfji,dsf."
     ]
    }
   ],
   "source": [
    "a =\"pdhfji\"\n",
    "b =\"dhfji\"\n",
    "c =\"dsf\"\n",
    "print(a,b,c,sep=',',end='.')"
   ]
  },
  {
   "cell_type": "code",
   "execution_count": null,
   "id": "bb50bc3f-11e3-43a9-987c-5dfe05d2c1d3",
   "metadata": {},
   "outputs": [],
   "source": []
  },
  {
   "cell_type": "code",
   "execution_count": null,
   "id": "87b4a18f-ace8-49cb-805a-2c1fe59fa87b",
   "metadata": {},
   "outputs": [],
   "source": []
  }
 ],
 "metadata": {
  "kernelspec": {
   "display_name": "Python 3 (ipykernel)",
   "language": "python",
   "name": "python3"
  },
  "language_info": {
   "codemirror_mode": {
    "name": "ipython",
    "version": 3
   },
   "file_extension": ".py",
   "mimetype": "text/x-python",
   "name": "python",
   "nbconvert_exporter": "python",
   "pygments_lexer": "ipython3",
   "version": "3.12.7"
  }
 },
 "nbformat": 4,
 "nbformat_minor": 5
}
