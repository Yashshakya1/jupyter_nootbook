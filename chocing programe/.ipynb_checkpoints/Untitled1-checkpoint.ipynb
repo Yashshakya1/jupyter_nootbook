{
 "cells": [
  {
   "cell_type": "markdown",
   "id": "796b245a-ce79-4441-9c47-747221fe2f34",
   "metadata": {},
   "source": [
    "# arthmetic operators"
   ]
  },
  {
   "cell_type": "markdown",
   "id": "74d75205-2164-42b2-a9c2-cb6d79bd981f",
   "metadata": {},
   "source": [
    "addition"
   ]
  },
  {
   "cell_type": "code",
   "execution_count": 5,
   "id": "be272db8-fa12-4626-91b9-859e9e8abfc5",
   "metadata": {},
   "outputs": [
    {
     "name": "stdout",
     "output_type": "stream",
     "text": [
      "14\n",
      "<class 'int'>\n"
     ]
    }
   ],
   "source": [
    "x =  8\n",
    "y=  6\n",
    "z = x + y\n",
    "print(z)\n",
    "print(type(z))"
   ]
  },
  {
   "cell_type": "markdown",
   "id": "658e6472-5e15-4e6b-b436-a4008276dc35",
   "metadata": {},
   "source": [
    "subtration"
   ]
  },
  {
   "cell_type": "code",
   "execution_count": 7,
   "id": "29ee2aed-c95b-4d47-8de8-09cce7d0fd66",
   "metadata": {},
   "outputs": [
    {
     "name": "stdout",
     "output_type": "stream",
     "text": [
      "2\n",
      "<class 'int'>\n"
     ]
    }
   ],
   "source": [
    "x =  8\n",
    "y=  6\n",
    "z = x - y\n",
    "print(z)\n",
    "print(type(z))"
   ]
  },
  {
   "cell_type": "markdown",
   "id": "18db44f2-c373-4e25-b37d-535ee53781f1",
   "metadata": {},
   "source": [
    "divide"
   ]
  },
  {
   "cell_type": "code",
   "execution_count": 12,
   "id": "4f93f922-3db7-40e4-813d-80920dc15bde",
   "metadata": {},
   "outputs": [
    {
     "name": "stdout",
     "output_type": "stream",
     "text": [
      "14\n",
      "1.3333333333333333\n",
      "<class 'float'>\n"
     ]
    }
   ],
   "source": [
    "x =  8\n",
    "y=  6\n",
    "z = x / y\n",
    "print(z)\n",
    "print(type(z))"
   ]
  },
  {
   "cell_type": "markdown",
   "id": "d2690c66-dd50-4fcd-8a2b-2dc942dc054b",
   "metadata": {},
   "source": [
    "remainder"
   ]
  },
  {
   "cell_type": "code",
   "execution_count": 13,
   "id": "a265cfa4-8972-40ba-a3a7-3a013fab55c6",
   "metadata": {},
   "outputs": [
    {
     "name": "stdout",
     "output_type": "stream",
     "text": [
      "2\n",
      "<class 'int'>\n",
      "<class 'int'>\n"
     ]
    }
   ],
   "source": [
    "x =  8\n",
    "y=  6\n",
    "z = x % y\n",
    "print(z)\n",
    "print(type(x))\n",
    "print(type(z))"
   ]
  },
  {
   "cell_type": "markdown",
   "id": "342ea1f7-1aa2-4568-9c98-edcc02fdd433",
   "metadata": {},
   "source": [
    "questiont"
   ]
  },
  {
   "cell_type": "code",
   "execution_count": 14,
   "id": "aa75b83f-a062-41ef-885d-a4ab6a019271",
   "metadata": {},
   "outputs": [
    {
     "name": "stdout",
     "output_type": "stream",
     "text": [
      "1\n",
      "<class 'int'>\n"
     ]
    }
   ],
   "source": [
    "x =  8\n",
    "y=  6\n",
    "z = x // y\n",
    "print(z)\n",
    "print(type(z))"
   ]
  },
  {
   "cell_type": "markdown",
   "id": "e050f62f-5dc4-4bbc-b179-b01f43b5a5ac",
   "metadata": {},
   "source": [
    "expotentioal e(power)x"
   ]
  },
  {
   "cell_type": "code",
   "execution_count": 15,
   "id": "6d00fe1a-4fc3-497c-b807-6f9b499aa8df",
   "metadata": {},
   "outputs": [
    {
     "name": "stdout",
     "output_type": "stream",
     "text": [
      "262144\n",
      "<class 'int'>\n"
     ]
    }
   ],
   "source": [
    "x =  8\n",
    "y=  6\n",
    "z = x ** y\n",
    "print(z)\n",
    "print(type(z))"
   ]
  },
  {
   "cell_type": "code",
   "execution_count": null,
   "id": "8021999b-c8b4-45c5-a73c-339ba03ef4b5",
   "metadata": {},
   "outputs": [],
   "source": []
  }
 ],
 "metadata": {
  "kernelspec": {
   "display_name": "Python 3 (ipykernel)",
   "language": "python",
   "name": "python3"
  },
  "language_info": {
   "codemirror_mode": {
    "name": "ipython",
    "version": 3
   },
   "file_extension": ".py",
   "mimetype": "text/x-python",
   "name": "python",
   "nbconvert_exporter": "python",
   "pygments_lexer": "ipython3",
   "version": "3.12.7"
  }
 },
 "nbformat": 4,
 "nbformat_minor": 5
}
