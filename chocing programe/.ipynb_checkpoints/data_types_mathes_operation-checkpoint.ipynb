{
 "cells": [
  {
   "cell_type": "markdown",
   "id": "676ab7ee-3317-4c18-936c-615de1c08ab0",
   "metadata": {},
   "source": [
    "# mathamatical operation in the list"
   ]
  },
  {
   "cell_type": "code",
   "execution_count": 28,
   "id": "38eaf4ca-1392-4ad8-bd72-680f8daf341f",
   "metadata": {},
   "outputs": [
    {
     "name": "stdout",
     "output_type": "stream",
     "text": [
      "[1, 2, 5, 4, 1, 2, 5, 4, 1, 2, 5, 4, 1, 2, 5, 4, 1, 2, 5, 4]\n",
      "[0, 0, 0, 0, 0]\n",
      "False\n",
      "True\n",
      "True\n"
     ]
    }
   ],
   "source": [
    "li = [1,2,5,4]\n",
    "li1 = [1,2,5,4]\n",
    "li2 = [0]\n",
    "print(li*5)\n",
    "print(li2*5)\n",
    "# membership operator\n",
    "print(7 in li)\n",
    "print(7 not in li)\n",
    "print(li == li1)"
   ]
  },
  {
   "cell_type": "markdown",
   "id": "e545e7e4-a1fa-4c0d-b31c-256590aaad2d",
   "metadata": {},
   "source": [
    "# tuple"
   ]
  },
  {
   "cell_type": "code",
   "execution_count": 8,
   "id": "1c94a026-06ce-4a16-adc6-909395514a88",
   "metadata": {},
   "outputs": [
    {
     "name": "stdout",
     "output_type": "stream",
     "text": [
      "2643677388752\n",
      "4\n",
      "(4, 8, 5, 'yash')\n",
      "<class 'tuple'>\n"
     ]
    }
   ],
   "source": [
    "t = (4,8,5,\"yash\")\n",
    "# print(max(t))\n",
    "# print(min(t))\n",
    "print(id(t))\n",
    "# print(sum(t))\n",
    "print(len(t))\n",
    "print(tu)\n",
    "print(type(tu))\n"
   ]
  },
  {
   "cell_type": "markdown",
   "id": "d52440c7-6712-4579-8972-32e7fbac6818",
   "metadata": {},
   "source": [
    "# method in tuple"
   ]
  },
  {
   "cell_type": "code",
   "execution_count": 2,
   "id": "fb004e97-8dc0-4031-868b-ae9ec4adb93b",
   "metadata": {},
   "outputs": [
    {
     "name": "stdout",
     "output_type": "stream",
     "text": [
      "3\n",
      "0\n",
      "(5, 45, 8, 7, 4, 'asdhf', 5, 45, 8, 7, 4, 'asdhf')\n",
      "(5, 45, 8, 7, 4, 'asdhf')\n"
     ]
    }
   ],
   "source": [
    "tu = (5,45,8,7,4,\"asdhf\")\n",
    "print(tu.index(7))\n",
    "print(tu.count(\"d\"))\n",
    "# index()\n",
    "# count()\n",
    "tu2 = (5,45,8,7,4,\"asdhf\")\n",
    "print(tu*2)\n",
    "tu.index(4)\n",
    "print(tu)"
   ]
  },
  {
   "cell_type": "code",
   "execution_count": null,
   "id": "82a44198-fb23-451c-bcd5-c0022d5e6caf",
   "metadata": {},
   "outputs": [],
   "source": []
  }
 ],
 "metadata": {
  "kernelspec": {
   "display_name": "Python 3 (ipykernel)",
   "language": "python",
   "name": "python3"
  },
  "language_info": {
   "codemirror_mode": {
    "name": "ipython",
    "version": 3
   },
   "file_extension": ".py",
   "mimetype": "text/x-python",
   "name": "python",
   "nbconvert_exporter": "python",
   "pygments_lexer": "ipython3",
   "version": "3.12.7"
  }
 },
 "nbformat": 4,
 "nbformat_minor": 5
}
