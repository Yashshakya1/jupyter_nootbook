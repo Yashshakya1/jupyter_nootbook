{
 "cells": [
  {
   "cell_type": "markdown",
   "id": "27efc2d3-9cad-4d70-a3e4-065cbe268db3",
   "metadata": {},
   "source": [
    "# opps"
   ]
  },
  {
   "cell_type": "code",
   "execution_count": 9,
   "id": "c4381d43-6e18-47e8-977a-04d03506bdae",
   "metadata": {},
   "outputs": [
    {
     "name": "stdout",
     "output_type": "stream",
     "text": [
      "2973334203552\n",
      "2973368702048\n",
      "constructor called\n",
      "2973334203552\n",
      "['__class__', '__delattr__', '__dict__', '__dir__', '__doc__', '__eq__', '__format__', '__ge__', '__getattribute__', '__getstate__', '__gt__', '__hash__', '__init__', '__init_subclass__', '__le__', '__lt__', '__module__', '__ne__', '__new__', '__reduce__', '__reduce_ex__', '__repr__', '__setattr__', '__sizeof__', '__str__', '__subclasshook__', '__weakref__', 'name', 'work']\n"
     ]
    }
   ],
   "source": [
    "class info:\n",
    "    # excecing by __doc__\n",
    "    \"doc string\"\n",
    "    name = \"yash\"\n",
    "    work = \"softwhere devlopment\"\n",
    "    #__init__ this is constructor(this is special method)\n",
    "    #self is reference variable adders of current object \n",
    "    def __init__(self):\n",
    "        print(id(self))\n",
    "        print(\"constructor called\")\n",
    "print(id(info))\n",
    "#calling oobject external\n",
    "a = info()\n",
    "#calling oobject interal\n",
    "a = info\n",
    "print(id(a))\n",
    "# this is called magic method or dendar method\n",
    "print(dir(info))"
   ]
  },
  {
   "cell_type": "code",
   "execution_count": 10,
   "id": "eb83445f-ddd6-4f5b-96fc-499ed7144aca",
   "metadata": {},
   "outputs": [
    {
     "name": "stdout",
     "output_type": "stream",
     "text": [
      "2973369174496\n",
      "constructor called\n",
      "2973369174496\n",
      "2973334203552\n"
     ]
    }
   ],
   "source": [
    "class info:\n",
    "    def __init__(self):\n",
    "        print(id(self))\n",
    "        print(\"constructor called\")\n",
    "    a= info()\n",
    "    print(id(a))\n",
    "    print(id(info))"
   ]
  }
 ],
 "metadata": {
  "kernelspec": {
   "display_name": "Python 3 (ipykernel)",
   "language": "python",
   "name": "python3"
  },
  "language_info": {
   "codemirror_mode": {
    "name": "ipython",
    "version": 3
   },
   "file_extension": ".py",
   "mimetype": "text/x-python",
   "name": "python",
   "nbconvert_exporter": "python",
   "pygments_lexer": "ipython3",
   "version": "3.12.7"
  }
 },
 "nbformat": 4,
 "nbformat_minor": 5
}
