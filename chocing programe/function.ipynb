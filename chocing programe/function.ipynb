{
 "cells": [
  {
   "cell_type": "markdown",
   "id": "2da9b133-8a63-4abe-80f9-1510e419d181",
   "metadata": {},
   "source": [
    "# function"
   ]
  },
  {
   "cell_type": "code",
   "execution_count": 2,
   "id": "83e70d22-1ed4-409d-91a0-7a7e64034e1e",
   "metadata": {},
   "outputs": [
    {
     "name": "stdout",
     "output_type": "stream",
     "text": [
      "<function fun_name at 0x000001BAB5022980>\n",
      "hello\n",
      "hello\n",
      "hellohello\n"
     ]
    }
   ],
   "source": [
    "def fun_name():\n",
    "    return 'hello'\n",
    "print(fun_name)\n",
    "x = fun_name()\n",
    "print(x)\n",
    "print(x)\n",
    "print(x*2)"
   ]
  },
  {
   "cell_type": "markdown",
   "id": "5078cb1b-26fe-42b8-ba6d-7db335a3bffd",
   "metadata": {},
   "source": [
    "# parameter and argument"
   ]
  },
  {
   "cell_type": "markdown",
   "id": "4239009b-1611-4044-8bb8-68ea7cd892c8",
   "metadata": {},
   "source": [
    "# question 1"
   ]
  },
  {
   "cell_type": "code",
   "execution_count": 6,
   "id": "114dd56f-f6b6-4211-8b31-50c9d7274fc2",
   "metadata": {},
   "outputs": [
    {
     "name": "stdin",
     "output_type": "stream",
     "text": [
      "enter your number : 5\n",
      "enter your number : 5\n"
     ]
    },
    {
     "name": "stdout",
     "output_type": "stream",
     "text": [
      "the result is 10\n"
     ]
    }
   ],
   "source": [
    "def add(x,y):\n",
    "    z = x+y\n",
    "    return z\n",
    "a = int(input(\"enter your number :\"))\n",
    "b = int(input(\"enter your number :\"))\n",
    "result = add(a,b)\n",
    "print(f'the result is {result}')"
   ]
  },
  {
   "cell_type": "markdown",
   "id": "5f18fa2d-d2dd-4d6b-b67e-6670ecdfdac0",
   "metadata": {},
   "source": [
    "# types of argument\n",
    "1. postioal argument \n",
    " question 1\n",
    "2. defult argument\n",
    " def fun_name(x = 0,y=0):\n",
    "     line of code \n",
    "     return\n",
    "fun_name()\n",
    "ques. 2\n",
    "3. key_ward argument\n",
    "   ques. 3\n",
    "   "
   ]
  },
  {
   "cell_type": "markdown",
   "id": "72c8f66a-fa30-4c30-98f0-236f53efa5d8",
   "metadata": {},
   "source": [
    "# question 2"
   ]
  },
  {
   "cell_type": "code",
   "execution_count": 9,
   "id": "f6a463fb-525c-4f05-88a2-75cebef0864c",
   "metadata": {},
   "outputs": [
    {
     "name": "stdin",
     "output_type": "stream",
     "text": [
      "enter your number : 5\n",
      "enter your number : 5\n"
     ]
    },
    {
     "name": "stdout",
     "output_type": "stream",
     "text": [
      "the result is 0\n",
      "the result is 5\n",
      "the result is 10\n"
     ]
    }
   ],
   "source": [
    "def add(x = 0,y=0):\n",
    "    z = x+y\n",
    "    return z\n",
    "a = int(input(\"enter your number :\"))\n",
    "b = int(input(\"enter your number :\"))\n",
    "result = add()\n",
    "print(f'the result is {result}')\n",
    "result = add(a)\n",
    "print(f'the result is {result}')\n",
    "result = add(a,b)\n",
    "print(f'the result is {result}')"
   ]
  },
  {
   "cell_type": "markdown",
   "id": "6bea350e-28b5-42c2-8488-a29245599d37",
   "metadata": {},
   "source": [
    "# question 3"
   ]
  },
  {
   "cell_type": "code",
   "execution_count": 18,
   "id": "b2933930-2f12-4524-919e-6313246be457",
   "metadata": {},
   "outputs": [
    {
     "name": "stdin",
     "output_type": "stream",
     "text": [
      "enter your number : 8\n",
      "enter your number : 5\n"
     ]
    },
    {
     "name": "stdout",
     "output_type": "stream",
     "text": [
      " the result is 13\n"
     ]
    }
   ],
   "source": [
    "def add(x,y):\n",
    "    z = x+y\n",
    "    return z\n",
    "a = int(input(\"enter your number :\"))\n",
    "b = int(input(\"enter your number :\"))\n",
    "result = add(y=b,x=a)\n",
    "print(f' the result is {result}')"
   ]
  },
  {
   "cell_type": "code",
   "execution_count": 5,
   "id": "2a0f75e7-2ff0-4a7c-97f7-38cbbc641d9e",
   "metadata": {},
   "outputs": [
    {
     "name": "stdin",
     "output_type": "stream",
     "text": [
      "enter your number :- 5\n"
     ]
    },
    {
     "name": "stdout",
     "output_type": "stream",
     "text": [
      "odd number :- 5\n"
     ]
    }
   ],
   "source": [
    "def eo(n):\n",
    "    if(n%2 == 0):\n",
    "        print(\"even number :-\",n)\n",
    "    else:\n",
    "        print(\"odd number :-\",n)\n",
    "n = int(input(\"enter your number :-\"))\n",
    "result = eo(n)"
   ]
  },
  {
   "cell_type": "code",
   "execution_count": null,
   "id": "2688b5a1-afbd-44f8-9f37-8562042a0769",
   "metadata": {},
   "outputs": [],
   "source": [
    "def check(s):\n",
    "    type(s)\n",
    "    if(s == str):\n",
    "        print(\"string\")\n",
    "    elif(s == int):\n",
    "        print(\"integer\")\n",
    "    else:\n",
    "        print(\"float\")\n",
    "        return s\n",
    "data_types = eval(input(\"enter your value:-\"))\n",
    "res = check(data_types)\n",
    "print(res)"
   ]
  },
  {
   "cell_type": "code",
   "execution_count": null,
   "id": "27538074-1551-4031-98dd-9e71f9085df5",
   "metadata": {},
   "outputs": [],
   "source": []
  }
 ],
 "metadata": {
  "kernelspec": {
   "display_name": "Python 3 (ipykernel)",
   "language": "python",
   "name": "python3"
  },
  "language_info": {
   "codemirror_mode": {
    "name": "ipython",
    "version": 3
   },
   "file_extension": ".py",
   "mimetype": "text/x-python",
   "name": "python",
   "nbconvert_exporter": "python",
   "pygments_lexer": "ipython3",
   "version": "3.12.7"
  }
 },
 "nbformat": 4,
 "nbformat_minor": 5
}
