{
 "cells": [
  {
   "cell_type": "code",
   "execution_count": 1,
   "id": "8e7dfbbe-93a1-45d6-aaad-46ab940a2560",
   "metadata": {},
   "outputs": [
    {
     "name": "stdin",
     "output_type": "stream",
     "text": [
      "enter your radius 5\n"
     ]
    },
    {
     "name": "stdout",
     "output_type": "stream",
     "text": [
      "the area of circle is :- 9812.5\n"
     ]
    }
   ],
   "source": [
    "r = int(input(\"enter your radius\"))\n",
    "area = 3.14*r**r\n",
    "print(\"the area of circle is :-\",area)"
   ]
  },
  {
   "cell_type": "markdown",
   "id": "42d0a215-dfb0-4cd5-8d66-e32562c0907b",
   "metadata": {},
   "source": [
    "# homework\n",
    "q1 find of area square  \n",
    "q2 find of area rectangle  \n",
    "q3 find of area tringle "
   ]
  },
  {
   "cell_type": "code",
   "execution_count": 3,
   "id": "bf40a71f-3510-45f3-ba04-ebe2d571891d",
   "metadata": {},
   "outputs": [
    {
     "name": "stdin",
     "output_type": "stream",
     "text": [
      "enter your lenght:- 5\n",
      "enter your Width:- 4\n"
     ]
    },
    {
     "name": "stdout",
     "output_type": "stream",
     "text": [
      "20\n"
     ]
    }
   ],
   "source": [
    "#question 1\n",
    "length = int(input(\"enter your lenght:-\"))\n",
    "width = int(input(\"enter your Width:-\"))\n",
    "area_of_rectangle = length *width\n",
    "print(area_of_rectangle)"
   ]
  },
  {
   "cell_type": "code",
   "execution_count": 4,
   "id": "264deddd-7c96-4776-b3cd-3c4c6943c1ce",
   "metadata": {},
   "outputs": [
    {
     "name": "stdin",
     "output_type": "stream",
     "text": [
      "enter your side 5\n"
     ]
    },
    {
     "name": "stdout",
     "output_type": "stream",
     "text": [
      "25\n"
     ]
    }
   ],
   "source": [
    "#questions 2\n",
    "side = int(input(\"enter your side\"))\n",
    "area_of_square = side * side \n",
    "print(area_of_square)"
   ]
  },
  {
   "cell_type": "code",
   "execution_count": 17,
   "id": "d053912d-d713-473f-b1e4-872eec7b5164",
   "metadata": {},
   "outputs": [
    {
     "name": "stdin",
     "output_type": "stream",
     "text": [
      "enter your base:- 5\n",
      "enter your height:- 4\n"
     ]
    },
    {
     "name": "stdout",
     "output_type": "stream",
     "text": [
      "10.0\n"
     ]
    }
   ],
   "source": [
    "# questions 3\n",
    "base = int(input(\"enter your base:-\"))\n",
    "h = int(input(\"enter your height:-\"))\n",
    "area_of_tringle = (1/2)*base*h\n",
    "print(area_of_tringle)"
   ]
  },
  {
   "cell_type": "markdown",
   "id": "56d6fe29-c6ec-4900-bf02-1abb1c1de6b9",
   "metadata": {},
   "source": [
    "# wap to calculate age "
   ]
  },
  {
   "cell_type": "code",
   "execution_count": 1,
   "id": "3d28be55-9d12-48e6-a51a-4e6abd96c333",
   "metadata": {},
   "outputs": [
    {
     "name": "stdin",
     "output_type": "stream",
     "text": [
      "enter your age:- 5\n"
     ]
    },
    {
     "name": "stdout",
     "output_type": "stream",
     "text": [
      "you are child\n"
     ]
    }
   ],
   "source": [
    "age = int(input(\"enter your age:-\"))\n",
    "if(age>0 and age<=12):\n",
    "    print(\"you are child\")\n",
    "elif(age>12 and age<=18):\n",
    "    print(\"ender teanage\")\n",
    "elif(age>18 and age<60):\n",
    "    print(\"senior citizen\")\n",
    "else:\n",
    "    print(\"alian\")"
   ]
  },
  {
   "cell_type": "code",
   "execution_count": 14,
   "id": "f110fc59-370d-48c1-a70f-9df435c9f8cd",
   "metadata": {},
   "outputs": [
    {
     "name": "stdin",
     "output_type": "stream",
     "text": [
      "enter your english marks 70\n",
      "enter your hindi marks 50\n",
      "enter your mathes marks 60\n",
      "enter your science marks 68\n"
     ]
    },
    {
     "name": "stdout",
     "output_type": "stream",
     "text": [
      "248.0\n",
      "1st division 62.0\n"
     ]
    }
   ],
   "source": [
    "eng = float(input(\"enter your english marks\"))\n",
    "hindi = float(input(\"enter your hindi marks\"))\n",
    "mathes = float(input(\"enter your mathes marks\"))\n",
    "science = float(input(\"enter your science marks\"))\n",
    "obtained_marks = eng+hindi+mathes+science\n",
    "total_marks = 4*100\n",
    "percentage = (obtained_marks/total_marks)*100\n",
    "if(hindi>=33 and eng>=33 and mathes >=33 and science >=33):\n",
    "    print(obtained_marks)\n",
    "    if(percentage>0 and percentage<35):\n",
    "        print(\"fail\",percentage)\n",
    "    elif(percentage>35 and percentage<45):\n",
    "        print(\"3 division\",percentage)\n",
    "    elif(percentage>45 and percentage<59):\n",
    "        print(\"2nd division\",percentage)\n",
    "    elif(percentage>59 and percentage<75):\n",
    "        print(\"1st division\",percentage)\n",
    "    elif(percentage<0 or percentage>100):\n",
    "        print(\"invalid value you are crazy :-\")\n",
    "    else:\n",
    "        print(\"you are fail\")"
   ]
  },
  {
   "cell_type": "markdown",
   "id": "29eef0d2-013e-4a0f-a3a2-bb55fde994bb",
   "metadata": {},
   "source": [
    " "
   ]
  },
  {
   "cell_type": "code",
   "execution_count": null,
   "id": "c001529a-a96b-4bb2-ba1f-7d3ca6ad1f36",
   "metadata": {},
   "outputs": [],
   "source": [
    "\n"
   ]
  }
 ],
 "metadata": {
  "kernelspec": {
   "display_name": "Python 3 (ipykernel)",
   "language": "python",
   "name": "python3"
  },
  "language_info": {
   "codemirror_mode": {
    "name": "ipython",
    "version": 3
   },
   "file_extension": ".py",
   "mimetype": "text/x-python",
   "name": "python",
   "nbconvert_exporter": "python",
   "pygments_lexer": "ipython3",
   "version": "3.12.7"
  }
 },
 "nbformat": 4,
 "nbformat_minor": 5
}
