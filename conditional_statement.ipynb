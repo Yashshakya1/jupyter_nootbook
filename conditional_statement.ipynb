{
 "cells": [
  {
   "cell_type": "markdown",
   "id": "5e2967d0-b004-4235-a285-42de6fde17d6",
   "metadata": {},
   "source": [
    "# conditional statement "
   ]
  },
  {
   "cell_type": "markdown",
   "id": "38ef7546-f950-4494-855e-0676bfb672f3",
   "metadata": {},
   "source": [
    "* if and else for the single condition "
   ]
  },
  {
   "cell_type": "code",
   "execution_count": 1,
   "id": "0c99a8ac-a14a-4c73-ae4a-a81c4e17e9df",
   "metadata": {},
   "outputs": [
    {
     "name": "stdin",
     "output_type": "stream",
     "text": [
      "enter your number :- 5\n"
     ]
    },
    {
     "name": "stdout",
     "output_type": "stream",
     "text": [
      "this is odd number\n"
     ]
    }
   ],
   "source": [
    "number = int(input(\"enter your number :-\"))\n",
    "if(number % 2 == 0):\n",
    "    print(\"so the number is even\")\n",
    "else:\n",
    "    print(\"this is odd number\")"
   ]
  },
  {
   "cell_type": "markdown",
   "id": "df60bcd8-d746-4784-a801-a49c5ecd8b87",
   "metadata": {},
   "source": [
    "* using the elif for the multicondition statement "
   ]
  },
  {
   "cell_type": "code",
   "execution_count": 6,
   "id": "60a8dd25-d524-492c-b6c1-aeccb9068d34",
   "metadata": {},
   "outputs": [
    {
     "name": "stdin",
     "output_type": "stream",
     "text": [
      "enter your age :- 5\n"
     ]
    },
    {
     "name": "stdout",
     "output_type": "stream",
     "text": [
      "you are not eligible for the party\n"
     ]
    }
   ],
   "source": [
    "age = int(input(\"enter your age :-\"))\n",
    "if(age>18):\n",
    "    print(\"you are eligible for the party\")\n",
    "elif(age==18):\n",
    "    print(\"you are not eligible for this party but you can enter only 15 min\")\n",
    "else:\n",
    "    print(\"you are not eligible for the party\")"
   ]
  },
  {
   "cell_type": "code",
   "execution_count": null,
   "id": "abe0c6a3-3b05-409c-857d-5c499ee4a51e",
   "metadata": {},
   "outputs": [],
   "source": []
  }
 ],
 "metadata": {
  "kernelspec": {
   "display_name": "Python 3 (ipykernel)",
   "language": "python",
   "name": "python3"
  },
  "language_info": {
   "codemirror_mode": {
    "name": "ipython",
    "version": 3
   },
   "file_extension": ".py",
   "mimetype": "text/x-python",
   "name": "python",
   "nbconvert_exporter": "python",
   "pygments_lexer": "ipython3",
   "version": "3.12.7"
  },
  "panel-cell-order": [
   "253fa3e0-a4e7-4ad7-883c-f16daf9c52a7",
   "eba039e4-cef0-46f3-9f6f-81c417a77b63",
   "28cfb10a-2c16-40f3-9203-16af4f703a4e",
   "99499dcf-4a63-4e49-b134-9bc326363394"
  ]
 },
 "nbformat": 4,
 "nbformat_minor": 5
}
