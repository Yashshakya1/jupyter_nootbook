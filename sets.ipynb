{
 "cells": [
  {
   "cell_type": "markdown",
   "id": "1686b85c-65e0-4a21-8d19-8313aad9f0ee",
   "metadata": {},
   "source": [
    "#sets data types"
   ]
  },
  {
   "cell_type": "raw",
   "id": "345d6d97-8ccb-4228-9048-5e5541732c2f",
   "metadata": {},
   "source": [
    "thsi is similar to the dictionary but set is a collection wel defined object "
   ]
  },
  {
   "cell_type": "markdown",
   "id": "7183a3f5-23b1-4660-9647-c93b3be6987c",
   "metadata": {},
   "source": [
    "1. set do not store the repated values\n",
    "2. set do not maintain the order"
   ]
  },
  {
   "cell_type": "code",
   "execution_count": 12,
   "id": "27eab780-f5e3-4369-a6a6-71d20c984662",
   "metadata": {},
   "outputs": [
    {
     "name": "stdout",
     "output_type": "stream",
     "text": [
      "{48, 2, 'yash', 5, 7}\n"
     ]
    }
   ],
   "source": [
    "s = {2,2,5,48,7,\"yash\"}\n",
    "print(s)"
   ]
  },
  {
   "cell_type": "markdown",
   "id": "69bc8999-186c-480b-b186-c5a8b739009d",
   "metadata": {},
   "source": [
    "empty set"
   ]
  },
  {
   "cell_type": "code",
   "execution_count": 7,
   "id": "c07a8b25-bd62-4bc6-8483-dd936099ddad",
   "metadata": {},
   "outputs": [
    {
     "name": "stdout",
     "output_type": "stream",
     "text": [
      "<class 'set'>\n"
     ]
    }
   ],
   "source": [
    "s = set()\n",
    "print(type(s))\n",
    "# dont use like that s = {} this is wrong"
   ]
  },
  {
   "cell_type": "markdown",
   "id": "59e09701-3dba-4083-895e-e8f0a0a78e6c",
   "metadata": {},
   "source": [
    "#method"
   ]
  },
  {
   "cell_type": "markdown",
   "id": "3587149a-4561-4007-95e3-91d79cda9a1e",
   "metadata": {},
   "source": [
    "1. add()\n",
    "   adding any thing in the sets"
   ]
  },
  {
   "cell_type": "code",
   "execution_count": 15,
   "id": "bdb29319-3627-4fbc-92d4-c1dd47f02b86",
   "metadata": {},
   "outputs": [
    {
     "name": "stdout",
     "output_type": "stream",
     "text": [
      "{48, 2, 'yash', 5, 7, 'suraj'} <class 'set'>\n"
     ]
    }
   ],
   "source": [
    "s = {2,2,5,48,7,\"yash\"}\n",
    "s.add(\"suraj\")\n",
    "print(s,type(s))"
   ]
  },
  {
   "cell_type": "markdown",
   "id": "5ef8a99d-bea8-4bd4-8da1-d6fc5fbe7eaa",
   "metadata": {},
   "source": [
    "#operation\n",
    "remove"
   ]
  },
  {
   "cell_type": "code",
   "execution_count": 17,
   "id": "4fe00c08-5db1-4683-9c96-c44f5488b48c",
   "metadata": {},
   "outputs": [
    {
     "name": "stdout",
     "output_type": "stream",
     "text": [
      "{48, 2, 5, 7}\n"
     ]
    }
   ],
   "source": [
    "s = {2,2,5,48,7,\"yash\"}\n",
    "s.remove(\"yash\")\n",
    "print(s)"
   ]
  },
  {
   "cell_type": "markdown",
   "id": "5d5aff8d-7208-4784-939e-4a6aa8beb039",
   "metadata": {},
   "source": [
    "clear()\n",
    "for clear all the values in the set"
   ]
  },
  {
   "cell_type": "code",
   "execution_count": 20,
   "id": "23ec3b1f-9eb9-4f14-96ba-771d4a91c0f8",
   "metadata": {},
   "outputs": [
    {
     "name": "stdout",
     "output_type": "stream",
     "text": [
      "set()\n"
     ]
    }
   ],
   "source": [
    "s = {2,2,5,48,7,\"yash\"}\n",
    "s.clear()\n",
    "print(s)"
   ]
  },
  {
   "cell_type": "markdown",
   "id": "e81f0e11-120a-4539-bc7d-88c8c4697786",
   "metadata": {},
   "source": [
    "union \n",
    "this is mathes wala union"
   ]
  },
  {
   "cell_type": "code",
   "execution_count": 21,
   "id": "12f0a247-8985-43e8-9285-9afc38e1f0a7",
   "metadata": {},
   "outputs": [
    {
     "name": "stdout",
     "output_type": "stream",
     "text": [
      "{2, 'yash', 5, 7, 48}\n"
     ]
    }
   ],
   "source": [
    "s = {2,2,5,48,7,\"yash\"}\n",
    "s1 = {2,2,5,48,7}\n",
    "print(s.union(s1))"
   ]
  },
  {
   "cell_type": "markdown",
   "id": "d684baaa-2fd8-4b2d-91fe-21d750ed9d80",
   "metadata": {},
   "source": [
    "Intersection\n",
    "this is mathes wala"
   ]
  },
  {
   "cell_type": "code",
   "execution_count": 1,
   "id": "b1399b40-734e-4183-9280-cfc3ab5bb19a",
   "metadata": {},
   "outputs": [
    {
     "name": "stdout",
     "output_type": "stream",
     "text": [
      "{48, 2, 5, 7}\n"
     ]
    }
   ],
   "source": [
    "s = {2,2,5,48,7,\"yash\"}\n",
    "s1 = {2,2,5,48,7}\n",
    "print(s.intersection(s1))"
   ]
  },
  {
   "cell_type": "markdown",
   "id": "bc366244-7f60-4b2f-98a8-41490190bf72",
   "metadata": {},
   "source": [
    "   # frozen set"
   ]
  },
  {
   "cell_type": "code",
   "execution_count": 1,
   "id": "9baf8767-82d4-49ed-8343-5ac7e5bc0412",
   "metadata": {},
   "outputs": [
    {
     "name": "stdout",
     "output_type": "stream",
     "text": [
      "frozenset({'ok', 'yash', 45, 87})\n",
      "<class 'frozenset'>\n"
     ]
    }
   ],
   "source": [
    "fro =[\"yash\",\"ok\",45,87,45,\"yash\"]\n",
    "a = frozenset(fro)\n",
    "print(a)\n",
    "print(type(a))"
   ]
  },
  {
   "cell_type": "code",
   "execution_count": null,
   "id": "0fe0b6ef-a00e-41ad-89a0-94947e34f081",
   "metadata": {},
   "outputs": [],
   "source": []
  }
 ],
 "metadata": {
  "kernelspec": {
   "display_name": "Python 3 (ipykernel)",
   "language": "python",
   "name": "python3"
  },
  "language_info": {
   "codemirror_mode": {
    "name": "ipython",
    "version": 3
   },
   "file_extension": ".py",
   "mimetype": "text/x-python",
   "name": "python",
   "nbconvert_exporter": "python",
   "pygments_lexer": "ipython3",
   "version": "3.12.7"
  },
  "panel-cell-order": [
   "253fa3e0-a4e7-4ad7-883c-f16daf9c52a7",
   "eba039e4-cef0-46f3-9f6f-81c417a77b63",
   "28cfb10a-2c16-40f3-9203-16af4f703a4e",
   "99499dcf-4a63-4e49-b134-9bc326363394"
  ]
 },
 "nbformat": 4,
 "nbformat_minor": 5
}
