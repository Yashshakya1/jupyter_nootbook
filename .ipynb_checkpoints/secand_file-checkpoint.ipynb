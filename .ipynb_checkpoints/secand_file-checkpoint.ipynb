version https://git-lfs.github.com/spec/v1
oid sha256:0a892534932a9af45ba12c5ccec91bc4d2b66305a771f609303049eea25b70a4
size 1387
