{
 "cells": [
  {
   "cell_type": "markdown",
   "id": "ff71ee57-2fdd-4474-91ce-9ed1dee2af5c",
   "metadata": {},
   "source": [
    "# opps"
   ]
  },
  {
   "cell_type": "raw",
   "id": "961bd174-96ba-44d8-8f97-85d722d0d309",
   "metadata": {},
   "source": [
    "class:- is a blue print or template for creating a object \n",
    "object:- object are the actual instance of a class"
   ]
  },
  {
   "cell_type": "code",
   "execution_count": 5,
   "id": "c92c8fad-501e-4c10-9017-7af029dcdd8c",
   "metadata": {},
   "outputs": [
    {
     "name": "stdout",
     "output_type": "stream",
     "text": [
      "the station name is [bhopal] and there are [6] platforms\n",
      "the station name is [indore] and there are [6] platforms\n",
      "the station name is [sehore] and there are [2] platforms\n"
     ]
    }
   ],
   "source": [
    "class stations():\n",
    "    def sta_details(self,name,platform_num):\n",
    "        self.name = name\n",
    "        self.platform_num = platform_num\n",
    "    def show_details(self):\n",
    "        print(f'the station name is [{self.name}] and there are [{self.platform_num}] platforms')\n",
    "sta_one =stations()\n",
    "sta_one.sta_details('bhopal',6)\n",
    "sta_two =stations()\n",
    "sta_two.sta_details('indore',6)\n",
    "sta_three =stations()\n",
    "sta_three.sta_details('sehore',2)\n",
    "\n",
    "sta_one.show_details()\n",
    "sta_two.show_details()\n",
    "sta_three.show_details()"
   ]
  },
  {
   "cell_type": "markdown",
   "id": "42b9b3cf-6efe-48a3-9e95-e20cd183b81e",
   "metadata": {},
   "source": [
    "# self "
   ]
  },
  {
   "cell_type": "raw",
   "id": "7217df54-c886-480e-9a22-628a5bdc9968",
   "metadata": {},
   "source": [
    "self is used as the first parameter in instance methods to refer to the current object. It allows methods within the class to access and modify the object's attributes, making each object independent of others."
   ]
  },
  {
   "cell_type": "code",
   "execution_count": 1,
   "id": "73d2cb01-01fe-4438-9232-82b218abc1a5",
   "metadata": {},
   "outputs": [
    {
     "name": "stdout",
     "output_type": "stream",
     "text": [
      "yash 21\n"
     ]
    }
   ],
   "source": [
    "class student():\n",
    "    def details(self,name,age):\n",
    "        self.name = name\n",
    "        self.age = age\n",
    "obj = student()\n",
    "obj.details(\"yash\",21)\n",
    "print(obj.name,obj.age)"
   ]
  }
 ],
 "metadata": {
  "kernelspec": {
   "display_name": "Python 3 (ipykernel)",
   "language": "python",
   "name": "python3"
  },
  "language_info": {
   "codemirror_mode": {
    "name": "ipython",
    "version": 3
   },
   "file_extension": ".py",
   "mimetype": "text/x-python",
   "name": "python",
   "nbconvert_exporter": "python",
   "pygments_lexer": "ipython3",
   "version": "3.12.7"
  }
 },
 "nbformat": 4,
 "nbformat_minor": 5
}
