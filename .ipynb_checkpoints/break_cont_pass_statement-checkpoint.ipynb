{
 "cells": [
  {
   "cell_type": "markdown",
   "id": "94056eed-b1fc-4ca0-ac1c-ff0d9decbaf1",
   "metadata": {},
   "source": [
    "# break statement "
   ]
  },
  {
   "cell_type": "code",
   "execution_count": null,
   "id": "9d3d7787-eefb-4914-b838-648abf656246",
   "metadata": {},
   "outputs": [],
   "source": [
    "for i in range(100):\n",
    "    if(i==50):\n",
    "        break  # this is a break statement \n",
    "    print(i)"
   ]
  },
  {
   "cell_type": "markdown",
   "id": "b131d7f4-fa11-46d1-9e80-4a330af3ba19",
   "metadata": {},
   "source": [
    "# continue statement "
   ]
  },
  {
   "cell_type": "code",
   "execution_count": null,
   "id": "e96de466-caf1-4fba-ac58-f5818d61740a",
   "metadata": {},
   "outputs": [],
   "source": [
    "for i in range(100):\n",
    "    if(i==50):\n",
    "        continue  # skip the iteration statement \n",
    "    print(i)"
   ]
  },
  {
   "cell_type": "markdown",
   "id": "14e1d697-64a7-4928-a02f-ffc0e98347df",
   "metadata": {},
   "source": [
    "# pass statement "
   ]
  },
  {
   "cell_type": "code",
   "execution_count": 29,
   "id": "dd27d75d-a770-47d8-aa29-3eaeb8c20064",
   "metadata": {},
   "outputs": [
    {
     "name": "stdout",
     "output_type": "stream",
     "text": [
      "1\n",
      "2\n",
      "3\n",
      "4\n",
      "5\n",
      "6\n",
      "7\n",
      "8\n",
      "9\n",
      "10\n"
     ]
    }
   ],
   "source": [
    "for i in range(456):\n",
    "    pass # this statement using for to do nothing of this loop \n",
    "i = 1\n",
    "while(i<=10):\n",
    "    print(i)\n",
    "    i= i+1"
   ]
  },
  {
   "cell_type": "code",
   "execution_count": null,
   "id": "ee9e4997-e54b-45e4-aabc-b19fb849f2e5",
   "metadata": {},
   "outputs": [],
   "source": []
  }
 ],
 "metadata": {
  "kernelspec": {
   "display_name": "Python 3 (ipykernel)",
   "language": "python",
   "name": "python3"
  },
  "language_info": {
   "codemirror_mode": {
    "name": "ipython",
    "version": 3
   },
   "file_extension": ".py",
   "mimetype": "text/x-python",
   "name": "python",
   "nbconvert_exporter": "python",
   "pygments_lexer": "ipython3",
   "version": "3.12.7"
  }
 },
 "nbformat": 4,
 "nbformat_minor": 5
}
