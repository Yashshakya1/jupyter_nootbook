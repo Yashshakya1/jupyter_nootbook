{
 "cells": [
  {
   "cell_type": "markdown",
   "id": "253fa3e0-a4e7-4ad7-883c-f16daf9c52a7",
   "metadata": {},
   "source": [
    "#keywarod"
   ]
  },
  {
   "cell_type": "code",
   "execution_count": 4,
   "id": "eba039e4-cef0-46f3-9f6f-81c417a77b63",
   "metadata": {},
   "outputs": [
    {
     "name": "stdout",
     "output_type": "stream",
     "text": [
      "['False', 'None', 'True', 'and', 'as', 'assert', 'async', 'await', 'break', 'class', 'continue', 'def', 'del', 'elif', 'else', 'except', 'finally', 'for', 'from', 'global', 'if', 'import', 'in', 'is', 'lambda', 'nonlocal', 'not', 'or', 'pass', 'raise', 'return', 'try', 'while', 'with', 'yield']\n",
      "35\n"
     ]
    }
   ],
   "source": [
    "import keyword\n",
    "key = keyword.kwlist\n",
    "print(key)\n",
    "print(len(key))"
   ]
  },
  {
   "cell_type": "code",
   "execution_count": 28,
   "id": "28cfb10a-2c16-40f3-9203-16af4f703a4e",
   "metadata": {},
   "outputs": [
    {
     "name": "stdout",
     "output_type": "stream",
     "text": [
      "!\"#$%&'()*+,-./:;<=>?@[\\]^_`{|}~\n",
      "32\n"
     ]
    }
   ],
   "source": [
    "import string\n",
    "symbol = string.punctuation\n",
    "print(symbol)\n",
    "print(len(symbol))"
   ]
  },
  {
   "cell_type": "markdown",
   "id": "99499dcf-4a63-4e49-b134-9bc326363394",
   "metadata": {},
   "source": [
    "# identifiers:-----------"
   ]
  },
  {
   "cell_type": "code",
   "execution_count": null,
   "id": "79eea206-5921-460c-949c-cfce2dd2f90e",
   "metadata": {},
   "outputs": [],
   "source": []
  }
 ],
 "metadata": {
  "kernelspec": {
   "display_name": "Python 3 (ipykernel)",
   "language": "python",
   "name": "python3"
  },
  "language_info": {
   "codemirror_mode": {
    "name": "ipython",
    "version": 3
   },
   "file_extension": ".py",
   "mimetype": "text/x-python",
   "name": "python",
   "nbconvert_exporter": "python",
   "pygments_lexer": "ipython3",
   "version": "3.12.7"
  }
 },
 "nbformat": 4,
 "nbformat_minor": 5
}
