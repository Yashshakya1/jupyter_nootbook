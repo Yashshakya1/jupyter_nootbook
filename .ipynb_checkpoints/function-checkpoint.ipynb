{
 "cells": [
  {
   "cell_type": "markdown",
   "id": "0904412c-1147-43f9-b207-d797cb600b05",
   "metadata": {},
   "source": [
    "# function create and calling"
   ]
  },
  {
   "cell_type": "code",
   "execution_count": 2,
   "id": "a2600a90-6e3f-4de5-973b-fb14b19a59e6",
   "metadata": {},
   "outputs": [
    {
     "name": "stdout",
     "output_type": "stream",
     "text": [
      "Hello from a function\n"
     ]
    }
   ],
   "source": [
    "def my_function():\n",
    "  print(\"Hello from a function\")\n",
    "\n",
    "my_function()"
   ]
  },
  {
   "cell_type": "markdown",
   "id": "7f761c54-6b4b-469f-b847-eebcb57dc34d",
   "metadata": {},
   "source": [
    "# create argument "
   ]
  },
  {
   "cell_type": "code",
   "execution_count": 1,
   "id": "77c77deb-3279-478d-90e4-9aaf979a00c9",
   "metadata": {},
   "outputs": [
    {
     "name": "stdout",
     "output_type": "stream",
     "text": [
      "Emil Refsnes\n",
      "Tobias Refsnes\n",
      "Linus Refsnes\n"
     ]
    }
   ],
   "source": [
    "def my_function(fname):\n",
    "  print(fname + \" Refsnes\")\n",
    "\n",
    "my_function(\"Emil\")\n",
    "my_function(\"Tobias\")\n",
    "my_function(\"Linus\")"
   ]
  },
  {
   "cell_type": "markdown",
   "id": "83c250eb-4c7a-420f-af6e-1f0967cc35ea",
   "metadata": {},
   "source": [
    "# types of argument "
   ]
  },
  {
   "cell_type": "markdown",
   "id": "3416a9a9-eac4-4557-a375-44208a79d73a",
   "metadata": {},
   "source": [
    "1. Default arguments\n",
    "2. Keyword arguments\n",
    "3. Positional arguments\n",
    "4. Arbitrary positional arguments(*parameters) (Variable-length arguments are also known as arbitrary arguments.)\n",
    "{ For arbitrary positional argument, an asterisk (*) is placed before a parameter in function definition which can hold non-keyword variable-length arguments. These arguments will be wrapped up in a tuple.}\n",
    "5. Arbitrary keyword arguments(**parameters)\n",
    " "
   ]
  },
  {
   "cell_type": "code",
   "execution_count": 32,
   "id": "c3cc11d0-381b-4c43-b3dc-b2049c2ea08a",
   "metadata": {},
   "outputs": [
    {
     "name": "stdout",
     "output_type": "stream",
     "text": [
      "15\n",
      "64\n"
     ]
    }
   ],
   "source": [
    "def add(*b):\n",
    "    result=0\n",
    "    for i in b:\n",
    "        result = result + i\n",
    "    return result\n",
    "print(add(1,2,3,4,5))\n",
    "print(add(10,54))"
   ]
  },
  {
   "cell_type": "code",
   "execution_count": null,
   "id": "f5d5ca47-e337-4723-b04e-4bbfad0d301a",
   "metadata": {},
   "outputs": [],
   "source": [
    "def fu (**a):\n",
    "    print(a)\n",
    "    print(type(a))\n",
    "    for i in a.items():\n",
    "        print(i)\n",
    "fu(colour = \"blue\", number = 18, proglang = \"python\" , game = \"basketball\" , pie = 3.14)\n",
    "print(type(a))"
   ]
  }
 ],
 "metadata": {
  "kernelspec": {
   "display_name": "Python 3 (ipykernel)",
   "language": "python",
   "name": "python3"
  },
  "language_info": {
   "codemirror_mode": {
    "name": "ipython",
    "version": 3
   },
   "file_extension": ".py",
   "mimetype": "text/x-python",
   "name": "python",
   "nbconvert_exporter": "python",
   "pygments_lexer": "ipython3",
   "version": "3.12.7"
  },
  "panel-cell-order": [
   "253fa3e0-a4e7-4ad7-883c-f16daf9c52a7",
   "eba039e4-cef0-46f3-9f6f-81c417a77b63",
   "28cfb10a-2c16-40f3-9203-16af4f703a4e",
   "99499dcf-4a63-4e49-b134-9bc326363394"
  ]
 },
 "nbformat": 4,
 "nbformat_minor": 5
}
