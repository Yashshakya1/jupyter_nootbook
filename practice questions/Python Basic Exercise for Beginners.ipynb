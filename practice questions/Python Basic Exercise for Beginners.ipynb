{
 "cells": [
  {
   "cell_type": "markdown",
   "id": "dd89babc-92d3-410e-98a9-5a8603b9b669",
   "metadata": {},
   "source": [
    "# 1. Calculate the multiplication and sum of two numbers"
   ]
  },
  {
   "cell_type": "code",
   "execution_count": 3,
   "id": "f5f5b3ef-4511-4355-ab5b-189a6d41ba31",
   "metadata": {},
   "outputs": [
    {
     "name": "stdin",
     "output_type": "stream",
     "text": [
      "enter your number 1 :- 45\n",
      "enter your number 2 :- 54\n"
     ]
    },
    {
     "name": "stdout",
     "output_type": "stream",
     "text": [
      "this is the sum of two numebr :- 99\n"
     ]
    },
    {
     "name": "stdin",
     "output_type": "stream",
     "text": [
      "enter your number 1 :- 64\n",
      "enter your number 2 :- 64\n"
     ]
    },
    {
     "name": "stdout",
     "output_type": "stream",
     "text": [
      "4096\n"
     ]
    }
   ],
   "source": [
    "addition_num1 = int(input(\"enter your number 1 :-\"))\n",
    "addition_num2 = int(input(\"enter your number 2 :-\"))\n",
    "result = addition_num1 + addition_num2\n",
    "print(f\"this is the sum of two numebr :- {result}\")\n",
    "multip_1 = int(input(\"enter your number 1 :-\"))\n",
    "multip_2 = int(input(\"enter your number 2 :-\"))\n",
    "result1 = multip_1 * multip_2\n",
    "print(result1)"
   ]
  },
  {
   "cell_type": "markdown",
   "id": "816418cd-e566-479e-be34-c2c69bf8341e",
   "metadata": {},
   "source": [
    "# 2.Print the Sum of a Current Number and a Previous number"
   ]
  },
  {
   "cell_type": "code",
   "execution_count": 12,
   "id": "68f87492-3a30-4771-90c4-0dad9953e678",
   "metadata": {},
   "outputs": [
    {
     "name": "stdout",
     "output_type": "stream",
     "text": [
      "Current number 1 previous number 0 sum 1\n",
      "Current number 2 previous number 1 sum 3\n",
      "Current number 3 previous number 2 sum 5\n",
      "Current number 4 previous number 3 sum 7\n",
      "Current number 5 previous number 4 sum 9\n",
      "Current number 6 previous number 5 sum 11\n",
      "Current number 7 previous number 6 sum 13\n",
      "Current number 8 previous number 7 sum 15\n",
      "Current number 9 previous number 8 sum 17\n",
      "Current number 10 previous number 9 sum 19\n"
     ]
    }
   ],
   "source": [
    "previus_num = 0\n",
    "for i in range(1,11):\n",
    "    add = previus_num + i\n",
    "    print(f\"Current number {i} previous number {previus_num} sum {add}\")\n",
    "    previus_num =i"
   ]
  },
  {
   "cell_type": "markdown",
   "id": "ef983c26-1e75-4dd2-af7f-09f0b7606edc",
   "metadata": {},
   "source": [
    " # 3: Print characters present at an even index number"
   ]
  },
  {
   "cell_type": "code",
   "execution_count": 15,
   "id": "81a3b7b3-ed93-4fbb-9637-fe1772566e2e",
   "metadata": {},
   "outputs": [
    {
     "name": "stdin",
     "output_type": "stream",
     "text": [
      "enter your string :- dsgsdgdg\n"
     ]
    },
    {
     "name": "stdout",
     "output_type": "stream",
     "text": [
      "d\n",
      "g\n",
      "d\n",
      "d\n"
     ]
    }
   ],
   "source": [
    "string = input(\"enter your string :-\")\n",
    "length = len(string)\n",
    "for i in range(0,length,2):\n",
    "    print(string[i])"
   ]
  },
  {
   "cell_type": "markdown",
   "id": "b81e7311-74c4-4717-8d01-b88f7140114e",
   "metadata": {},
   "source": [
    "# 4: Check if the first and last numbers of a list are the same"
   ]
  },
  {
   "cell_type": "code",
   "execution_count": 2,
   "id": "04772de1-aa91-45ba-87f0-d70a4a880740",
   "metadata": {},
   "outputs": [
    {
     "name": "stdin",
     "output_type": "stream",
     "text": [
      "enter your element:- 45\n",
      "enter your element:- 54\n",
      "enter your element:- 54\n",
      "enter your element:- 45\n"
     ]
    },
    {
     "name": "stdout",
     "output_type": "stream",
     "text": [
      "true\n",
      "['45', '54', '54', '45']\n"
     ]
    }
   ],
   "source": [
    "li =[]\n",
    "li.append(input(\"enter your element:-\"))\n",
    "li.append(input(\"enter your element:-\"))\n",
    "li.append(input(\"enter your element:-\"))\n",
    "li.append(input(\"enter your element:-\"))\n",
    "first_element = li[0]\n",
    "last_element = li[-1]\n",
    "if(first_element == last_element):\n",
    "    print(\"true\")\n",
    "else:\n",
    "    print(\"false\")\n",
    "print(li)"
   ]
  },
  {
   "cell_type": "markdown",
   "id": "e0e1a90e-aee2-4dcc-b1a6-16e07281883c",
   "metadata": {},
   "source": [
    "# 5: Display numbers divisible by 5"
   ]
  },
  {
   "cell_type": "code",
   "execution_count": 7,
   "id": "1521d7bc-7556-456c-ae02-1b14caca9a8a",
   "metadata": {},
   "outputs": [
    {
     "name": "stdout",
     "output_type": "stream",
     "text": [
      "given list [45, 87, 95, 20, 80, 10]\n",
      "45\n",
      "95\n",
      "20\n",
      "80\n",
      "10\n"
     ]
    }
   ],
   "source": [
    "li = [45,87,95,20,80,10]\n",
    "print(f\"given list {li}\")\n",
    "divisble_by_5 =0\n",
    "for i in li:\n",
    "    if(i %5 ==0):\n",
    "        print(i)"
   ]
  },
  {
   "cell_type": "markdown",
   "id": "49ea09c2-0c4b-4c38-9731-310166826787",
   "metadata": {},
   "source": [
    "# 6: Find the number of occurrences of a substring in a string"
   ]
  },
  {
   "cell_type": "code",
   "execution_count": 11,
   "id": "aff7a549-9588-4313-88f3-da0ea4ca0be7",
   "metadata": {},
   "outputs": [
    {
     "name": "stdin",
     "output_type": "stream",
     "text": [
      "enter your string sdgf\n",
      "enter your sentence f\n"
     ]
    },
    {
     "name": "stdout",
     "output_type": "stream",
     "text": [
      "1\n"
     ]
    }
   ],
   "source": [
    "st = input(\"enter your string\")\n",
    "ward = input(\"enter your sentence\")\n",
    "result = st.count(ward)\n",
    "print(result)"
   ]
  },
  {
   "cell_type": "markdown",
   "id": "e88e1062-1618-42bc-8dc0-bf63affa6499",
   "metadata": {},
   "source": [
    "# 7: Check Palindrome Number"
   ]
  },
  {
   "cell_type": "code",
   "execution_count": 11,
   "id": "58cf8c7b-8db4-459e-8da8-14dc79f27fda",
   "metadata": {},
   "outputs": [
    {
     "name": "stdin",
     "output_type": "stream",
     "text": [
      "enter your number :- 456\n"
     ]
    },
    {
     "name": "stdout",
     "output_type": "stream",
     "text": [
      "456 this number is not a palindrome\n"
     ]
    }
   ],
   "source": [
    "num = input(\"enter your number :-\")\n",
    "first_number = num[0]\n",
    "last_number = num[-1]\n",
    "if(first_number == last_number):\n",
    "    print(f\"{num} yes this number is palindrome\")\n",
    "else:\n",
    "    print(f\"{num} this number is not a palindrome\")"
   ]
  },
  {
   "cell_type": "code",
   "execution_count": 2,
   "id": "5a86ffc5-7f04-41d2-ba3f-57af39977426",
   "metadata": {},
   "outputs": [
    {
     "name": "stdin",
     "output_type": "stream",
     "text": [
      "enter your number :- 454\n"
     ]
    },
    {
     "name": "stdout",
     "output_type": "stream",
     "text": [
      "454 yes this number is palindrome\n"
     ]
    }
   ],
   "source": [
    "orignal_number = input(\"enter your number :-\")\n",
    "revers_number = orignal_number[::-1]\n",
    "if(orignal_number == revers_number):\n",
    "    print(f\"{orignal_number} yes this number is palindrome\")\n",
    "else:\n",
    "    print(f\"{orignal_number} this number is not a palindrome\")"
   ]
  },
  {
   "cell_type": "markdown",
   "id": "a6027fe5-7a9f-4a2b-a98b-b35a8b002d1c",
   "metadata": {},
   "source": [
    "# 8 :Merge two lists using the following condition"
   ]
  },
  {
   "cell_type": "raw",
   "id": "f1fc7a2a-620f-4dc4-ab05-f3dffe6cb4ed",
   "metadata": {},
   "source": [
    "Given two lists of numbers, write Python code to create a new list containing odd numbers from the first list and even numbers from the second list."
   ]
  },
  {
   "cell_type": "code",
   "execution_count": 1,
   "id": "9ad520a6-06db-4d68-920a-f22de49a25a8",
   "metadata": {},
   "outputs": [
    {
     "name": "stdout",
     "output_type": "stream",
     "text": [
      "[25, 35, 40, 60, 90, 84]\n"
     ]
    }
   ],
   "source": [
    "li_1 = [10, 20, 25, 30, 35]\n",
    "li_2 = [40, 45, 60, 75, 90,84,89]\n",
    "new_list = [] \n",
    "for num in li_1:\n",
    "    # this condition for odd\n",
    "    if(num % 2 != 0):\n",
    "        new_list.append(num)\n",
    "for num in li_2:\n",
    "    # this condition for even\n",
    "    if(num % 2 == 0):\n",
    "        new_list.append(num)\n",
    "\n",
    "print(new_list)"
   ]
  },
  {
   "cell_type": "markdown",
   "id": "a33470a3-306d-4b03-9110-9291f6f09145",
   "metadata": {},
   "source": [
    "# 9:  Get each digit from a number in the reverse order."
   ]
  },
  {
   "cell_type": "raw",
   "id": "2ce03151-6cbd-4388-b99f-63eba1e90522",
   "metadata": {},
   "source": [
    "For example, If the given integer number is 7536, the output shall be “6 3 5 7“, with a space separating the digits"
   ]
  },
  {
   "cell_type": "code",
   "execution_count": 3,
   "id": "62a4e945-1b1d-4da3-ba62-6e02bbbf715a",
   "metadata": {},
   "outputs": [
    {
     "name": "stdout",
     "output_type": "stream",
     "text": [
      "given number is:-  7536\n",
      "6 3 5 7 "
     ]
    }
   ],
   "source": [
    "number = 7536\n",
    "print(\"given number is:- \",number)\n",
    "while(number >0):\n",
    "    digits = number % 10 # this line to get the last digit\n",
    "    number = number // 10 # this line for remove the last digit\n",
    "    print(digits,end=\" \")"
   ]
  },
  {
   "cell_type": "markdown",
   "id": "32df986b-fda3-47c9-a419-6c1f96a3283f",
   "metadata": {},
   "source": [
    "# 10: Calculate income tax"
   ]
  },
  {
   "cell_type": "code",
   "execution_count": 11,
   "id": "2016a3b2-ab88-40b1-bbd4-597ac15c04c9",
   "metadata": {},
   "outputs": [
    {
     "name": "stdin",
     "output_type": "stream",
     "text": [
      "enter your income :- 50000\n"
     ]
    },
    {
     "name": "stdout",
     "output_type": "stream",
     "text": [
      "Given income 50000\n",
      "Total tax to pay is 7000.0\n",
      "your income after tex is :- -43000.0\n"
     ]
    }
   ],
   "source": [
    "income = int(input(\"enter your income :-\"))\n",
    "tax_payable = 0\n",
    "print(\"Given income\", income)\n",
    "\n",
    "if income <= 10000:\n",
    "    tax_payable = 0\n",
    "elif income <= 20000:\n",
    "    # no tax on first 10,000\n",
    "    x = income - 10000\n",
    "    # 10% tax\n",
    "    tax_payable = x * 10 / 100\n",
    "else:\n",
    "    # first 10,000\n",
    "    tax_payable = 0\n",
    "\n",
    "    # next 10,000 10% tax\n",
    "    tax_payable = 10000 * 10 / 100\n",
    "\n",
    "    # remaining 20%tax\n",
    "    tax_payable += (income - 20000) * 20 / 100\n",
    "\n",
    "print(\"Total tax to pay is\", tax_payable)\n",
    "print(\"your income after tex is :-\",tax_payable-income)"
   ]
  },
  {
   "cell_type": "code",
   "execution_count": null,
   "id": "c8911151-7692-4e2a-99dd-d32626b4510d",
   "metadata": {},
   "outputs": [],
   "source": []
  },
  {
   "cell_type": "code",
   "execution_count": null,
   "id": "da522d56-3520-46b8-89e3-cdcb945470ba",
   "metadata": {},
   "outputs": [],
   "source": []
  }
 ],
 "metadata": {
  "kernelspec": {
   "display_name": "Python 3 (ipykernel)",
   "language": "python",
   "name": "python3"
  },
  "language_info": {
   "codemirror_mode": {
    "name": "ipython",
    "version": 3
   },
   "file_extension": ".py",
   "mimetype": "text/x-python",
   "name": "python",
   "nbconvert_exporter": "python",
   "pygments_lexer": "ipython3",
   "version": "3.12.7"
  }
 },
 "nbformat": 4,
 "nbformat_minor": 5
}
