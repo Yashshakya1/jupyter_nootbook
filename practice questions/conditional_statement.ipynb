{
 "cells": [
  {
   "cell_type": "markdown",
   "id": "6920300d-12e8-489b-9176-aa3be3060cc5",
   "metadata": {},
   "source": [
    "# 1. Write a program to find the greatest of four numbers entered by the user"
   ]
  },
  {
   "cell_type": "code",
   "execution_count": 2,
   "id": "0353ec9b-db41-4dc2-a52b-682c37210cf4",
   "metadata": {},
   "outputs": [
    {
     "name": "stdin",
     "output_type": "stream",
     "text": [
      "enter your number :- 80\n",
      "enter your number :- 81\n",
      "enter your number :- 70\n",
      "enter your number :- 50\n"
     ]
    },
    {
     "name": "stdout",
     "output_type": "stream",
     "text": [
      "n2 is the greatest number :- 81\n"
     ]
    }
   ],
   "source": [
    "n1 = int(input(\"enter your number :-\"))\n",
    "n2 = int(input(\"enter your number :-\"))\n",
    "n3 = int(input(\"enter your number :-\"))\n",
    "n4 = int(input(\"enter your number :-\"))\n",
    "if(n1 > n2 and n1>n3 and n2 > n4):\n",
    "    print(\"n1 is the greatest number :-\",n1)\n",
    "elif(n2 > n1 and n2>n3 and n2 > n4):\n",
    "    print(\"n2 is the greatest number :-\",n2)\n",
    "elif(n3 > n1 and n3>n2 and n3 > n4):\n",
    "    print(\"n3 is the greatest number :-\",n3)\n",
    "elif(n4 > n1 and n4>n2 and n2 > n3):\n",
    "    print(\"n4 is the greatest number :-\",n4)\n",
    "else:\n",
    "    print(\"enter invalid values\")"
   ]
  },
  {
   "cell_type": "raw",
   "id": "b578ce7c-8c4d-4b93-89d0-e1b1d1e22ee9",
   "metadata": {},
   "source": [
    "2. Write a program to find out whether a student has passed or failed if it requires a\n",
    "total of 40% and at least 33% in each subject to pass. Assume 3 subjects and\n",
    "take marks as an input from the user."
   ]
  },
  {
   "cell_type": "code",
   "execution_count": 21,
   "id": "4345892a-5e58-4dfc-81bb-62f8d4ec96cc",
   "metadata": {},
   "outputs": [
    {
     "name": "stdin",
     "output_type": "stream",
     "text": [
      "enter your eng number  :- 80\n",
      "enter your mathes number :- 70\n",
      "enter your hindi number :- 50\n",
      "enter your science number :- 60\n",
      "enter your sst number :- 1\n"
     ]
    },
    {
     "name": "stdout",
     "output_type": "stream",
     "text": [
      "52.2 %\n",
      "fail\n"
     ]
    }
   ],
   "source": [
    "eng = float(input(\"enter your eng number  :-\"))\n",
    "mathes = float(input(\"enter your mathes number :-\"))\n",
    "hindi = float(input(\"enter your hindi number :-\")) \n",
    "science = float(input(\"enter your science number :-\"))\n",
    "sst = float(input(\"enter your sst number :-\"))\n",
    "sum = eng + mathes + hindi + sst + science\n",
    "percentage = sum/500*100\n",
    "print(percentage,\"%\")\n",
    "if(percentage >80):\n",
    "    print(\"excelent\")\n",
    "elif(percentage > 40 and eng>=33 and mathes >= 33 and hindi >= 33 and science >= 33 and sst >= 33):\n",
    "    print(\"student is pass\")\n",
    "else:\n",
    "    print(\"fail\")"
   ]
  },
  {
   "cell_type": "raw",
   "id": "2e913459-0c0e-4d46-b793-c917722b6437",
   "metadata": {},
   "source": [
    "3. A spam comment is defined as a text containing following keywords:\n",
    " “Make a lot of money”, “buy now”, “subscribe this”, “click this”. Write a program\n",
    " to detect these spams.\n"
   ]
  },
  {
   "cell_type": "code",
   "execution_count": 23,
   "id": "8e193e50-8825-4bee-bd39-215ac98874e5",
   "metadata": {},
   "outputs": [
    {
     "name": "stdin",
     "output_type": "stream",
     "text": [
      "enter your message i am talking from kbc\n"
     ]
    },
    {
     "name": "stdout",
     "output_type": "stream",
     "text": [
      "this message is spam\n"
     ]
    }
   ],
   "source": [
    "s1 = \"click here\"\n",
    "s2 = \"you win i pad\"\n",
    "s3 = \"lotery\"\n",
    "s4 = \"kbc\"\n",
    "s5 = \"girlfriend\"\n",
    "spam = input(\"enter your message\")\n",
    "if(s1 in spam or s2 in spam or s3 in spam or s4 in spam or s5 in spam):\n",
    "    print(\"this message is spam\")\n",
    "else:\n",
    "    print(\"this message is not a spam\")"
   ]
  },
  {
   "cell_type": "raw",
   "id": "a345b5cc-b480-4db7-bab2-b2e3e4b350d9",
   "metadata": {},
   "source": [
    "4. Write a program to find whether a given username contains less than 10\n",
    "characters or not."
   ]
  },
  {
   "cell_type": "code",
   "execution_count": 27,
   "id": "b8482cb6-6a94-4aef-ba4d-43adb9742dd3",
   "metadata": {},
   "outputs": [
    {
     "name": "stdin",
     "output_type": "stream",
     "text": [
      "enter your username :- yashshakya787\n"
     ]
    },
    {
     "name": "stdout",
     "output_type": "stream",
     "text": [
      "this is above the 10 character :- 13\n"
     ]
    }
   ],
   "source": [
    "user_name = input(\"enter your username :-\")\n",
    "length = len(user_name)\n",
    "if(length <10):\n",
    "    print(\"this username is less then 10 character\",length)\n",
    "else:\n",
    "    print(\"this is above the 10 character :-\",length)"
   ]
  },
  {
   "cell_type": "raw",
   "id": "abac987c-84b3-455d-90eb-8aa89c9291b3",
   "metadata": {},
   "source": [
    "5. Write a program which finds out whether a given name is present in a list or not."
   ]
  },
  {
   "cell_type": "code",
   "execution_count": 30,
   "id": "fe83d50e-4f5c-4f84-9f1f-92f551b562a9",
   "metadata": {},
   "outputs": [
    {
     "name": "stdin",
     "output_type": "stream",
     "text": [
      "enter your name suraj\n"
     ]
    },
    {
     "name": "stdout",
     "output_type": "stream",
     "text": [
      "your name is not in the list :- suraj\n"
     ]
    }
   ],
   "source": [
    "li = [\"yash\",\"premchand\",\"anju\",\"tushi\"]\n",
    "name = input(\"enter your name\")\n",
    "if(name in li):\n",
    "    print(\"your name is in the list :-\",name)\n",
    "else:\n",
    "    print(\"your name is not in the list :-\",name)"
   ]
  },
  {
   "cell_type": "markdown",
   "id": "a59c45ea-5562-440f-9ad6-001472898b79",
   "metadata": {},
   "source": [
    "# Check the number is Divisibal by 7 or not"
   ]
  },
  {
   "cell_type": "code",
   "execution_count": 4,
   "id": "c939d5e7-fa2f-4919-8f26-a2463f6e98ed",
   "metadata": {},
   "outputs": [
    {
     "name": "stdin",
     "output_type": "stream",
     "text": [
      "enter your number to check this is integer or not :-  5\n"
     ]
    },
    {
     "name": "stdout",
     "output_type": "stream",
     "text": [
      "this is not Divisibal 7 :- 5\n"
     ]
    }
   ],
   "source": [
    "number = int(input(\"enter your number to check this is integer or not :- \"))\n",
    "if(number % 7 == 0):\n",
    "    print(\"this is Divisibal by 7 \")\n",
    "else:\n",
    "    print(\"this is not Divisibal 7 :-\",number)"
   ]
  },
  {
   "cell_type": "markdown",
   "id": "74b51f34-5b6b-4005-901d-87aa4a0879a8",
   "metadata": {},
   "source": [
    "# calculate the electricity bill and unit entered by the user"
   ]
  },
  {
   "cell_type": "code",
   "execution_count": 9,
   "id": "45ab5a41-80a6-45d8-9b27-71a1de5ff32c",
   "metadata": {},
   "outputs": [
    {
     "name": "stdout",
     "output_type": "stream",
     "text": [
      "1. unit(0 to 100) is free\n",
      "         2. unit(100 to 200) is 5rs\n",
      "         3. unit(200 to 300) is 10rs\n",
      "         4. unit(300 to 400) is 15rs\n",
      "         \n"
     ]
    },
    {
     "name": "stdin",
     "output_type": "stream",
     "text": [
      "Enter the unit here:  45\n"
     ]
    },
    {
     "name": "stdout",
     "output_type": "stream",
     "text": [
      "Your bill is free. Units: 45\n"
     ]
    }
   ],
   "source": [
    "print('''1. unit(0 to 100) is free\n",
    "         2. unit(100 to 200) is 5rs\n",
    "         3. unit(200 to 300) is 10rs\n",
    "         4. unit(300 to 400) is 15rs\n",
    "         ''')\n",
    "unit = int(input(\"Enter the unit here: \"))\n",
    "amount = 0\n",
    "\n",
    "if unit >= 0 and unit <= 100:\n",
    "    print(\"Your bill is free. Units:\", unit)\n",
    "elif unit > 100 and unit <= 200:\n",
    "    amount = (unit - 100) * 5\n",
    "    print(\"Your amount to pay is:\", amount)\n",
    "elif unit > 200 and unit <= 300:\n",
    "    amount = (unit - 100) * 10\n",
    "    print(\"Your amount to pay is:\", amount)\n",
    "elif unit > 300 and unit <= 400:\n",
    "    amount = (unit - 100) * 15\n",
    "    print(\"Your amount to pay is:\", amount)\n",
    "else:\n",
    "    print(\"Invalid input\")\n"
   ]
  },
  {
   "cell_type": "code",
   "execution_count": null,
   "id": "3b5de83f-5388-417e-abae-a41f1d1e1076",
   "metadata": {},
   "outputs": [],
   "source": []
  },
  {
   "cell_type": "code",
   "execution_count": null,
   "id": "86be051c-ca2f-4640-a27b-6729e20f3d80",
   "metadata": {},
   "outputs": [],
   "source": []
  }
 ],
 "metadata": {
  "kernelspec": {
   "display_name": "Python 3 (ipykernel)",
   "language": "python",
   "name": "python3"
  },
  "language_info": {
   "codemirror_mode": {
    "name": "ipython",
    "version": 3
   },
   "file_extension": ".py",
   "mimetype": "text/x-python",
   "name": "python",
   "nbconvert_exporter": "python",
   "pygments_lexer": "ipython3",
   "version": "3.12.7"
  }
 },
 "nbformat": 4,
 "nbformat_minor": 5
}
