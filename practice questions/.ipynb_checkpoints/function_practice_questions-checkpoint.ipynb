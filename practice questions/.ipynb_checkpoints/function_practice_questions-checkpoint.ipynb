{
 "cells": [
  {
   "cell_type": "markdown",
   "id": "cd195fa3-f496-4d6f-b8cb-5a7ece86603d",
   "metadata": {},
   "source": [
    "Exercise 1: Create a function in Python"
   ]
  },
  {
   "cell_type": "code",
   "execution_count": 1,
   "id": "a89dbb93-b982-46c5-ba96-e0783441c57c",
   "metadata": {},
   "outputs": [
    {
     "name": "stdout",
     "output_type": "stream",
     "text": [
      "13\n"
     ]
    }
   ],
   "source": [
    "def sum (a,b):\n",
    "    c = a+b\n",
    "    return c\n",
    "print(sum(5,8))"
   ]
  }
 ],
 "metadata": {
  "kernelspec": {
   "display_name": "Python 3 (ipykernel)",
   "language": "python",
   "name": "python3"
  },
  "language_info": {
   "codemirror_mode": {
    "name": "ipython",
    "version": 3
   },
   "file_extension": ".py",
   "mimetype": "text/x-python",
   "name": "python",
   "nbconvert_exporter": "python",
   "pygments_lexer": "ipython3",
   "version": "3.12.7"
  }
 },
 "nbformat": 4,
 "nbformat_minor": 5
}
