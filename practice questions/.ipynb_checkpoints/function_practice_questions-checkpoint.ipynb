{
 "cells": [
  {
   "cell_type": "markdown",
   "id": "cd195fa3-f496-4d6f-b8cb-5a7ece86603d",
   "metadata": {},
   "source": [
    "Exercise 1: Create a function in Python"
   ]
  },
  {
   "cell_type": "code",
   "execution_count": 1,
   "id": "a89dbb93-b982-46c5-ba96-e0783441c57c",
   "metadata": {},
   "outputs": [
    {
     "name": "stdout",
     "output_type": "stream",
     "text": [
      "13\n"
     ]
    }
   ],
   "source": [
    "def sum (a,b):\n",
    "    c = a+b\n",
    "    return c\n",
    "print(sum(5,8))"
   ]
  },
  {
   "cell_type": "markdown",
   "id": "e5131cc0-8c9a-4348-bda0-4a28ba124b87",
   "metadata": {},
   "source": [
    "# Exercise 2: Return multiple values from a function"
   ]
  },
  {
   "cell_type": "code",
   "execution_count": 1,
   "id": "a52563a8-f1a9-4f93-9a53-0a5867090369",
   "metadata": {},
   "outputs": [
    {
     "name": "stdout",
     "output_type": "stream",
     "text": [
      " the answer will be :- (60, -20)\n"
     ]
    }
   ],
   "source": [
    "def fun (a,b):\n",
    "    difference = a-b\n",
    "    sum = a+b\n",
    "    return sum, difference\n",
    "result = fun(20,40)\n",
    "print(f' the answer will be :- {result}')"
   ]
  },
  {
   "cell_type": "markdown",
   "id": "ce95420e-c165-47d6-af68-7db5fdc9835e",
   "metadata": {},
   "source": [
    "#  Create a function with a default argument"
   ]
  },
  {
   "cell_type": "code",
   "execution_count": 1,
   "id": "c17fcb31-8e7f-400f-977e-dfb3509a8fbe",
   "metadata": {},
   "outputs": [
    {
     "name": "stdout",
     "output_type": "stream",
     "text": [
      "4\n",
      "-1\n"
     ]
    }
   ],
   "source": [
    "def func(a = 1,s = -1): # default argument \n",
    "    c = a+s\n",
    "    return c\n",
    "res = func(5)\n",
    "res1 = func(0)\n",
    "print(res)\n",
    "print(res1)"
   ]
  },
  {
   "cell_type": "markdown",
   "id": "635ab608-5a67-46b3-a1b9-b0de4da9e4ff",
   "metadata": {},
   "source": [
    "# Create an inner function"
   ]
  },
  {
   "cell_type": "code",
   "execution_count": 1,
   "id": "f0bb9248-e45c-47c9-9056-64502f3b593d",
   "metadata": {},
   "outputs": [
    {
     "name": "stdout",
     "output_type": "stream",
     "text": [
      "20\n"
     ]
    }
   ],
   "source": [
    "# outer function\n",
    "def outer_fun(a, b):\n",
    "    square = a ** 2\n",
    "\n",
    "    # inner function\n",
    "    def addition(a, b):\n",
    "        return a + b\n",
    "\n",
    "    # call inner function from outer function\n",
    "    add = addition(a, b)\n",
    "    # add 5 to the result\n",
    "    return add + 5\n",
    "\n",
    "result = outer_fun(5, 10)\n",
    "print(result)"
   ]
  },
  {
   "cell_type": "markdown",
   "id": "df07c8a5-5d52-46ae-af6f-5cff9f5082f0",
   "metadata": {},
   "source": [
    "# Assign a different name to function and call it through the new name"
   ]
  },
  {
   "cell_type": "code",
   "execution_count": 1,
   "id": "c6d93904-2500-4364-8a34-f7fe9b279c58",
   "metadata": {},
   "outputs": [
    {
     "name": "stdout",
     "output_type": "stream",
     "text": [
      "yash 15\n",
      "yash 50\n"
     ]
    }
   ],
   "source": [
    "def student(name,age):\n",
    "    print(name,age)\n",
    "student(\"yash\",15)\n",
    "show_student = student\n",
    "show_student(\"yash\",50)"
   ]
  },
  {
   "cell_type": "markdown",
   "id": "12ad4eb5-9c7a-4030-bc1e-26b85123784c",
   "metadata": {},
   "source": [
    "# Generate a Python list of all the even numbers between 4 to 30"
   ]
  },
  {
   "cell_type": "code",
   "execution_count": 1,
   "id": "f808fb7a-f07f-4a9f-9d22-ec93d0087deb",
   "metadata": {},
   "outputs": [
    {
     "name": "stdout",
     "output_type": "stream",
     "text": [
      "this is eve umer list  [4, 6, 8, 10, 12, 14, 16, 18, 20, 22, 24, 26, 28, 30]\n"
     ]
    }
   ],
   "source": [
    "def even():\n",
    "    li = []\n",
    "    for i in range(4,31,2):\n",
    "          li.append(i)\n",
    "    return li\n",
    "res = even()\n",
    "print(\"this is eve umer list \",res)"
   ]
  },
  {
   "cell_type": "markdown",
   "id": "5ff78831-8332-4b43-bef0-0795b1c5cf31",
   "metadata": {},
   "source": [
    "# Find the largest item from list"
   ]
  },
  {
   "cell_type": "code",
   "execution_count": 1,
   "id": "dd2cc652-99e4-4e5b-afbc-1bbe71b32608",
   "metadata": {},
   "outputs": [
    {
     "name": "stdout",
     "output_type": "stream",
     "text": [
      "25\n"
     ]
    }
   ],
   "source": [
    "li = [8,4,9,25,6]\n",
    "print(max(li))"
   ]
  },
  {
   "cell_type": "markdown",
   "id": "67bb32bb-d67a-4cce-9064-c7bdf11b838e",
   "metadata": {},
   "source": [
    "# Call Function using both positional and keyword arguments"
   ]
  },
  {
   "cell_type": "code",
   "execution_count": 1,
   "id": "4d6e5707-05c0-4eac-8e91-1ccef2604781",
   "metadata": {},
   "outputs": [
    {
     "name": "stdout",
     "output_type": "stream",
     "text": [
      "\n",
      "I have a hamster named Harry.\n",
      "\n",
      "I have a dog named Lucy.\n",
      "\n",
      "I have a cat named Whiskers.\n",
      "\n",
      "I have a goldfish named Buddy.\n"
     ]
    }
   ],
   "source": [
    "def describe_pet(animal_type, pet_name):\n",
    "  print(f\"\\nI have a {animal_type} named {pet_name}.\")\n",
    "\n",
    "# Calling the function using positional arguments\n",
    "describe_pet('hamster', 'Harry')\n",
    "describe_pet('dog', 'Lucy')\n",
    "\n",
    "# Calling the function using keyword arguments\n",
    "describe_pet(animal_type='cat', pet_name='Whiskers')\n",
    "describe_pet(pet_name='Buddy', animal_type='goldfish')"
   ]
  },
  {
   "cell_type": "markdown",
   "id": "9e937b29-c4ab-45b6-a856-38cf33054ff4",
   "metadata": {},
   "source": [
    "# Create a function with keyword arguments"
   ]
  },
  {
   "cell_type": "code",
   "execution_count": 4,
   "id": "2186fff3-4b49-4e1b-a20d-039efba257a8",
   "metadata": {},
   "outputs": [
    {
     "name": "stdout",
     "output_type": "stream",
     "text": [
      "\n",
      "--- Information ---\n",
      "name: Yash shakya\n",
      "age: 20\n",
      "city: Bhppal\n",
      "\n",
      "--- Information ---\n",
      "job: Ai Engineer\n",
      "salary: 75000\n",
      "\n",
      "--- Information ---\n",
      "country: India\n",
      "state: Madhya pradesh\n",
      "zip_code: 402010\n",
      "\n",
      "No information provided.\n"
     ]
    }
   ],
   "source": [
    "def print_info(**kwargs):\n",
    "    if kwargs:  # Check if any keyword arguments were passed\n",
    "        print(\"\\n--- Information ---\")\n",
    "        for key, value in kwargs.items():\n",
    "            print(f\"{key}: {value}\")\n",
    "    else:\n",
    "        print(\"\\nNo information provided.\")\n",
    "\n",
    "# Example calls to the function\n",
    "print_info(name=\"Yash shakya\", age=20, city=\"Bhppal\")\n",
    "print_info(job=\"Ai Engineer\", salary=75000)\n",
    "print_info(country=\"India\", state=\"Madhya pradesh\", zip_code=\"402010\")\n",
    "print_info()  # Call with no arguments"
   ]
  }
 ],
 "metadata": {
  "kernelspec": {
   "display_name": "Python 3 (ipykernel)",
   "language": "python",
   "name": "python3"
  },
  "language_info": {
   "codemirror_mode": {
    "name": "ipython",
    "version": 3
   },
   "file_extension": ".py",
   "mimetype": "text/x-python",
   "name": "python",
   "nbconvert_exporter": "python",
   "pygments_lexer": "ipython3",
   "version": "3.12.7"
  }
 },
 "nbformat": 4,
 "nbformat_minor": 5
}
