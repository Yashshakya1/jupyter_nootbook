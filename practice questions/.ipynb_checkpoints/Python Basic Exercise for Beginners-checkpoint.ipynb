version https://git-lfs.github.com/spec/v1
oid sha256:f5a7c18d442568255a7f7ea2422bd06855e1d78beea8f54a21fc5bb74999585a
size 14663
