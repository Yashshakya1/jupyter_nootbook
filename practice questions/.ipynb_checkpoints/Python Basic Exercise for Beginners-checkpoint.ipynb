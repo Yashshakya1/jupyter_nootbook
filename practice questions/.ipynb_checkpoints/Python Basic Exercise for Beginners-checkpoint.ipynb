{
 "cells": [
  {
   "cell_type": "markdown",
   "id": "dd89babc-92d3-410e-98a9-5a8603b9b669",
   "metadata": {},
   "source": [
    "# 1. Calculate the multiplication and sum of two numbers"
   ]
  },
  {
   "cell_type": "code",
   "execution_count": 3,
   "id": "f5f5b3ef-4511-4355-ab5b-189a6d41ba31",
   "metadata": {},
   "outputs": [
    {
     "name": "stdin",
     "output_type": "stream",
     "text": [
      "enter your number 1 :- 45\n",
      "enter your number 2 :- 54\n"
     ]
    },
    {
     "name": "stdout",
     "output_type": "stream",
     "text": [
      "this is the sum of two numebr :- 99\n"
     ]
    },
    {
     "name": "stdin",
     "output_type": "stream",
     "text": [
      "enter your number 1 :- 64\n",
      "enter your number 2 :- 64\n"
     ]
    },
    {
     "name": "stdout",
     "output_type": "stream",
     "text": [
      "4096\n"
     ]
    }
   ],
   "source": [
    "addition_num1 = int(input(\"enter your number 1 :-\"))\n",
    "addition_num2 = int(input(\"enter your number 2 :-\"))\n",
    "result = addition_num1 + addition_num2\n",
    "print(f\"this is the sum of two numebr :- {result}\")\n",
    "multip_1 = int(input(\"enter your number 1 :-\"))\n",
    "multip_2 = int(input(\"enter your number 2 :-\"))\n",
    "result1 = multip_1 * multip_2\n",
    "print(result1)"
   ]
  },
  {
   "cell_type": "code",
   "execution_count": null,
   "id": "21b33f40-86fd-4b4f-80aa-4689023eee02",
   "metadata": {},
   "outputs": [],
   "source": []
  }
 ],
 "metadata": {
  "kernelspec": {
   "display_name": "Python 3 (ipykernel)",
   "language": "python",
   "name": "python3"
  },
  "language_info": {
   "codemirror_mode": {
    "name": "ipython",
    "version": 3
   },
   "file_extension": ".py",
   "mimetype": "text/x-python",
   "name": "python",
   "nbconvert_exporter": "python",
   "pygments_lexer": "ipython3",
   "version": "3.12.7"
  }
 },
 "nbformat": 4,
 "nbformat_minor": 5
}
