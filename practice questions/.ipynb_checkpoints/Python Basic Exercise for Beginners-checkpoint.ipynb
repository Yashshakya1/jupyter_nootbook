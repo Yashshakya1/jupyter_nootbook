{
 "cells": [
  {
   "cell_type": "markdown",
   "id": "dd89babc-92d3-410e-98a9-5a8603b9b669",
   "metadata": {},
   "source": [
    "# 1. Calculate the multiplication and sum of two numbers"
   ]
  },
  {
   "cell_type": "code",
   "execution_count": 3,
   "id": "f5f5b3ef-4511-4355-ab5b-189a6d41ba31",
   "metadata": {},
   "outputs": [
    {
     "name": "stdin",
     "output_type": "stream",
     "text": [
      "enter your number 1 :- 45\n",
      "enter your number 2 :- 54\n"
     ]
    },
    {
     "name": "stdout",
     "output_type": "stream",
     "text": [
      "this is the sum of two numebr :- 99\n"
     ]
    },
    {
     "name": "stdin",
     "output_type": "stream",
     "text": [
      "enter your number 1 :- 64\n",
      "enter your number 2 :- 64\n"
     ]
    },
    {
     "name": "stdout",
     "output_type": "stream",
     "text": [
      "4096\n"
     ]
    }
   ],
   "source": [
    "addition_num1 = int(input(\"enter your number 1 :-\"))\n",
    "addition_num2 = int(input(\"enter your number 2 :-\"))\n",
    "result = addition_num1 + addition_num2\n",
    "print(f\"this is the sum of two numebr :- {result}\")\n",
    "multip_1 = int(input(\"enter your number 1 :-\"))\n",
    "multip_2 = int(input(\"enter your number 2 :-\"))\n",
    "result1 = multip_1 * multip_2\n",
    "print(result1)"
   ]
  },
  {
   "cell_type": "markdown",
   "id": "816418cd-e566-479e-be34-c2c69bf8341e",
   "metadata": {},
   "source": [
    "# 2.Print the Sum of a Current Number and a Previous number"
   ]
  },
  {
   "cell_type": "code",
   "execution_count": 12,
   "id": "68f87492-3a30-4771-90c4-0dad9953e678",
   "metadata": {},
   "outputs": [
    {
     "name": "stdout",
     "output_type": "stream",
     "text": [
      "Current number 1 previous number 0 sum 1\n",
      "Current number 2 previous number 1 sum 3\n",
      "Current number 3 previous number 2 sum 5\n",
      "Current number 4 previous number 3 sum 7\n",
      "Current number 5 previous number 4 sum 9\n",
      "Current number 6 previous number 5 sum 11\n",
      "Current number 7 previous number 6 sum 13\n",
      "Current number 8 previous number 7 sum 15\n",
      "Current number 9 previous number 8 sum 17\n",
      "Current number 10 previous number 9 sum 19\n"
     ]
    }
   ],
   "source": [
    "previus_num = 0\n",
    "for i in range(1,11):\n",
    "    add = previus_num + i\n",
    "    print(f\"Current number {i} previous number {previus_num} sum {add}\")\n",
    "    previus_num =i"
   ]
  },
  {
   "cell_type": "code",
   "execution_count": null,
   "id": "dda1f2b6-4ff7-41c2-9509-cda9e9789664",
   "metadata": {},
   "outputs": [],
   "source": []
  }
 ],
 "metadata": {
  "kernelspec": {
   "display_name": "Python 3 (ipykernel)",
   "language": "python",
   "name": "python3"
  },
  "language_info": {
   "codemirror_mode": {
    "name": "ipython",
    "version": 3
   },
   "file_extension": ".py",
   "mimetype": "text/x-python",
   "name": "python",
   "nbconvert_exporter": "python",
   "pygments_lexer": "ipython3",
   "version": "3.12.7"
  }
 },
 "nbformat": 4,
 "nbformat_minor": 5
}
