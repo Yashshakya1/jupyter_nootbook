{
 "cells": [
  {
   "cell_type": "markdown",
   "id": "6920300d-12e8-489b-9176-aa3be3060cc5",
   "metadata": {},
   "source": [
    "# 1. Write a program to find the greatest of four numbers entered by the user"
   ]
  },
  {
   "cell_type": "code",
   "execution_count": 2,
   "id": "0353ec9b-db41-4dc2-a52b-682c37210cf4",
   "metadata": {},
   "outputs": [
    {
     "name": "stdin",
     "output_type": "stream",
     "text": [
      "enter your number :- 80\n",
      "enter your number :- 81\n",
      "enter your number :- 70\n",
      "enter your number :- 50\n"
     ]
    },
    {
     "name": "stdout",
     "output_type": "stream",
     "text": [
      "n2 is the greatest number :- 81\n"
     ]
    }
   ],
   "source": [
    "n1 = int(input(\"enter your number :-\"))\n",
    "n2 = int(input(\"enter your number :-\"))\n",
    "n3 = int(input(\"enter your number :-\"))\n",
    "n4 = int(input(\"enter your number :-\"))\n",
    "if(n1 > n2 and n1>n3 and n2 > n4):\n",
    "    print(\"n1 is the greatest number :-\",n1)\n",
    "elif(n2 > n1 and n2>n3 and n2 > n4):\n",
    "    print(\"n2 is the greatest number :-\",n2)\n",
    "elif(n3 > n1 and n3>n2 and n3 > n4):\n",
    "    print(\"n3 is the greatest number :-\",n3)\n",
    "elif(n4 > n1 and n4>n2 and n2 > n3):\n",
    "    print(\"n4 is the greatest number :-\",n4)\n",
    "else:\n",
    "    print(\"enter invalid values\")"
   ]
  },
  {
   "cell_type": "raw",
   "id": "b578ce7c-8c4d-4b93-89d0-e1b1d1e22ee9",
   "metadata": {},
   "source": [
    "2. Write a program to find out whether a student has passed or failed if it requires a\n",
    "total of 40% and at least 33% in each subject to pass. Assume 3 subjects and\n",
    "take marks as an input from the user."
   ]
  },
  {
   "cell_type": "code",
   "execution_count": 21,
   "id": "4345892a-5e58-4dfc-81bb-62f8d4ec96cc",
   "metadata": {},
   "outputs": [
    {
     "name": "stdin",
     "output_type": "stream",
     "text": [
      "enter your eng number  :- 80\n",
      "enter your mathes number :- 70\n",
      "enter your hindi number :- 50\n",
      "enter your science number :- 60\n",
      "enter your sst number :- 1\n"
     ]
    },
    {
     "name": "stdout",
     "output_type": "stream",
     "text": [
      "52.2 %\n",
      "fail\n"
     ]
    }
   ],
   "source": [
    "eng = float(input(\"enter your eng number  :-\"))\n",
    "mathes = float(input(\"enter your mathes number :-\"))\n",
    "hindi = float(input(\"enter your hindi number :-\")) \n",
    "science = float(input(\"enter your science number :-\"))\n",
    "sst = float(input(\"enter your sst number :-\"))\n",
    "sum = eng + mathes + hindi + sst + science\n",
    "percentage = sum/500*100\n",
    "print(percentage,\"%\")\n",
    "if(percentage >80):\n",
    "    print(\"excelent\")\n",
    "elif(percentage > 40 and eng>=33 and mathes >= 33 and hindi >= 33 and science >= 33 and sst >= 33):\n",
    "    print(\"student is pass\")\n",
    "else:\n",
    "    print(\"fail\")"
   ]
  },
  {
   "cell_type": "raw",
   "id": "2e913459-0c0e-4d46-b793-c917722b6437",
   "metadata": {},
   "source": [
    "3. A spam comment is defined as a text containing following keywords:\n",
    " “Make a lot of money”, “buy now”, “subscribe this”, “click this”. Write a program\n",
    " to detect these spams.\n"
   ]
  },
  {
   "cell_type": "code",
   "execution_count": 23,
   "id": "8e193e50-8825-4bee-bd39-215ac98874e5",
   "metadata": {},
   "outputs": [
    {
     "name": "stdin",
     "output_type": "stream",
     "text": [
      "enter your message i am talking from kbc\n"
     ]
    },
    {
     "name": "stdout",
     "output_type": "stream",
     "text": [
      "this message is spam\n"
     ]
    }
   ],
   "source": [
    "s1 = \"click here\"\n",
    "s2 = \"you win i pad\"\n",
    "s3 = \"lotery\"\n",
    "s4 = \"kbc\"\n",
    "s5 = \"girlfriend\"\n",
    "spam = input(\"enter your message\")\n",
    "if(s1 in spam or s2 in spam or s3 in spam or s4 in spam or s5 in spam):\n",
    "    print(\"this message is spam\")\n",
    "else:\n",
    "    print(\"this message is not a spam\")"
   ]
  },
  {
   "cell_type": "raw",
   "id": "a345b5cc-b480-4db7-bab2-b2e3e4b350d9",
   "metadata": {},
   "source": [
    "4. Write a program to find whether a given username contains less than 10\n",
    "characters or not."
   ]
  },
  {
   "cell_type": "code",
   "execution_count": 27,
   "id": "b8482cb6-6a94-4aef-ba4d-43adb9742dd3",
   "metadata": {},
   "outputs": [
    {
     "name": "stdin",
     "output_type": "stream",
     "text": [
      "enter your username :- yashshakya787\n"
     ]
    },
    {
     "name": "stdout",
     "output_type": "stream",
     "text": [
      "this is above the 10 character :- 13\n"
     ]
    }
   ],
   "source": [
    "user_name = input(\"enter your username :-\")\n",
    "length = len(user_name)\n",
    "if(length <10):\n",
    "    print(\"this username is less then 10 character\",length)\n",
    "else:\n",
    "    print(\"this is above the 10 character :-\",length)"
   ]
  },
  {
   "cell_type": "raw",
   "id": "abac987c-84b3-455d-90eb-8aa89c9291b3",
   "metadata": {},
   "source": [
    "5. Write a program which finds out whether a given name is present in a list or not."
   ]
  },
  {
   "cell_type": "code",
   "execution_count": 30,
   "id": "fe83d50e-4f5c-4f84-9f1f-92f551b562a9",
   "metadata": {},
   "outputs": [
    {
     "name": "stdin",
     "output_type": "stream",
     "text": [
      "enter your name suraj\n"
     ]
    },
    {
     "name": "stdout",
     "output_type": "stream",
     "text": [
      "your name is not in the list :- suraj\n"
     ]
    }
   ],
   "source": [
    "li = [\"yash\",\"premchand\",\"anju\",\"tushi\"]\n",
    "name = input(\"enter your name\")\n",
    "if(name in li):\n",
    "    print(\"your name is in the list :-\",name)\n",
    "else:\n",
    "    print(\"your name is not in the list :-\",name)"
   ]
  },
  {
   "cell_type": "code",
   "execution_count": null,
   "id": "034bf05e-390f-47b2-b4b6-2460ec26f8cb",
   "metadata": {},
   "outputs": [],
   "source": []
  }
 ],
 "metadata": {
  "kernelspec": {
   "display_name": "Python 3 (ipykernel)",
   "language": "python",
   "name": "python3"
  },
  "language_info": {
   "codemirror_mode": {
    "name": "ipython",
    "version": 3
   },
   "file_extension": ".py",
   "mimetype": "text/x-python",
   "name": "python",
   "nbconvert_exporter": "python",
   "pygments_lexer": "ipython3",
   "version": "3.12.7"
  }
 },
 "nbformat": 4,
 "nbformat_minor": 5
}
