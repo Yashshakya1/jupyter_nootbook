{
 "cells": [
  {
   "cell_type": "markdown",
   "id": "9c5901d7-ab22-4165-889d-27e23a64295e",
   "metadata": {},
   "source": [
    "# 1. hindi to english translate programe"
   ]
  },
  {
   "cell_type": "code",
   "execution_count": 11,
   "id": "7d8a7011-f174-442b-b459-b68b6bda22b0",
   "metadata": {},
   "outputs": [
    {
     "name": "stdin",
     "output_type": "stream",
     "text": [
      "enter your ward to translate in english :- ghar\n"
     ]
    },
    {
     "name": "stdout",
     "output_type": "stream",
     "text": [
      "Home\n"
     ]
    }
   ],
   "source": [
    "\n",
    "wards = {\n",
    "    \"namaste\": \"Hello\",\n",
    "    \"dhanyavaad\": \"Thank you\",\n",
    "    \"kripya\": \"Please\",\n",
    "    \"haan\": \"Yes\",\n",
    "    \"nahin\": \"No\",\n",
    "    \"paani\": \"Water\",\n",
    "    \"khaana\": \"Food\",\n",
    "    \"acchha\": \"Good\",\n",
    "    \"bura\": \"Bad\",\n",
    "    \"kya\": \"What\",\n",
    "    \"kab\": \"When\",\n",
    "    \"kyon\": \"Why\",\n",
    "    \"kahan\": \"Where\",\n",
    "    \"kaise\": \"How\",\n",
    "    \"main\": \"I / Me\",\n",
    "    \"tum\": \"You (informal)\",\n",
    "    \"aap\": \"You (formal)\",\n",
    "    \"wah\": \"He / She / That\",\n",
    "    \"dost\": \"Friend\",\n",
    "    \"prem\": \"Love\",\n",
    "    \"school\": \"School\",\n",
    "    \"ghar\": \"Home\"\n",
    "}\n",
    "ward = input(\"enter your ward to translate in english :-\")\n",
    "print(wards[ward])"
   ]
  },
  {
   "cell_type": "markdown",
   "id": "4b628bd1-d8e8-4de5-b42d-0cf25603ef49",
   "metadata": {},
   "source": [
    "# 2. eight numbers from the user and display all the unique numbers"
   ]
  },
  {
   "cell_type": "code",
   "execution_count": 10,
   "id": "8c7f709c-fad2-41f1-8d18-a33ac7928b1a",
   "metadata": {},
   "outputs": [
    {
     "name": "stdin",
     "output_type": "stream",
     "text": [
      "enter your number :- 5\n",
      "enter your number :- 4\n",
      "enter your number :- 5\n",
      "enter your number :- 9\n",
      "enter your number :- 9\n",
      "enter your number :- 2\n",
      "enter your number :- 2\n",
      "enter your number :- 1\n"
     ]
    },
    {
     "name": "stdout",
     "output_type": "stream",
     "text": [
      "this is the set of unique numbers {1, 2, 4, 5, 9}\n"
     ]
    }
   ],
   "source": [
    "s = set()\n",
    "number = input(\"enter your number :-\")\n",
    "s.add(int(number))\n",
    "\n",
    "number = input(\"enter your number :-\")\n",
    "s.add(int(number))\n",
    "\n",
    "number = input(\"enter your number :-\")\n",
    "s.add(int(number))\n",
    "number = input(\"enter your number :-\")\n",
    "s.add(int(number))\n",
    "\n",
    "number = input(\"enter your number :-\")\n",
    "s.add(int(number))\n",
    "\n",
    "number = input(\"enter your number :-\")\n",
    "s.add(int(number))\n",
    "\n",
    "number = input(\"enter your number :-\")\n",
    "s.add(int(number))\n",
    "\n",
    "number = input(\"enter your number :-\")\n",
    "s.add(int(number))\n",
    "print(f\"this is the set of unique numbers {s}\")\n"
   ]
  },
  {
   "cell_type": "code",
   "execution_count": null,
   "id": "640763e7-4b40-4646-b5b2-350a437101b6",
   "metadata": {},
   "outputs": [],
   "source": [
    "s = set()\n",
    "s.add(18)\n",
    "s.add(\"18\")\n",
    "print(s)\n",
    "\n",
    "# what will be the lenght of the following set s  (important concept)"
   ]
  },
  {
   "cell_type": "code",
   "execution_count": null,
   "id": "ffd93ee6-eafb-4cad-a4de-01c3f1536509",
   "metadata": {},
   "outputs": [],
   "source": [
    "# In Python, 18 (int) and 18.0 (float) are considered equal:\n",
    "# 18 == 18.0  # True\n",
    "# 18 == '18'  # False\n",
    "\n",
    "s = set()\n",
    "s.add(18)\n",
    "s.add(18.0)\n",
    "s.add('18')\n",
    "print(s)\n",
    "print(len(s))"
   ]
  },
  {
   "cell_type": "markdown",
   "id": "8f4c0511-862a-4b2b-88d0-4b043bfccd3e",
   "metadata": {},
   "source": [
    "# what is the tpye of 's'"
   ]
  },
  {
   "cell_type": "code",
   "execution_count": null,
   "id": "3636e6a3-63b7-4086-8b69-510b6cef0c7a",
   "metadata": {},
   "outputs": [],
   "source": [
    "s = {}\n",
    "print(type(s))"
   ]
  },
  {
   "cell_type": "code",
   "execution_count": null,
   "id": "975ced56-7cb1-4a46-946f-f20f7309cbce",
   "metadata": {},
   "outputs": [],
   "source": []
  }
 ],
 "metadata": {
  "kernelspec": {
   "display_name": "Python 3 (ipykernel)",
   "language": "python",
   "name": "python3"
  },
  "language_info": {
   "codemirror_mode": {
    "name": "ipython",
    "version": 3
   },
   "file_extension": ".py",
   "mimetype": "text/x-python",
   "name": "python",
   "nbconvert_exporter": "python",
   "pygments_lexer": "ipython3",
   "version": "3.12.7"
  }
 },
 "nbformat": 4,
 "nbformat_minor": 5
}
