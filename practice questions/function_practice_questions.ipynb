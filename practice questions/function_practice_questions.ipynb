{
 "cells": [
  {
   "cell_type": "markdown",
   "id": "cd195fa3-f496-4d6f-b8cb-5a7ece86603d",
   "metadata": {},
   "source": [
    "Exercise 1: Create a function in Python"
   ]
  },
  {
   "cell_type": "code",
   "execution_count": 1,
   "id": "a89dbb93-b982-46c5-ba96-e0783441c57c",
   "metadata": {},
   "outputs": [
    {
     "name": "stdout",
     "output_type": "stream",
     "text": [
      "13\n"
     ]
    }
   ],
   "source": [
    "def sum (a,b):\n",
    "    c = a+b\n",
    "    return c\n",
    "print(sum(5,8))"
   ]
  },
  {
   "cell_type": "markdown",
   "id": "e5131cc0-8c9a-4348-bda0-4a28ba124b87",
   "metadata": {},
   "source": [
    "# Exercise 2: Return multiple values from a function"
   ]
  },
  {
   "cell_type": "code",
   "execution_count": 1,
   "id": "a52563a8-f1a9-4f93-9a53-0a5867090369",
   "metadata": {},
   "outputs": [
    {
     "name": "stdout",
     "output_type": "stream",
     "text": [
      " the answer will be :- (60, -20)\n"
     ]
    }
   ],
   "source": [
    "def fun (a,b):\n",
    "    difference = a-b\n",
    "    sum = a+b\n",
    "    return sum, difference\n",
    "result = fun(20,40)\n",
    "print(f' the answer will be :- {result}')"
   ]
  },
  {
   "cell_type": "markdown",
   "id": "ce95420e-c165-47d6-af68-7db5fdc9835e",
   "metadata": {},
   "source": [
    "#  Create a function with a default argument"
   ]
  },
  {
   "cell_type": "code",
   "execution_count": 1,
   "id": "c17fcb31-8e7f-400f-977e-dfb3509a8fbe",
   "metadata": {},
   "outputs": [
    {
     "name": "stdout",
     "output_type": "stream",
     "text": [
      "4\n",
      "-1\n"
     ]
    }
   ],
   "source": [
    "def func(a = 1,s = -1): # default argument \n",
    "    c = a+s\n",
    "    return c\n",
    "res = func(5)\n",
    "res1 = func(0)\n",
    "print(res)\n",
    "print(res1)"
   ]
  },
  {
   "cell_type": "markdown",
   "id": "635ab608-5a67-46b3-a1b9-b0de4da9e4ff",
   "metadata": {},
   "source": [
    "# Create an inner function"
   ]
  },
  {
   "cell_type": "code",
   "execution_count": 12,
   "id": "f0bb9248-e45c-47c9-9056-64502f3b593d",
   "metadata": {},
   "outputs": [
    {
     "name": "stdout",
     "output_type": "stream",
     "text": [
      "20\n"
     ]
    }
   ],
   "source": [
    "# outer function\n",
    "def outer_fun(a, b):\n",
    "    square = a ** 2\n",
    "\n",
    "    # inner function\n",
    "    def addition(a, b):\n",
    "        return a + b\n",
    "\n",
    "    # call inner function from outer function\n",
    "    add = addition(a, b)\n",
    "    # add 5 to the result\n",
    "    return add + 5\n",
    "\n",
    "result = outer_fun(5, 10)\n",
    "print(result)"
   ]
  }
 ],
 "metadata": {
  "kernelspec": {
   "display_name": "Python 3 (ipykernel)",
   "language": "python",
   "name": "python3"
  },
  "language_info": {
   "codemirror_mode": {
    "name": "ipython",
    "version": 3
   },
   "file_extension": ".py",
   "mimetype": "text/x-python",
   "name": "python",
   "nbconvert_exporter": "python",
   "pygments_lexer": "ipython3",
   "version": "3.12.7"
  }
 },
 "nbformat": 4,
 "nbformat_minor": 5
}
