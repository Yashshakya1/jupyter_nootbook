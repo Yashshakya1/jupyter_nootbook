{
 "cells": [
  {
   "cell_type": "markdown",
   "id": "53ccb39e-cd58-4b18-973c-b85ebcb0a379",
   "metadata": {},
   "source": [
    "# Python Program to Find the Square Root"
   ]
  },
  {
   "cell_type": "code",
   "execution_count": 2,
   "id": "ff883332-6b8c-483d-bec5-d7ebeb6909b1",
   "metadata": {},
   "outputs": [
    {
     "name": "stdin",
     "output_type": "stream",
     "text": [
      "enter your number 5\n",
      "enter your power 5\n"
     ]
    },
    {
     "name": "stdout",
     "output_type": "stream",
     "text": [
      "this is your square root :- 3125\n"
     ]
    }
   ],
   "source": [
    "number = int(input(\"enter your number\"))\n",
    "sr = int(input(\"enter your power\"))\n",
    "result = number ** sr\n",
    "print(\"this is your square root :-\",result)"
   ]
  },
  {
   "cell_type": "markdown",
   "id": "615e82ed-e4ec-4bea-b454-bb62dfc72d49",
   "metadata": {},
   "source": [
    "# Python Program to Calculate the Area of a Triangle"
   ]
  },
  {
   "cell_type": "raw",
   "id": "be136f1f-f3b7-476a-8e1c-2ceda70aefe2",
   "metadata": {},
   "source": [
    "formula triangle 1/2 (base * height)"
   ]
  },
  {
   "cell_type": "code",
   "execution_count": 1,
   "id": "d4c9ed85-3833-4155-8df7-bdfe2af36e4d",
   "metadata": {},
   "outputs": [
    {
     "name": "stdin",
     "output_type": "stream",
     "text": [
      "enter your base :- 5\n",
      "enter your base :- 5\n"
     ]
    },
    {
     "name": "stdout",
     "output_type": "stream",
     "text": [
      "area of triangle is :- 12.5\n"
     ]
    }
   ],
   "source": [
    "base = float(input(\"enter your base :-\"))\n",
    "height = float(input(\"enter your base :-\"))\n",
    "triangle = (base * height) * 1/2\n",
    "print(\"area of triangle is :-\",triangle)"
   ]
  },
  {
   "cell_type": "markdown",
   "id": "88b0b4d8-d367-4aa2-9896-4c80e6fceb88",
   "metadata": {},
   "source": [
    "# calculate by the heron's formula "
   ]
  },
  {
   "cell_type": "raw",
   "id": "f9392e32-0618-4ed5-83ff-39657c697a66",
   "metadata": {},
   "source": [
    "s = (a+b+c)/2\n",
    "area = √(s(s-a)*(s-b)*(s-c))"
   ]
  },
  {
   "cell_type": "code",
   "execution_count": 9,
   "id": "84f6d912-4ffd-430e-96a0-0781b942ea60",
   "metadata": {},
   "outputs": [
    {
     "name": "stdin",
     "output_type": "stream",
     "text": [
      "enter your side a :- 5\n",
      "enter your side b :- 5\n",
      "enter your side c :- 5\n"
     ]
    },
    {
     "name": "stdout",
     "output_type": "stream",
     "text": [
      "this is the area of triangle by using the heron's formula :- 10.825317547305483\n"
     ]
    }
   ],
   "source": [
    "import math\n",
    "\n",
    "a = float(input(\"enter your side a :-\"))\n",
    "b = float(input(\"enter your side b :-\"))\n",
    "c = float(input(\"enter your side c :-\"))\n",
    "s = (a + b + c) / 2\n",
    "area = math.sqrt(s * (s - a) * (s - b) * (s - c)) #(** 0.5) <= i can also used 0.5 in power for the square root \n",
    "print(\"this is the area of triangle by using the heron's formula :-\", area)"
   ]
  },
  {
   "cell_type": "code",
   "execution_count": null,
   "id": "c4abf58a-47be-45e4-9508-286dd5232b90",
   "metadata": {},
   "outputs": [],
   "source": []
  }
 ],
 "metadata": {
  "kernelspec": {
   "display_name": "Python 3 (ipykernel)",
   "language": "python",
   "name": "python3"
  },
  "language_info": {
   "codemirror_mode": {
    "name": "ipython",
    "version": 3
   },
   "file_extension": ".py",
   "mimetype": "text/x-python",
   "name": "python",
   "nbconvert_exporter": "python",
   "pygments_lexer": "ipython3",
   "version": "3.12.7"
  }
 },
 "nbformat": 4,
 "nbformat_minor": 5
}
